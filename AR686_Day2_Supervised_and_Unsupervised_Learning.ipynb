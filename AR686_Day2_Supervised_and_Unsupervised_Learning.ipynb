{
  "nbformat": 4,
  "nbformat_minor": 0,
  "metadata": {
    "colab": {
      "name": "AR686_Day2_Supervised_and_Unsupervised_Learning",
      "provenance": [],
      "collapsed_sections": [],
      "toc_visible": true,
      "include_colab_link": true
    },
    "kernelspec": {
      "name": "python3",
      "display_name": "Python 3"
    },
    "accelerator": "GPU"
  },
  "cells": [
    {
      "cell_type": "markdown",
      "metadata": {
        "id": "view-in-github",
        "colab_type": "text"
      },
      "source": [
        "<a href=\"https://colab.research.google.com/github/maipatana/tuar686/blob/master/AR686_Day2_Supervised_and_Unsupervised_Learning.ipynb\" target=\"_parent\"><img src=\"https://colab.research.google.com/assets/colab-badge.svg\" alt=\"Open In Colab\"/></a>"
      ]
    },
    {
      "cell_type": "code",
      "metadata": {
        "colab_type": "code",
        "id": "H-_kezxAjufc",
        "colab": {}
      },
      "source": [
        ""
      ],
      "execution_count": 0,
      "outputs": []
    },
    {
      "cell_type": "markdown",
      "metadata": {
        "id": "A2s1QhagBmFg",
        "colab_type": "text"
      },
      "source": [
        "# Intoduction"
      ]
    },
    {
      "cell_type": "markdown",
      "metadata": {
        "id": "LK3akamsB15Z",
        "colab_type": "text"
      },
      "source": [
        "์Notebook นี้เป็นส่วนหนึ่งของวิชา AR686 คณะสถาปัตยกรรมศาสตร์และการผังเมือง มหาวิทยาลัยธรรมศาสตร์\n",
        "\n",
        "Notebook นี้เป็น tutorial ในเรื่องของ Supervised และ Unsupervised Learning เพื่อวิเคราะห์ข้อมูลรูปแบบต่างๆ"
      ]
    },
    {
      "cell_type": "markdown",
      "metadata": {
        "id": "VAkMmSojC4pv",
        "colab_type": "text"
      },
      "source": [
        "## Recommendations"
      ]
    },
    {
      "cell_type": "markdown",
      "metadata": {
        "id": "AruG3ZKdDQZC",
        "colab_type": "text"
      },
      "source": [
        "เรามาลองสร้าง Recommendations บนเว็บไซค์ของเราให้กับผู้ที่เข้ามาใช้งาน ตามข้อมูลที่ผู้ใช้งานเคยกดให้ดาวผลงานต่างๆบนเว็บไซต์แสดงผลงานของบริษัทเรา (ดาวมีตั้งแต่ 0 ดาว ถึง 5 ดาว)\n"
      ]
    },
    {
      "cell_type": "code",
      "metadata": {
        "id": "siG96eN3DTF7",
        "colab_type": "code",
        "colab": {}
      },
      "source": [
        "projects_stars = {\n",
        "    \"Client 1\": {\"Project 1\": 5, \"Project 2\": 2.5, \"Project 5\": 4.5, \"Project 6\": 3.5, \"Project 11\": 1, \"Project 12\": 5, \"Project 21\": 0, \"Project 22\": 0, \"Project 25\": 2.5}, \n",
        "    \"Client 2\": {\"Project 1\": 3.5, \"Project 2\": 3.5, \"Project 3\": 5, \"Project 4\": 4.5, \"Project 5\": 0, \"Project 6\": 0, \"Project 10\": 2.5, \"Project 11\": 5, \"Project 12\": 4.5, \"Project 20\": 4.5, \"Project 21\": 1, \"Project 22\": 1.5},\n",
        "    \"Client 3\": {\"Project 3\": 3.5, \"Project 4\": 4.5, \"Project 5\": 5, \"Project 6\": 2.5, \"Project 10\": 1.5, \"Project 11\": 1, \"Project 12\": 3, \"Project 16\": 4.5, \"Project 17\": 4.5, \"Project 18\": 4.5, \"Project 20\": 2, \"Project 22\": 2.5}, \n",
        "    \"Client 4\": {\"Project 2\": 4, \"Project 3\": 3.5, \"Project 4\": 5, \"Project 5\": 4.5, \"Project 6\": 2, \"Project 7\": 4, \"Project 10\": 5, \"Project 20\": 1, \"Project 22\": 1.5, \"Project 25\": 2.5}, \n",
        "    \"Client 5\": {\"Project 1\": 4.5, \"Project 4\": 4.5, \"Project 5\": 5, \"Project 6\": 4.5, \"Project 7\": 2, \"Project 10\": 4, \"Project 11\": 5, \"Project 18\": 1, \"Project 20\": 2.5, \"Project 25\": 4.5}, \n",
        "    \"Client 6\": {\"Project 1\": 5, \"Project 3\": 3.5, \"Project 4\": 5, \"Project 5\": 4.5, \"Project 6\": 2, \"Project 7\": 4, \"Project 10\": 5,  \"Project 12\": 3.5, \"Project 20\": 4.5, \"Project 21\": 1.5, \"Project 22\": 2.5}, \n",
        "    \"Client 7\": {\"Project 2\": 0, \"Project 3\": 3.5, \"Project 4\": 5, \"Project 5\": 4.5, \"Project 6\": 2, \"Project 7\": 4, \"Project 10\": 5, \"Project 20\": 1, \"Project 22\": 1.5, \"Project 25\": 5}, \n",
        "    \"Client 8\": {\"Project 1\": 4.5, \"Project 2\": 2.5, \"Project 3\": 0, \"Project 4\": 1.5, \"Project 5\": 0.5, \"Project 6\": 0.5, \"Project 7\": 3.5, \"Project 10\": 5, \"Project 12\": 3.5, \"Project 20\": 2.5, \"Project 21\": 1.5, \"Project 22\": 1.5, \"Project 25\": 3.5},\n",
        "}"
      ],
      "execution_count": 0,
      "outputs": []
    },
    {
      "cell_type": "markdown",
      "metadata": {
        "id": "3QEiJ1K9G1t2",
        "colab_type": "text"
      },
      "source": [
        "Recommendations จาก popularity\n",
        "\n",
        "วิธีง่ายๆที่สามารถใช้ได้คือการดูภาพรวมว่าโปรเจคไหนได้ดาวเยอะที่สุด และทำการแนะนำโปรเจคที่ผู้ใช้งานยังไม่เคยให้ดาว\n",
        "ขั้นตอนแรกเราจะทำการนับจำนวนดาวที่แต่ละผู้ใช้งานได้ให้ดาวไว้\n"
      ]
    },
    {
      "cell_type": "code",
      "metadata": {
        "id": "CKgztTMZDUez",
        "colab_type": "code",
        "colab": {}
      },
      "source": [
        "max_stars = {\"Project \" + str(i):0 for i in range(1,30)}\n",
        "for projects in projects_stars.keys():\n",
        "    for project in projects_stars[projects]:\n",
        "        max_stars[project] = projects_stars[projects][project]"
      ],
      "execution_count": 0,
      "outputs": []
    },
    {
      "cell_type": "code",
      "metadata": {
        "id": "VRv41Dv9DVA3",
        "colab_type": "code",
        "colab": {}
      },
      "source": [
        "import operator\n",
        "sorted_x = sorted(max_stars.items(), key=operator.itemgetter(1), reverse=True)"
      ],
      "execution_count": 0,
      "outputs": []
    },
    {
      "cell_type": "code",
      "metadata": {
        "id": "8rs-lq4VDVVY",
        "colab_type": "code",
        "colab": {}
      },
      "source": [
        "def recommend_popular(user, star_list, results=5):\n",
        "    recommendations = [(project, stars) for project, stars in star_list if project not in projects_stars[user]][:results]\n",
        "    return recommendations"
      ],
      "execution_count": 0,
      "outputs": []
    },
    {
      "cell_type": "code",
      "metadata": {
        "id": "V1nvyQIcDVeR",
        "colab_type": "code",
        "colab": {}
      },
      "source": [
        "recommend_popular('Client 4', sorted_x)"
      ],
      "execution_count": 0,
      "outputs": []
    },
    {
      "cell_type": "markdown",
      "metadata": {
        "id": "NBJJLyOfDVkp",
        "colab_type": "text"
      },
      "source": [
        "Collaborative filtering \n",
        "\n",
        "ซึ่งเป็นการนำข้อมูลของผู้ใช้งานหลายๆคนมามองหาว่าใครมีความชอบคล้ายๆกับใคร และลองแนะนำผลงานอื่นๆที่ผู้ใช้งานน่าจะชอบ โดยดูจากคนที่มีความชอบคล้ายๆผู้ใช้งานคนนั้นๆชอบ"
      ]
    },
    {
      "cell_type": "code",
      "metadata": {
        "id": "wZUiGRZsDVqO",
        "colab_type": "code",
        "colab": {}
      },
      "source": [
        ""
      ],
      "execution_count": 0,
      "outputs": []
    },
    {
      "cell_type": "code",
      "metadata": {
        "id": "6X0RVoO6HDEr",
        "colab_type": "code",
        "colab": {}
      },
      "source": [
        ""
      ],
      "execution_count": 0,
      "outputs": []
    },
    {
      "cell_type": "code",
      "metadata": {
        "id": "5GY2JVBkHDMS",
        "colab_type": "code",
        "colab": {}
      },
      "source": [
        ""
      ],
      "execution_count": 0,
      "outputs": []
    },
    {
      "cell_type": "code",
      "metadata": {
        "id": "KvdMp6o5HDT4",
        "colab_type": "code",
        "colab": {}
      },
      "source": [
        ""
      ],
      "execution_count": 0,
      "outputs": []
    },
    {
      "cell_type": "code",
      "metadata": {
        "id": "sVoeGim8HDhs",
        "colab_type": "code",
        "colab": {}
      },
      "source": [
        ""
      ],
      "execution_count": 0,
      "outputs": []
    },
    {
      "cell_type": "markdown",
      "metadata": {
        "id": "JUgC-wF1DV02",
        "colab_type": "text"
      },
      "source": [
        "## Customer Segmentation"
      ]
    },
    {
      "cell_type": "code",
      "metadata": {
        "id": "XwbOKjoiDZdC",
        "colab_type": "code",
        "colab": {}
      },
      "source": [
        "import numpy as np\n",
        "import pandas as pd\n",
        "\n",
        "from sklearn.cluster import KMeans # Kmeans\n",
        "\n",
        "# plotting package\n",
        "import matplotlib.pyplot as plt\n",
        "import seaborn as sns "
      ],
      "execution_count": 0,
      "outputs": []
    },
    {
      "cell_type": "code",
      "metadata": {
        "id": "0tZPou8hIkRl",
        "colab_type": "code",
        "colab": {}
      },
      "source": [
        "## Download Dataset\n",
        "!wget https://ar686.s3-ap-southeast-1.amazonaws.com/CLV.csv"
      ],
      "execution_count": 0,
      "outputs": []
    },
    {
      "cell_type": "code",
      "metadata": {
        "id": "WcUGsr5qDZ7F",
        "colab_type": "code",
        "colab": {}
      },
      "source": [
        "#Read the csv file\n",
        "data_df = pd.read_csv('CLV.csv')"
      ],
      "execution_count": 0,
      "outputs": []
    },
    {
      "cell_type": "code",
      "metadata": {
        "id": "8AK-YzcDDaAZ",
        "colab_type": "code",
        "colab": {}
      },
      "source": [
        "#Explore the dataset\n",
        "data_df.head()#top 5 columns\n"
      ],
      "execution_count": 0,
      "outputs": []
    },
    {
      "cell_type": "code",
      "metadata": {
        "id": "vb_lG5ckDaFo",
        "colab_type": "code",
        "colab": {}
      },
      "source": [
        "# Visualization of the result\n",
        "\n",
        "plt.scatter(x = data_df['INCOME'],\n",
        "            y = data_df['SPEND'])\n",
        "\n",
        "plt.xlabel('Income')\n",
        "plt.ylabel('Spend')\n",
        "\n",
        "plt.show()"
      ],
      "execution_count": 0,
      "outputs": []
    },
    {
      "cell_type": "code",
      "metadata": {
        "id": "K9slM9zODaKa",
        "colab_type": "code",
        "colab": {}
      },
      "source": [
        ""
      ],
      "execution_count": 0,
      "outputs": []
    },
    {
      "cell_type": "code",
      "metadata": {
        "id": "OKRtL3m-H3Me",
        "colab_type": "code",
        "colab": {}
      },
      "source": [
        "SSE_list = [] # initilize SSE empty list\n",
        "\n",
        "for k in range(1, 10):\n",
        "    \n",
        "    model = KMeans(n_clusters = k) # create model\n",
        "    model.fit(data_df) # fit model to X data\n",
        "    \n",
        "    SSE = model.inertia_ # get the inertia  sum of squared error\n",
        "    SSE_list.append(SSE) # keep result to list\n",
        "    \n",
        "    print('Current k is %d, sum distance = %.1f '%(k, SSE)) \n",
        "    # print the result to keep track performance"
      ],
      "execution_count": 0,
      "outputs": []
    },
    {
      "cell_type": "code",
      "metadata": {
        "id": "uLfJ8hS2H3R7",
        "colab_type": "code",
        "colab": {}
      },
      "source": [
        "# This is a function to fit model and visualize the result basd on n_cluster = k\n",
        "\n",
        "\n",
        "def plot_customer_segmentation(data_df, k):\n",
        "\n",
        "    # create model\n",
        "    model = KMeans(n_clusters = k)\n",
        "    model.fit(data_df)\n",
        "    y_pred = model.predict(data_df)\n",
        "\n",
        "    # visualize result \n",
        "    plt.scatter(data_df.iloc[:,0],\n",
        "                data_df.iloc[:,1], \n",
        "                c = y_pred\n",
        "               )\n",
        "\n",
        "    # add centroid point\n",
        "    plt.scatter(model.cluster_centers_[:,0],\n",
        "                model.cluster_centers_[:,1],\n",
        "                s=100, # size of marker\n",
        "                marker='s', # shape of marker\n",
        "                c='red', # color of marker\n",
        "                alpha=0.7, # transparency\n",
        "               )  \n",
        "\n",
        "\n",
        "    # decoration\n",
        "    plt.xlabel(data_df.columns[0])\n",
        "    plt.ylabel(data_df.columns[1])\n",
        "    plt.title('Result of K-Mean Clustering of %d Cluster'%k)\n",
        "\n",
        "\n",
        "    plt.show() # show the scatter plot\n",
        "\n"
      ],
      "execution_count": 0,
      "outputs": []
    },
    {
      "cell_type": "code",
      "metadata": {
        "id": "GpEB8rPrH3XT",
        "colab_type": "code",
        "colab": {}
      },
      "source": [
        "plot_customer_segmentation(data_df, 5)"
      ],
      "execution_count": 0,
      "outputs": []
    },
    {
      "cell_type": "markdown",
      "metadata": {
        "id": "rctQJLf7DaPG",
        "colab_type": "text"
      },
      "source": [
        "### Exercise\n",
        "\n",
        "ทดลองเปลี่ยนจำนวน k และลองพยายามตั้งชื่อกลุ่มของลูกค้าตามลักษณะข้อมูล"
      ]
    },
    {
      "cell_type": "code",
      "metadata": {
        "id": "iMCQ8dXBIJLF",
        "colab_type": "code",
        "colab": {}
      },
      "source": [
        "plot_customer_segmentation(data_df, 4)"
      ],
      "execution_count": 0,
      "outputs": []
    },
    {
      "cell_type": "markdown",
      "metadata": {
        "id": "hU8LjxNeIJQl",
        "colab_type": "text"
      },
      "source": [
        "#### ตัวอย่าง\n",
        "* Cluster 1: Low income\n",
        "* Cluster 2: Medium income with low spending    \n",
        "* Cluster 3: Medium income with high spending \n",
        "* Cluster 4: High income   "
      ]
    },
    {
      "cell_type": "code",
      "metadata": {
        "id": "G6xIOKtFIJVz",
        "colab_type": "code",
        "colab": {}
      },
      "source": [
        ""
      ],
      "execution_count": 0,
      "outputs": []
    },
    {
      "cell_type": "code",
      "metadata": {
        "id": "tFADfqsQIJaK",
        "colab_type": "code",
        "colab": {}
      },
      "source": [
        ""
      ],
      "execution_count": 0,
      "outputs": []
    },
    {
      "cell_type": "markdown",
      "metadata": {
        "id": "ncTtLzN6DaT7",
        "colab_type": "text"
      },
      "source": [
        "## Prediction with Regression 1"
      ]
    },
    {
      "cell_type": "code",
      "metadata": {
        "id": "N1js-pruDeAS",
        "colab_type": "code",
        "colab": {}
      },
      "source": [
        "from sklearn.linear_model import LinearRegression # Linear regression model\n",
        "import pandas as pd\n",
        "import matplotlib.pyplot as plt"
      ],
      "execution_count": 0,
      "outputs": []
    },
    {
      "cell_type": "code",
      "metadata": {
        "id": "FNPZvzdeO1d6",
        "colab_type": "code",
        "colab": {}
      },
      "source": [
        "!wget https://ar686.s3-ap-southeast-1.amazonaws.com/TravelTime_HomeOffice.xlsx"
      ],
      "execution_count": 0,
      "outputs": []
    },
    {
      "cell_type": "code",
      "metadata": {
        "id": "kokDaHVfDfAa",
        "colab_type": "code",
        "colab": {}
      },
      "source": [
        "data_df = pd.read_excel('TravelTime_HomeOffice.xlsx')\n",
        "data_df.head()"
      ],
      "execution_count": 0,
      "outputs": []
    },
    {
      "cell_type": "code",
      "metadata": {
        "id": "1Id8tnykDfFC",
        "colab_type": "code",
        "colab": {}
      },
      "source": [
        "# set X, y parameter\n",
        "X = data_df[['Delay']] # X must be dataframe, not series : [[col_name]]\n",
        "y = data_df['TravelTime']"
      ],
      "execution_count": 0,
      "outputs": []
    },
    {
      "cell_type": "code",
      "metadata": {
        "id": "L9L0uGO2DfJ6",
        "colab_type": "code",
        "colab": {}
      },
      "source": [
        "# visualization of the data\n",
        "\n",
        "plt.scatter(X,y)\n",
        "\n",
        "plt.xlabel('Delay Departure Time from 5:30 AM')\n",
        "plt.ylabel('Travel Time to Office (min)')\n",
        "\n",
        "plt.show()"
      ],
      "execution_count": 0,
      "outputs": []
    },
    {
      "cell_type": "code",
      "metadata": {
        "id": "CidnG_n0DfOa",
        "colab_type": "code",
        "colab": {}
      },
      "source": [
        "# create model\n",
        "model = LinearRegression() "
      ],
      "execution_count": 0,
      "outputs": []
    },
    {
      "cell_type": "code",
      "metadata": {
        "id": "KMBLPNjiL33o",
        "colab_type": "code",
        "colab": {}
      },
      "source": [
        "# fit model with x and y data\n",
        "# note: if use pandas, X must be dataframe as an input for this model that's why [[]]\n",
        "model.fit(X,y) "
      ],
      "execution_count": 0,
      "outputs": []
    },
    {
      "cell_type": "code",
      "metadata": {
        "id": "PERYtFcYL389",
        "colab_type": "code",
        "colab": {}
      },
      "source": [
        "y_pred = model.predict(X)\n",
        "y_pred"
      ],
      "execution_count": 0,
      "outputs": []
    },
    {
      "cell_type": "code",
      "metadata": {
        "id": "MyfylBqqL4B_",
        "colab_type": "code",
        "colab": {}
      },
      "source": [
        "plt.scatter(X,y)\n",
        "plt.plot(X,y_pred,'r') #[Added] plot the line\n",
        "plt.text(40,40,'Y = %.4fX + %.4f' % (model.coef_, model.intercept_))\n",
        "\n",
        "plt.xlabel('Delay Departure Time from 5:30 AM')\n",
        "plt.ylabel('Travel Time to Office (min)')\n",
        "\n",
        "plt.show()"
      ],
      "execution_count": 0,
      "outputs": []
    },
    {
      "cell_type": "markdown",
      "metadata": {
        "id": "jC_J-SC3DfTK",
        "colab_type": "text"
      },
      "source": [
        "## Prediction with Regression 2"
      ]
    },
    {
      "cell_type": "code",
      "metadata": {
        "id": "qUTvDa9FMeQ2",
        "colab_type": "code",
        "colab": {}
      },
      "source": [
        "import numpy as np\n",
        "from sklearn.linear_model import LinearRegression\n",
        "import pandas as pd\n",
        "import matplotlib.pyplot as plt\n"
      ],
      "execution_count": 0,
      "outputs": []
    },
    {
      "cell_type": "code",
      "metadata": {
        "id": "FWd2FIM_MeXc",
        "colab_type": "code",
        "colab": {}
      },
      "source": [
        "!wget https://ar686.s3-ap-southeast-1.amazonaws.com/Condo_ML.xlsm"
      ],
      "execution_count": 0,
      "outputs": []
    },
    {
      "cell_type": "code",
      "metadata": {
        "id": "S6qyUnEXMkjA",
        "colab_type": "code",
        "colab": {}
      },
      "source": [
        "df_train = pd.read_excel('Condo_ML.xlsm', sheet_name='Training')\n",
        "df_train.head()"
      ],
      "execution_count": 0,
      "outputs": []
    },
    {
      "cell_type": "code",
      "metadata": {
        "id": "9xoZxYdIMknm",
        "colab_type": "code",
        "colab": {}
      },
      "source": [
        "X_train = df_train[['YearBuilt', 'NFloor','DistParagon']]\n",
        "y_train = df_train['SalePrice']"
      ],
      "execution_count": 0,
      "outputs": []
    },
    {
      "cell_type": "code",
      "metadata": {
        "id": "2qtCFWDXMkwl",
        "colab_type": "code",
        "colab": {}
      },
      "source": [
        "X_train"
      ],
      "execution_count": 0,
      "outputs": []
    },
    {
      "cell_type": "code",
      "metadata": {
        "id": "1wVzClxWMebv",
        "colab_type": "code",
        "colab": {}
      },
      "source": [
        "y_train"
      ],
      "execution_count": 0,
      "outputs": []
    },
    {
      "cell_type": "code",
      "metadata": {
        "id": "p9Ri78bsMehL",
        "colab_type": "code",
        "colab": {}
      },
      "source": [
        "# Multivariate Linear Regression Model (ฺBasic สุดๆละ)\n",
        "model = LinearRegression() # create model\n",
        "model.fit(X_train,y_train) # fit with X and y"
      ],
      "execution_count": 0,
      "outputs": []
    },
    {
      "cell_type": "code",
      "metadata": {
        "id": "PBvxVivzNuXI",
        "colab_type": "code",
        "colab": {}
      },
      "source": [
        "df_pred  = pd.read_excel('Condo_ML.xlsm', sheet_name='Prediction')\n",
        "df_pred.head()"
      ],
      "execution_count": 0,
      "outputs": []
    },
    {
      "cell_type": "code",
      "metadata": {
        "id": "jdz6m0rxNucC",
        "colab_type": "code",
        "colab": {}
      },
      "source": [
        "X_pred = df_pred[['YearBuilt', 'NFloor','DistParagon']]\n",
        "print(X_pred.head())\n"
      ],
      "execution_count": 0,
      "outputs": []
    },
    {
      "cell_type": "code",
      "metadata": {
        "id": "l2V31G5CMemY",
        "colab_type": "code",
        "colab": {}
      },
      "source": [
        "y_pred = model.predict(X_pred)\n",
        "print(y_pred)\n"
      ],
      "execution_count": 0,
      "outputs": []
    },
    {
      "cell_type": "code",
      "metadata": {
        "id": "WAABhpDgN_DI",
        "colab_type": "code",
        "colab": {}
      },
      "source": [
        ""
      ],
      "execution_count": 0,
      "outputs": []
    },
    {
      "cell_type": "markdown",
      "metadata": {
        "id": "t1-eVl-9DfX_",
        "colab_type": "text"
      },
      "source": [
        "## Face Detection (Image)"
      ]
    },
    {
      "cell_type": "code",
      "metadata": {
        "id": "EIYFfxEODiX-",
        "colab_type": "code",
        "colab": {}
      },
      "source": [
        "!pip install -q -U imutils git+https://github.com/the-house-of-black-and-white/hall-of-faces.git"
      ],
      "execution_count": 0,
      "outputs": []
    },
    {
      "cell_type": "code",
      "metadata": {
        "id": "ZXNuY810Diwq",
        "colab_type": "code",
        "colab": {}
      },
      "source": [
        "%matplotlib inline\n",
        "\n",
        "from matplotlib import pyplot as plt\n",
        "from imutils import  url_to_image, opencv2matplotlib\n",
        "from hof.face_detectors import YOLOv2FaceDetector\n",
        "\n",
        "MIN_CONFIDENCE=0.5\n",
        "\n",
        "def display(img, figsize=(15,15)):\n",
        "  plt.figure(figsize=figsize)\n",
        "  plt.axis('off')\n",
        "  plt.imshow(opencv2matplotlib(img))\n",
        "  plt.show()\n"
      ],
      "execution_count": 0,
      "outputs": []
    },
    {
      "cell_type": "code",
      "metadata": {
        "id": "aiDkJaNkDi08",
        "colab_type": "code",
        "colab": {}
      },
      "source": [
        "selfie = url_to_image('https://pmcfootwearnews.files.wordpress.com/2017/02/oscars-ellen-degeneres-selfie.jpg?w=1024')\n",
        "crowd = url_to_image('http://www.trbimg.com/img-540a7462/turbine/mc-central-at-whitehall-faces-in-the-crowd-20140905')\n",
        "friends = url_to_image('https://www.sciencenewsforstudents.org/sites/default/files/2016/12/main/articles/860_main_beauty.png')\n",
        "occluded = url_to_image('http://www.infotech.oulu.fi/Annual/2010/pics/mvg_06.jpg')"
      ],
      "execution_count": 0,
      "outputs": []
    },
    {
      "cell_type": "code",
      "metadata": {
        "id": "gS2g3a8yaVd_",
        "colab_type": "code",
        "colab": {}
      },
      "source": [
        "sample = crowd.copy()"
      ],
      "execution_count": 0,
      "outputs": []
    },
    {
      "cell_type": "code",
      "metadata": {
        "id": "a2plR_z3Di5m",
        "colab_type": "code",
        "colab": {}
      },
      "source": [
        "yolo_face_detector = YOLOv2FaceDetector(min_confidence=MIN_CONFIDENCE)\n",
        "yolo_face_detector.detect(sample, color=(15, 235, 250))\n",
        "display(sample)"
      ],
      "execution_count": 0,
      "outputs": []
    },
    {
      "cell_type": "markdown",
      "metadata": {
        "id": "CIGo8l9fDi9y",
        "colab_type": "text"
      },
      "source": [
        "## Face Detection with Haar Cascades"
      ]
    },
    {
      "cell_type": "code",
      "metadata": {
        "id": "d1xYXngubz6D",
        "colab_type": "code",
        "colab": {}
      },
      "source": [
        "from google.colab import files\n",
        "file=files.upload()"
      ],
      "execution_count": 0,
      "outputs": []
    },
    {
      "cell_type": "code",
      "metadata": {
        "id": "51KeeoKpbz_1",
        "colab_type": "code",
        "colab": {}
      },
      "source": [
        "import numpy as np\n",
        "import cv2\n",
        "import matplotlib.pyplot as plt"
      ],
      "execution_count": 0,
      "outputs": []
    },
    {
      "cell_type": "markdown",
      "metadata": {
        "id": "XC2UeYM8fxHg",
        "colab_type": "text"
      },
      "source": [
        "Download Haar Cascades from https://github.com/opencv/opencv/tree/master/data/haarcascades"
      ]
    },
    {
      "cell_type": "code",
      "metadata": {
        "id": "Nr3niFr6b0ER",
        "colab_type": "code",
        "colab": {}
      },
      "source": [
        "!wget https://github.com/opencv/opencv/blob/master/data/haarcascades/haarcascade_frontalface_default.xml"
      ],
      "execution_count": 0,
      "outputs": []
    },
    {
      "cell_type": "code",
      "metadata": {
        "id": "Z3xuI9n5emeX",
        "colab_type": "code",
        "colab": {}
      },
      "source": [
        "!wget https://pmcfootwearnews.files.wordpress.com/2017/02/oscars-ellen-degeneres-selfie.jpg"
      ],
      "execution_count": 0,
      "outputs": []
    },
    {
      "cell_type": "code",
      "metadata": {
        "id": "75gPuliEeQtY",
        "colab_type": "code",
        "colab": {}
      },
      "source": [
        "face_cascade = cv2.CascadeClassifier(cv2.data.haarcascades + 'haarcascade_frontalface_default.xml')\n",
        "img = cv2.imread('./oscars-ellen-degeneres-selfie.jpg')\n",
        "gray = cv2.cvtColor(img, cv2.COLOR_BGR2GRAY)\n",
        "faces = face_cascade.detectMultiScale(gray, 1.3, 5)\n",
        "print(faces)"
      ],
      "execution_count": 0,
      "outputs": []
    },
    {
      "cell_type": "code",
      "metadata": {
        "id": "ST8M_HJ-eQ_l",
        "colab_type": "code",
        "colab": {}
      },
      "source": [
        "for (x,y,w,h) in faces:\n",
        "    cv2.rectangle(img,(x,y),(x+w,y+h),(0,255,0),2)\n",
        "    roigray = gray[y:y+h, x:x+w]\n",
        "    roicolor = img[y:y+h, x:x+w]\n",
        "plt.grid(None)   \n",
        "plt.xticks([])\n",
        "plt.yticks([])\n",
        "imgplot = plt.imshow(img)"
      ],
      "execution_count": 0,
      "outputs": []
    },
    {
      "cell_type": "markdown",
      "metadata": {
        "id": "JbeZ8zk3eRH8",
        "colab_type": "text"
      },
      "source": [
        "#### ทดลองกับภาพถ่ายของนักศึกษา และ Haar Cascade อื่นๆ"
      ]
    },
    {
      "cell_type": "code",
      "metadata": {
        "id": "a2JGxVJ-eROg",
        "colab_type": "code",
        "colab": {}
      },
      "source": [
        ""
      ],
      "execution_count": 0,
      "outputs": []
    },
    {
      "cell_type": "code",
      "metadata": {
        "id": "4U4iLN8_gu7t",
        "colab_type": "code",
        "colab": {}
      },
      "source": [
        ""
      ],
      "execution_count": 0,
      "outputs": []
    },
    {
      "cell_type": "code",
      "metadata": {
        "id": "jBEUS_qhgu_W",
        "colab_type": "code",
        "colab": {}
      },
      "source": [
        ""
      ],
      "execution_count": 0,
      "outputs": []
    },
    {
      "cell_type": "markdown",
      "metadata": {
        "id": "2a01XE1eDjCM",
        "colab_type": "text"
      },
      "source": [
        "## Image Classification"
      ]
    },
    {
      "cell_type": "code",
      "metadata": {
        "id": "fJe0NZvzDo1P",
        "colab_type": "code",
        "colab": {}
      },
      "source": [
        "from __future__ import absolute_import, division, print_function, unicode_literals\n",
        "\n",
        "try:\n",
        "  # %tensorflow_version only exists in Colab.\n",
        "  %tensorflow_version 2.x\n",
        "except Exception:\n",
        "  pass\n",
        "import tensorflow as tf\n",
        "\n",
        "from tensorflow.keras.models import Sequential\n",
        "from tensorflow.keras.layers import Dense, Conv2D, Flatten, Dropout, MaxPooling2D\n",
        "from tensorflow.keras.preprocessing.image import ImageDataGenerator\n",
        "\n",
        "import os\n",
        "import numpy as np\n",
        "import matplotlib.pyplot as plt"
      ],
      "execution_count": 0,
      "outputs": []
    },
    {
      "cell_type": "code",
      "metadata": {
        "id": "jwPVU0T_hACU",
        "colab_type": "code",
        "colab": {}
      },
      "source": [
        "_URL = 'https://storage.googleapis.com/mledu-datasets/cats_and_dogs_filtered.zip'\n",
        "\n",
        "path_to_zip = tf.keras.utils.get_file('cats_and_dogs.zip', origin=_URL, extract=True)\n",
        "\n",
        "PATH = os.path.join(os.path.dirname(path_to_zip), 'cats_and_dogs_filtered')"
      ],
      "execution_count": 0,
      "outputs": []
    },
    {
      "cell_type": "code",
      "metadata": {
        "id": "5k7SB2GNhAGd",
        "colab_type": "code",
        "colab": {}
      },
      "source": [
        "train_dir = os.path.join(PATH, 'train')\n",
        "validation_dir = os.path.join(PATH, 'validation')"
      ],
      "execution_count": 0,
      "outputs": []
    },
    {
      "cell_type": "code",
      "metadata": {
        "id": "ZwRhP3M2hAKH",
        "colab_type": "code",
        "colab": {}
      },
      "source": [
        "train_cats_dir = os.path.join(train_dir, 'cats')  # directory with our training cat pictures\n",
        "train_dogs_dir = os.path.join(train_dir, 'dogs')  # directory with our training dog pictures\n",
        "validation_cats_dir = os.path.join(validation_dir, 'cats')  # directory with our validation cat pictures\n",
        "validation_dogs_dir = os.path.join(validation_dir, 'dogs')  # directory with our validation dog pictures"
      ],
      "execution_count": 0,
      "outputs": []
    },
    {
      "cell_type": "code",
      "metadata": {
        "id": "3dH6EK9ODpXq",
        "colab_type": "code",
        "colab": {}
      },
      "source": [
        "num_cats_tr = len(os.listdir(train_cats_dir))\n",
        "num_dogs_tr = len(os.listdir(train_dogs_dir))\n",
        "\n",
        "num_cats_val = len(os.listdir(validation_cats_dir))\n",
        "num_dogs_val = len(os.listdir(validation_dogs_dir))\n",
        "\n",
        "total_train = num_cats_tr + num_dogs_tr\n",
        "total_val = num_cats_val + num_dogs_val"
      ],
      "execution_count": 0,
      "outputs": []
    },
    {
      "cell_type": "code",
      "metadata": {
        "id": "f5qx4SKPDpbs",
        "colab_type": "code",
        "colab": {}
      },
      "source": [
        "print('total training cat images:', num_cats_tr)\n",
        "print('total training dog images:', num_dogs_tr)\n",
        "\n",
        "print('total validation cat images:', num_cats_val)\n",
        "print('total validation dog images:', num_dogs_val)\n",
        "print(\"--\")\n",
        "print(\"Total training images:\", total_train)\n",
        "print(\"Total validation images:\", total_val)"
      ],
      "execution_count": 0,
      "outputs": []
    },
    {
      "cell_type": "code",
      "metadata": {
        "id": "eA0hBH-nDpgQ",
        "colab_type": "code",
        "colab": {}
      },
      "source": [
        "batch_size = 128\n",
        "epochs = 15\n",
        "IMG_HEIGHT = 150\n",
        "IMG_WIDTH = 150"
      ],
      "execution_count": 0,
      "outputs": []
    },
    {
      "cell_type": "code",
      "metadata": {
        "id": "yrsROprsDpkZ",
        "colab_type": "code",
        "colab": {}
      },
      "source": [
        "train_image_generator = ImageDataGenerator(rescale=1./255) # Generator for our training data\n",
        "validation_image_generator = ImageDataGenerator(rescale=1./255) # Generator for our validation data"
      ],
      "execution_count": 0,
      "outputs": []
    },
    {
      "cell_type": "code",
      "metadata": {
        "id": "YSl4DQn1DppZ",
        "colab_type": "code",
        "colab": {}
      },
      "source": [
        "train_data_gen = train_image_generator.flow_from_directory(batch_size=batch_size,\n",
        "                                                           directory=train_dir,\n",
        "                                                           shuffle=True,\n",
        "                                                           target_size=(IMG_HEIGHT, IMG_WIDTH),\n",
        "                                                           class_mode='binary')"
      ],
      "execution_count": 0,
      "outputs": []
    },
    {
      "cell_type": "code",
      "metadata": {
        "id": "nd7xilwzhP7z",
        "colab_type": "code",
        "colab": {}
      },
      "source": [
        "val_data_gen = validation_image_generator.flow_from_directory(batch_size=batch_size,\n",
        "                                                              directory=validation_dir,\n",
        "                                                              target_size=(IMG_HEIGHT, IMG_WIDTH),\n",
        "                                                              class_mode='binary')"
      ],
      "execution_count": 0,
      "outputs": []
    },
    {
      "cell_type": "code",
      "metadata": {
        "id": "zxIdTOb4hRIB",
        "colab_type": "code",
        "colab": {}
      },
      "source": [
        "sample_training_images, _ = next(train_data_gen)"
      ],
      "execution_count": 0,
      "outputs": []
    },
    {
      "cell_type": "code",
      "metadata": {
        "id": "1O_FI5j-hSY9",
        "colab_type": "code",
        "colab": {}
      },
      "source": [
        "# This function will plot images in the form of a grid with 1 row and 5 columns where images are placed in each column.\n",
        "def plotImages(images_arr):\n",
        "    fig, axes = plt.subplots(1, 5, figsize=(20,20))\n",
        "    axes = axes.flatten()\n",
        "    for img, ax in zip( images_arr, axes):\n",
        "        ax.imshow(img)\n",
        "        ax.axis('off')\n",
        "    plt.tight_layout()\n",
        "    plt.show()"
      ],
      "execution_count": 0,
      "outputs": []
    },
    {
      "cell_type": "code",
      "metadata": {
        "id": "oBzFY0CVhTlD",
        "colab_type": "code",
        "colab": {}
      },
      "source": [
        "plotImages(sample_training_images[:5])"
      ],
      "execution_count": 0,
      "outputs": []
    },
    {
      "cell_type": "code",
      "metadata": {
        "id": "32Rt1gYjhUmW",
        "colab_type": "code",
        "colab": {}
      },
      "source": [
        "model = Sequential([\n",
        "    Conv2D(16, 3, padding='same', activation='relu', input_shape=(IMG_HEIGHT, IMG_WIDTH ,3)),\n",
        "    MaxPooling2D(),\n",
        "    Conv2D(32, 3, padding='same', activation='relu'),\n",
        "    MaxPooling2D(),\n",
        "    Conv2D(64, 3, padding='same', activation='relu'),\n",
        "    MaxPooling2D(),\n",
        "    Flatten(),\n",
        "    Dense(512, activation='relu'),\n",
        "    Dense(1, activation='sigmoid')\n",
        "])"
      ],
      "execution_count": 0,
      "outputs": []
    },
    {
      "cell_type": "code",
      "metadata": {
        "id": "d1tB38thhWKN",
        "colab_type": "code",
        "colab": {}
      },
      "source": [
        "model.compile(optimizer='adam',\n",
        "              loss='binary_crossentropy',\n",
        "              metrics=['accuracy'])"
      ],
      "execution_count": 0,
      "outputs": []
    },
    {
      "cell_type": "code",
      "metadata": {
        "id": "3dv4q8gGhXTs",
        "colab_type": "code",
        "colab": {}
      },
      "source": [
        "model.summary()"
      ],
      "execution_count": 0,
      "outputs": []
    },
    {
      "cell_type": "code",
      "metadata": {
        "colab_type": "code",
        "id": "FZojmjHGjt_e",
        "colab": {}
      },
      "source": [
        "history = model.fit_generator(\n",
        "    train_data_gen,\n",
        "    steps_per_epoch=total_train // batch_size,\n",
        "    epochs=epochs,\n",
        "    validation_data=val_data_gen,\n",
        "    validation_steps=total_val // batch_size\n",
        ")"
      ],
      "execution_count": 0,
      "outputs": []
    },
    {
      "cell_type": "code",
      "metadata": {
        "id": "8ZD781RShzK5",
        "colab_type": "code",
        "colab": {}
      },
      "source": [
        "acc = history.history['accuracy']\n",
        "val_acc = history.history['val_accuracy']\n",
        "\n",
        "loss = history.history['loss']\n",
        "val_loss = history.history['val_loss']\n",
        "\n",
        "epochs_range = range(epochs)\n",
        "\n",
        "plt.figure(figsize=(8, 8))\n",
        "plt.subplot(1, 2, 1)\n",
        "plt.plot(epochs_range, acc, label='Training Accuracy')\n",
        "plt.plot(epochs_range, val_acc, label='Validation Accuracy')\n",
        "plt.legend(loc='lower right')\n",
        "plt.title('Training and Validation Accuracy')\n",
        "\n",
        "plt.subplot(1, 2, 2)\n",
        "plt.plot(epochs_range, loss, label='Training Loss')\n",
        "plt.plot(epochs_range, val_loss, label='Validation Loss')\n",
        "plt.legend(loc='upper right')\n",
        "plt.title('Training and Validation Loss')\n",
        "plt.show()"
      ],
      "execution_count": 0,
      "outputs": []
    },
    {
      "cell_type": "markdown",
      "metadata": {
        "id": "NOFkrndTjyOu",
        "colab_type": "text"
      },
      "source": [
        "## MNIST Fashion\n",
        "\n",
        "อ่านเพิ่มเติมที่ https://www.tensorflow.org/tutorials/keras/classification"
      ]
    },
    {
      "cell_type": "markdown",
      "metadata": {
        "id": "4ekgRCP_ldfe",
        "colab_type": "text"
      },
      "source": [
        "This guide uses the [Fashion MNIST](https://github.com/zalandoresearch/fashion-mnist) dataset which contains 70,000 grayscale images in 10 categories. The images show individual articles of clothing at low resolution (28 by 28 pixels), as seen here:\n",
        "\n",
        "<table>\n",
        "  <tr><td>\n",
        "    <img src=\"https://tensorflow.org/images/fashion-mnist-sprite.png\"\n",
        "         alt=\"Fashion MNIST sprite\"  width=\"600\">\n",
        "  </td></tr>\n",
        "  <tr><td align=\"center\">\n",
        "    <b>Figure 1.</b> <a href=\"https://github.com/zalandoresearch/fashion-mnist\">Fashion-MNIST samples</a> (by Zalando, MIT License).<br/>&nbsp;\n",
        "  </td></tr>\n",
        "</table>\n",
        "\n",
        "Fashion MNIST is intended as a drop-in replacement for the classic [MNIST](http://yann.lecun.com/exdb/mnist/) dataset—often used as the \"Hello, World\" of machine learning programs for computer vision. The MNIST dataset contains images of handwritten digits (0, 1, 2, etc.) in a format identical to that of the articles of clothing you'll use here.\n",
        "\n",
        "This guide uses Fashion MNIST for variety, and because it's a slightly more challenging problem than regular MNIST. Both datasets are relatively small and are used to verify that an algorithm works as expected. They're good starting points to test and debug code.\n",
        "\n",
        "Here, 60,000 images are used to train the network and 10,000 images to evaluate how accurately the network learned to classify images. You can access the Fashion MNIST directly from TensorFlow. Import and load the Fashion MNIST data directly from TensorFlow:"
      ]
    },
    {
      "cell_type": "code",
      "metadata": {
        "id": "D5731GDpj2rt",
        "colab_type": "code",
        "colab": {}
      },
      "source": [
        "from __future__ import absolute_import, division, print_function, unicode_literals\n",
        "\n",
        "# TensorFlow and tf.keras\n",
        "import tensorflow as tf\n",
        "from tensorflow import keras\n",
        "\n",
        "# Helper libraries\n",
        "import numpy as np\n",
        "import matplotlib.pyplot as plt\n",
        "\n",
        "print(tf.__version__)"
      ],
      "execution_count": 0,
      "outputs": []
    },
    {
      "cell_type": "code",
      "metadata": {
        "id": "Au1HRpJskylH",
        "colab_type": "code",
        "colab": {}
      },
      "source": [
        "fashion_mnist = keras.datasets.fashion_mnist\n",
        "\n",
        "(train_images, train_labels), (test_images, test_labels) = fashion_mnist.load_data()"
      ],
      "execution_count": 0,
      "outputs": []
    },
    {
      "cell_type": "markdown",
      "metadata": {
        "id": "Ln-fp8K5llr0",
        "colab_type": "text"
      },
      "source": [
        "Loading the dataset returns four NumPy arrays:\n",
        "\n",
        "* The `train_images` and `train_labels` arrays are the *training set*—the data the model uses to learn.\n",
        "* The model is tested against the *test set*, the `test_images`, and `test_labels` arrays.\n",
        "\n",
        "The images are 28x28 NumPy arrays, with pixel values ranging from 0 to 255. The *labels* are an array of integers, ranging from 0 to 9. These correspond to the *class* of clothing the image represents:\n",
        "\n",
        "<table>\n",
        "  <tr>\n",
        "    <th>Label</th>\n",
        "    <th>Class</th>\n",
        "  </tr>\n",
        "  <tr>\n",
        "    <td>0</td>\n",
        "    <td>T-shirt/top</td>\n",
        "  </tr>\n",
        "  <tr>\n",
        "    <td>1</td>\n",
        "    <td>Trouser</td>\n",
        "  </tr>\n",
        "    <tr>\n",
        "    <td>2</td>\n",
        "    <td>Pullover</td>\n",
        "  </tr>\n",
        "    <tr>\n",
        "    <td>3</td>\n",
        "    <td>Dress</td>\n",
        "  </tr>\n",
        "    <tr>\n",
        "    <td>4</td>\n",
        "    <td>Coat</td>\n",
        "  </tr>\n",
        "    <tr>\n",
        "    <td>5</td>\n",
        "    <td>Sandal</td>\n",
        "  </tr>\n",
        "    <tr>\n",
        "    <td>6</td>\n",
        "    <td>Shirt</td>\n",
        "  </tr>\n",
        "    <tr>\n",
        "    <td>7</td>\n",
        "    <td>Sneaker</td>\n",
        "  </tr>\n",
        "    <tr>\n",
        "    <td>8</td>\n",
        "    <td>Bag</td>\n",
        "  </tr>\n",
        "    <tr>\n",
        "    <td>9</td>\n",
        "    <td>Ankle boot</td>\n",
        "  </tr>\n",
        "</table>\n",
        "\n",
        "Each image is mapped to a single label. Since the *class names* are not included with the dataset, store them here to use later when plotting the images:"
      ]
    },
    {
      "cell_type": "code",
      "metadata": {
        "id": "sEIFHze9ky3m",
        "colab_type": "code",
        "colab": {}
      },
      "source": [
        "class_names = ['T-shirt/top', 'Trouser', 'Pullover', 'Dress', 'Coat',\n",
        "               'Sandal', 'Shirt', 'Sneaker', 'Bag', 'Ankle boot']"
      ],
      "execution_count": 0,
      "outputs": []
    },
    {
      "cell_type": "code",
      "metadata": {
        "id": "0QEFHlkfk0tE",
        "colab_type": "code",
        "colab": {}
      },
      "source": [
        "train_images.shape"
      ],
      "execution_count": 0,
      "outputs": []
    },
    {
      "cell_type": "code",
      "metadata": {
        "id": "60CETnVlk15y",
        "colab_type": "code",
        "colab": {}
      },
      "source": [
        "train_labels"
      ],
      "execution_count": 0,
      "outputs": []
    },
    {
      "cell_type": "code",
      "metadata": {
        "id": "hX0LnBUHk3-d",
        "colab_type": "code",
        "colab": {}
      },
      "source": [
        "test_images.shape"
      ],
      "execution_count": 0,
      "outputs": []
    },
    {
      "cell_type": "code",
      "metadata": {
        "id": "bvdVTNlpk5sm",
        "colab_type": "code",
        "colab": {}
      },
      "source": [
        "plt.figure()\n",
        "plt.imshow(train_images[0])\n",
        "plt.colorbar()\n",
        "plt.grid(False)\n",
        "plt.show()"
      ],
      "execution_count": 0,
      "outputs": []
    },
    {
      "cell_type": "code",
      "metadata": {
        "id": "rsUhuE_9k6-J",
        "colab_type": "code",
        "colab": {}
      },
      "source": [
        "train_images = train_images / 255.0\n",
        "\n",
        "test_images = test_images / 255.0"
      ],
      "execution_count": 0,
      "outputs": []
    },
    {
      "cell_type": "code",
      "metadata": {
        "id": "YLpGz70Kk8Rn",
        "colab_type": "code",
        "colab": {}
      },
      "source": [
        "plt.figure(figsize=(10,10))\n",
        "for i in range(25):\n",
        "    plt.subplot(5,5,i+1)\n",
        "    plt.xticks([])\n",
        "    plt.yticks([])\n",
        "    plt.grid(False)\n",
        "    plt.imshow(train_images[i], cmap=plt.cm.binary)\n",
        "    plt.xlabel(class_names[train_labels[i]])\n",
        "plt.show()"
      ],
      "execution_count": 0,
      "outputs": []
    },
    {
      "cell_type": "code",
      "metadata": {
        "id": "L4Gv9MJVk9mp",
        "colab_type": "code",
        "colab": {}
      },
      "source": [
        "model = keras.Sequential([\n",
        "    keras.layers.Flatten(input_shape=(28, 28)),\n",
        "    keras.layers.Dense(128, activation='relu'),\n",
        "    keras.layers.Dense(10, activation='softmax')\n",
        "])"
      ],
      "execution_count": 0,
      "outputs": []
    },
    {
      "cell_type": "code",
      "metadata": {
        "id": "PP4IF1Btk_Kl",
        "colab_type": "code",
        "colab": {}
      },
      "source": [
        "model.compile(optimizer='adam',\n",
        "              loss='sparse_categorical_crossentropy',\n",
        "              metrics=['accuracy'])"
      ],
      "execution_count": 0,
      "outputs": []
    },
    {
      "cell_type": "code",
      "metadata": {
        "id": "FYOoX2h5lAv1",
        "colab_type": "code",
        "colab": {}
      },
      "source": [
        "model.fit(train_images, train_labels, epochs=10)"
      ],
      "execution_count": 0,
      "outputs": []
    },
    {
      "cell_type": "code",
      "metadata": {
        "id": "s71e_8PNlCZd",
        "colab_type": "code",
        "colab": {}
      },
      "source": [
        "test_loss, test_acc = model.evaluate(test_images,  test_labels, verbose=2)\n",
        "\n",
        "print('\\nTest accuracy:', test_acc)"
      ],
      "execution_count": 0,
      "outputs": []
    },
    {
      "cell_type": "code",
      "metadata": {
        "id": "dnH3as1olEFN",
        "colab_type": "code",
        "colab": {}
      },
      "source": [
        "predictions = model.predict(test_images)"
      ],
      "execution_count": 0,
      "outputs": []
    },
    {
      "cell_type": "code",
      "metadata": {
        "id": "FZw6FLHKlFxF",
        "colab_type": "code",
        "colab": {}
      },
      "source": [
        "predictions[0]"
      ],
      "execution_count": 0,
      "outputs": []
    },
    {
      "cell_type": "code",
      "metadata": {
        "id": "Q-11fhZwlHLj",
        "colab_type": "code",
        "colab": {}
      },
      "source": [
        "np.argmax(predictions[0])"
      ],
      "execution_count": 0,
      "outputs": []
    },
    {
      "cell_type": "code",
      "metadata": {
        "id": "oRqHpFBwlKFp",
        "colab_type": "code",
        "colab": {}
      },
      "source": [
        "test_labels[0]"
      ],
      "execution_count": 0,
      "outputs": []
    },
    {
      "cell_type": "code",
      "metadata": {
        "id": "Qx_jT96NlMzj",
        "colab_type": "code",
        "colab": {}
      },
      "source": [
        "def plot_image(i, predictions_array, true_label, img):\n",
        "  predictions_array, true_label, img = predictions_array, true_label[i], img[i]\n",
        "  plt.grid(False)\n",
        "  plt.xticks([])\n",
        "  plt.yticks([])\n",
        "\n",
        "  plt.imshow(img, cmap=plt.cm.binary)\n",
        "\n",
        "  predicted_label = np.argmax(predictions_array)\n",
        "  if predicted_label == true_label:\n",
        "    color = 'blue'\n",
        "  else:\n",
        "    color = 'red'\n",
        "\n",
        "  plt.xlabel(\"{} {:2.0f}% ({})\".format(class_names[predicted_label],\n",
        "                                100*np.max(predictions_array),\n",
        "                                class_names[true_label]),\n",
        "                                color=color)\n",
        "\n",
        "def plot_value_array(i, predictions_array, true_label):\n",
        "  predictions_array, true_label = predictions_array, true_label[i]\n",
        "  plt.grid(False)\n",
        "  plt.xticks(range(10))\n",
        "  plt.yticks([])\n",
        "  thisplot = plt.bar(range(10), predictions_array, color=\"#777777\")\n",
        "  plt.ylim([0, 1])\n",
        "  predicted_label = np.argmax(predictions_array)\n",
        "\n",
        "  thisplot[predicted_label].set_color('red')\n",
        "  thisplot[true_label].set_color('blue')"
      ],
      "execution_count": 0,
      "outputs": []
    },
    {
      "cell_type": "code",
      "metadata": {
        "id": "vOQLuRDTlQLL",
        "colab_type": "code",
        "colab": {}
      },
      "source": [
        "i = 0\n",
        "plt.figure(figsize=(6,3))\n",
        "plt.subplot(1,2,1)\n",
        "plot_image(i, predictions[i], test_labels, test_images)\n",
        "plt.subplot(1,2,2)\n",
        "plot_value_array(i, predictions[i],  test_labels)\n",
        "plt.show()"
      ],
      "execution_count": 0,
      "outputs": []
    },
    {
      "cell_type": "code",
      "metadata": {
        "id": "imBjzilPlRjw",
        "colab_type": "code",
        "colab": {}
      },
      "source": [
        "i = 12\n",
        "plt.figure(figsize=(6,3))\n",
        "plt.subplot(1,2,1)\n",
        "plot_image(i, predictions[i], test_labels, test_images)\n",
        "plt.subplot(1,2,2)\n",
        "plot_value_array(i, predictions[i],  test_labels)\n",
        "plt.show()"
      ],
      "execution_count": 0,
      "outputs": []
    },
    {
      "cell_type": "code",
      "metadata": {
        "id": "JiBBOFailTK4",
        "colab_type": "code",
        "colab": {}
      },
      "source": [
        ""
      ],
      "execution_count": 0,
      "outputs": []
    }
  ]
}