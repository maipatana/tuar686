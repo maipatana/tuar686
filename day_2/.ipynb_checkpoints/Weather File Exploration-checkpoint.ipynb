{
 "cells": [
  {
   "cell_type": "code",
   "execution_count": null,
   "metadata": {
    "collapsed": true
   },
   "outputs": [],
   "source": [
    "import pandas as pd\n",
    "import matplotlib.pyplot as plt\n",
    "%matplotlib inline"
   ]
  },
  {
   "cell_type": "markdown",
   "metadata": {},
   "source": [
    "ทดลองอ่านค่าและลอง plot ข้อมูลจาก Weather File"
   ]
  },
  {
   "cell_type": "markdown",
   "metadata": {},
   "source": [
    "        Index:\n",
    "            fieldNumber: a value between 0 to 34 for different available epw fields.\n",
    "            0 Year\n",
    "            1 Month\n",
    "            2 Day\n",
    "            3 Hour\n",
    "            4 Minute\n",
    "            -\n",
    "            6 Dry Bulb Temperature\n",
    "            7 Dew Point Temperature\n",
    "            8 Relative Humidity\n",
    "            9 Atmospheric Station Pressure\n",
    "            10 Extraterrestrial Horizontal Radiation\n",
    "            11 Extraterrestrial Direct Normal Radiation\n",
    "            12 Horizontal Infrared Radiation Intensity\n",
    "            13 Global Horizontal Radiation\n",
    "            14 Direct Normal Radiation\n",
    "            15 Diffuse Horizontal Radiation\n",
    "            16 Global Horizontal Illuminance\n",
    "            17 Direct Normal Illuminance\n",
    "            18 Diffuse Horizontal Illuminance\n",
    "            19 Zenith Luminance\n",
    "            20 Wind Direction\n",
    "            21 Wind Speed\n",
    "            22 Total Sky Cover\n",
    "            23 Opaque Sky Cover\n",
    "            24 Visibility\n",
    "            25 Ceiling Height\n",
    "            26 Present Weather Observation\n",
    "            27 Present Weather Codes\n",
    "            28 Precipitable Water\n",
    "            29 Aerosol Optical Depth\n",
    "            30 Snow Depth\n",
    "            31 Days Since Last Snowfall\n",
    "            32 Albedo\n",
    "            33 Liquid Precipitation Depth\n",
    "            34 Liquid Precipitation Quantity"
   ]
  },
  {
   "cell_type": "markdown",
   "metadata": {},
   "source": [
    "## Exercise\n",
    "\n",
    "* สร้างกราฟเส้นแสดงอุณหภูมิภายนอกของเดือน May\n",
    "* หาความเร็วลมเฉลี่ยของทั้งปี\n",
    "* สร้าง DataFrame ที่แสดงข้อมูล [Dry Blub Temp., Relative Humidity, Wind Speed, Direct Normal Radiation]\n",
    "* หาว่ามีช่วงเวลาที่อุณหภูมิสูงกว่า 30 องศาทั้งหมดกี่ชั่วโมง และต่ำกว่า 25 กี่ชั่วโมง ในหนึ่งปี\n",
    "* หาว่ามีช่วงเวลาที่อุณหภูมิสูงกว่า 30 และความเร็วลมสูงกว่า 3 m/s อยู่กี่ชั่วโมง\n",
    "* สร้างกราฟเส้นแสดง Direct Normal Illuminance และ Diffuse Horizontal Illuminance ของวันที่ Global Horizontal Radiation สูงที่สุด"
   ]
  },
  {
   "cell_type": "code",
   "execution_count": null,
   "metadata": {
    "collapsed": true
   },
   "outputs": [],
   "source": []
  },
  {
   "cell_type": "code",
   "execution_count": null,
   "metadata": {
    "collapsed": true
   },
   "outputs": [],
   "source": []
  },
  {
   "cell_type": "code",
   "execution_count": null,
   "metadata": {
    "collapsed": true
   },
   "outputs": [],
   "source": []
  },
  {
   "cell_type": "code",
   "execution_count": null,
   "metadata": {
    "collapsed": true
   },
   "outputs": [],
   "source": []
  },
  {
   "cell_type": "code",
   "execution_count": null,
   "metadata": {
    "collapsed": true
   },
   "outputs": [],
   "source": []
  },
  {
   "cell_type": "code",
   "execution_count": null,
   "metadata": {
    "collapsed": true
   },
   "outputs": [],
   "source": []
  },
  {
   "cell_type": "code",
   "execution_count": null,
   "metadata": {
    "collapsed": true
   },
   "outputs": [],
   "source": []
  },
  {
   "cell_type": "markdown",
   "metadata": {},
   "source": [
    "## Hint 1"
   ]
  },
  {
   "cell_type": "code",
   "execution_count": null,
   "metadata": {
    "collapsed": true
   },
   "outputs": [],
   "source": [
    "day = 21\n",
    "month = 6\n",
    "hour = 24*2\n",
    "\n",
    "outtemp = []\n",
    "rhumidity = []\n",
    "infraredhorizontal = []\n",
    "directnormal = []\n",
    "diffusehorizontal = []\n",
    "\n",
    "def get_data_from_weather_file(day=1,month=1,hour=24):\n",
    "    m = [31,28,31,30,31,30,31,31,30,31,30,31]\n",
    "    h = (((day-1)*24)+(sum(m[:month-1])*24))\n",
    "\n",
    "    bkk = \"./data/THA_Bangkok.484560_IWEC.epw\"\n",
    "    with open(bkk, 'r') as EPWRead:\n",
    "        lines = EPWRead.readlines()\n",
    "        for text in lines[h+8:h+hour+8]:\n",
    "            datalist = text.split(\",\")\n",
    "            outtemp.append(float(datalist[6])) # 6 Dry Bulb Temperature\n",
    "            #rhumidity.append(float(datalist[8])) # 8 Relative Humidity\n",
    "            infraredhorizontal.append(float(datalist[12])) # 12 Horizontal Infrared Radiation Intensity\n",
    "            directnormal.append(float(datalist[14])) # 14 Direct Normal Radiation\n",
    "            diffusehorizontal.append(float(datalist[15])) # 15 Diffuse Horizontal Radiation\n",
    "    #outtemp = yeartemp[h:h+hour]\n",
    "get_data_from_weather_file(day,month,hour)"
   ]
  },
  {
   "cell_type": "code",
   "execution_count": null,
   "metadata": {},
   "outputs": [],
   "source": [
    "outtemp[:5]"
   ]
  },
  {
   "cell_type": "markdown",
   "metadata": {},
   "source": [
    "## Hint 2"
   ]
  },
  {
   "cell_type": "code",
   "execution_count": null,
   "metadata": {
    "collapsed": true
   },
   "outputs": [],
   "source": [
    "out_temp = []\n",
    "wind_speed = []\n",
    "bkk = \"./data/THA_Bangkok.484560_IWEC.epw\"\n",
    "with open(bkk, 'r') as EPWRead:\n",
    "    for i in EPWRead.readlines()[8:]:\n",
    "        data = i.split(',')\n",
    "        out_temp.append(float(data[6]))\n",
    "        wind_speed.append(float(data[21]))"
   ]
  },
  {
   "cell_type": "code",
   "execution_count": null,
   "metadata": {
    "collapsed": true
   },
   "outputs": [],
   "source": [
    "dti = pd.date_range('2018-01-1', periods=8760, freq='H')"
   ]
  },
  {
   "cell_type": "code",
   "execution_count": null,
   "metadata": {
    "collapsed": true
   },
   "outputs": [],
   "source": [
    "df = pd.DataFrame({'Out Temp.': out_temp, 'Wind Speed': wind_speed}, index=dti)"
   ]
  },
  {
   "cell_type": "code",
   "execution_count": null,
   "metadata": {},
   "outputs": [],
   "source": [
    "df.head()"
   ]
  },
  {
   "cell_type": "code",
   "execution_count": null,
   "metadata": {},
   "outputs": [],
   "source": [
    "df['Out Temp.'].plot(figsize=(20,6))"
   ]
  },
  {
   "cell_type": "code",
   "execution_count": null,
   "metadata": {},
   "outputs": [],
   "source": [
    "df['Out Temp.'][:24*10].plot()"
   ]
  },
  {
   "cell_type": "code",
   "execution_count": null,
   "metadata": {
    "collapsed": true
   },
   "outputs": [],
   "source": []
  },
  {
   "cell_type": "code",
   "execution_count": null,
   "metadata": {
    "collapsed": true
   },
   "outputs": [],
   "source": []
  }
 ],
 "metadata": {
  "kernelspec": {
   "display_name": "Python [conda env:Anaconda3]",
   "language": "python",
   "name": "conda-env-Anaconda3-py"
  },
  "language_info": {
   "codemirror_mode": {
    "name": "ipython",
    "version": 3
   },
   "file_extension": ".py",
   "mimetype": "text/x-python",
   "name": "python",
   "nbconvert_exporter": "python",
   "pygments_lexer": "ipython3",
   "version": "3.5.4"
  },
  "toc": {
   "nav_menu": {},
   "number_sections": true,
   "sideBar": true,
   "skip_h1_title": false,
   "toc_cell": false,
   "toc_position": {},
   "toc_section_display": "block",
   "toc_window_display": false
  }
 },
 "nbformat": 4,
 "nbformat_minor": 2
}
