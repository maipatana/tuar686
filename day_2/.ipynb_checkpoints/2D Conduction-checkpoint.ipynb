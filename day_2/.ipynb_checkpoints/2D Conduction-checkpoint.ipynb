{
 "cells": [
  {
   "cell_type": "code",
   "execution_count": null,
   "metadata": {
    "collapsed": true
   },
   "outputs": [],
   "source": [
    "import numpy as np\n",
    "import matplotlib.pyplot as plt\n",
    "import matplotlib.patches as patches\n",
    "%matplotlib inline"
   ]
  },
  {
   "cell_type": "markdown",
   "metadata": {},
   "source": [
    "# 2D Heat Conduction in Wall Construction"
   ]
  },
  {
   "cell_type": "code",
   "execution_count": null,
   "metadata": {
    "collapsed": true
   },
   "outputs": [],
   "source": [
    "# constants\n",
    "\n",
    "# Conductivity ค่า k ของวัสดุ W/m.C\n",
    "airk = 0.025 # Air\n",
    "brickk = 0.473\n",
    "mortark = 1.0\n",
    "plasterk = 0.72\n",
    "concretek = 1.44\n",
    "\n",
    "# Specific Heat Capacity * Density kJ/kg.C * kg/m3 * 1000 = J/m3.K\n",
    "# ค่า Cp ของวัสดุ\n",
    "airCp = 1200 # Air # J/m3 K\n",
    "brickCp = 1600*790 # J/m3 K\n",
    "mortarCp = 1860*780 # J/m3 K\n",
    "plasterCp = 1860*840 # J/m3 K\n",
    "concreteCp = 2400*920 # J/m3 K\n",
    "\n",
    "distance = .01 # 1cm\n",
    "di = [[1,0],[0,1],[-1,0],[0,-1]]\n",
    "\n"
   ]
  },
  {
   "cell_type": "code",
   "execution_count": null,
   "metadata": {
    "collapsed": true
   },
   "outputs": [],
   "source": [
    "outtemp = []\n",
    "with open('./data/out_temp_21_22_June.txt', 'r') as readFile:\n",
    "    for i in readFile:\n",
    "        outtemp.append(float(i.strip('\\n')))"
   ]
  },
  {
   "cell_type": "code",
   "execution_count": null,
   "metadata": {
    "collapsed": true
   },
   "outputs": [],
   "source": []
  },
  {
   "cell_type": "code",
   "execution_count": null,
   "metadata": {
    "collapsed": true
   },
   "outputs": [],
   "source": [
    "# initialised\n",
    "cells = np.full((100,40),outtemp[0],  dtype=float)\n",
    "kcells = np.full((100,40),airk,  dtype=float)\n",
    "Cpcells = np.full((100,40),airCp,  dtype=float)\n",
    "\n",
    "\n",
    "def wallfloorbrick10():\n",
    "    # Set Temp source\n",
    "    for i in range(20,len(cells)):\n",
    "        for h in range(1,10):\n",
    "            kcells[i][h] = brickk\n",
    "            Cpcells[i][h] = brickCp\n",
    "\n",
    "    for i in range(25,len(cells),7):\n",
    "        for h in range(1,10):\n",
    "            kcells[i][h] = mortark\n",
    "            Cpcells[i][h] = mortarCp\n",
    "\n",
    "    for i in range(len(cells)):\n",
    "        kcells[i][1:3] = plasterk\n",
    "        Cpcells[i][1:3] = plasterCp\n",
    "    for i in range(20,len(cells)):\n",
    "        kcells[i][8:10] = plasterk\n",
    "        Cpcells[i][8:10] = plasterCp\n",
    "    \n",
    "    for i in range(20):\n",
    "        kcells[i][3:] = concretek\n",
    "        Cpcells[i][3:] = concreteCp\n",
    "\n",
    "def wallfloorcon20():\n",
    "    # Set Temp source\n",
    "    for i in range(20,len(cells)):\n",
    "        for h in range(20):\n",
    "            kcells[i][h] = concretek\n",
    "            Cpcells[i][h] = concreteCp\n",
    "\n",
    "    for i in range(20):\n",
    "        kcells[i][:] = concretek\n",
    "        Cpcells[i][:] = concreteCp\n",
    "        \n",
    "def wallfloorcon10():\n",
    "    # Set Temp source\n",
    "    for i in range(20,len(cells)):\n",
    "        for h in range(20):\n",
    "            kcells[i][h] = concretek\n",
    "            Cpcells[i][h] = concreteCp\n",
    "\n",
    "    for i in range(10):\n",
    "        kcells[i][:] = concretek\n",
    "        Cpcells[i][:] = concreteCp\n",
    "\n",
    "temp = cells.copy()\n",
    "mat = cells.copy()\n",
    "\n",
    "ukcells= np.vstack(([i for i in kcells[0]], kcells[:-1]))\n",
    "dkcells= np.vstack((kcells[1:], [i for i in kcells[0]], ))\n",
    "lkcells= np.hstack(([[i[0]] for i in kcells], kcells[:, :-1]))\n",
    "rkcells= np.hstack((kcells[:, 1:], [[i[-1]] for i in kcells]))"
   ]
  },
  {
   "cell_type": "code",
   "execution_count": null,
   "metadata": {
    "collapsed": true
   },
   "outputs": [],
   "source": [
    "def conductivitybetweencell(cell, adjcell,k,adjk):\n",
    "    return (adjcell-cell)*(distance/((distance/(2*adjk))+(distance/(2*k))))\n",
    "\n",
    "def cond2d(cells,outtemp,intemp=25):\n",
    "    #global cells\n",
    "    ucells= np.vstack(([i for i in cells[0]], cells[:-1]))\n",
    "    dcells= np.vstack((cells[1:], [i for i in cells[0]], ))\n",
    "    lcells= np.hstack(([[outtemp] for i in cells], cells[:, :-1]))\n",
    "    rcells= np.hstack((cells[:, 1:], [[i[-1]] for i in cells]))\n",
    "    up = conductivitybetweencell(cells, ucells, kcells, ukcells)\n",
    "    down = conductivitybetweencell(cells, dcells, kcells, dkcells)\n",
    "    left = conductivitybetweencell(cells, lcells, kcells, lkcells)\n",
    "    right = conductivitybetweencell(cells, rcells, kcells, rkcells)\n",
    "\n",
    "    temp = cells  + (up+down+left+right)/(Cpcells*distance*distance)\n",
    "    cells = temp.copy()\n",
    "    return cells\n",
    "    \n",
    "# plot()\n",
    "def plot2dcon(cells,title=\"\",ot=None,it=None, save=False):\n",
    "    fig = plt.figure(figsize=(12,12))\n",
    "    ax = fig.add_subplot(111)\n",
    "    ax.set_title(\"Wall Section OutdoorT = {} IndoorT = {}\".format(ot,it)+title)\n",
    "    p = [i[1:-1] for i in cells]\n",
    "    cs = ax.contour(p, linewidths=0.5, colors= 'black',linestyles=\"dashed\")\n",
    "    ax.clabel(cs, inline=1, fontsize=10, colors = \"black\", fmt = \"%0.1f\", animated=True)\n",
    "    ax.imshow(p,interpolation='bilinear', vmin = min(np.concatenate(p).ravel().tolist()), \n",
    "                vmax=max(np.concatenate(p).ravel().tolist()), animated=True)\n",
    "\n",
    "    #wallfloor\n",
    "    ax.add_patch(patches.Rectangle((-0.5,0-0.5),2,100,linewidth=1,edgecolor='black',facecolor='none'))\n",
    "    ax.add_patch(patches.Rectangle((6.5,19.5),2,80,linewidth=1,edgecolor='black',facecolor='none'))\n",
    "    ax.add_patch(patches.Rectangle((1.5,-0.5),40,20,linewidth=1,edgecolor='black',facecolor='none'))\n",
    "    ax.add_patch(patches.Circle((9,60),1, facecolor=\"black\"))\n",
    "    for i in range(25,len(cells),7):\n",
    "        ax.add_patch(patches.Rectangle((1.5,i-0.5),5,1,linewidth=1,edgecolor='black',facecolor='none'))\n",
    "\n",
    "    #ax.imshow([i[1:-1] for i in kcells],interpolation='nearest',alpha=1) \n",
    "    if save:\n",
    "        fig.savefig(\"Wall Section\"+title)\n",
    "        plt.close('all')\n",
    "        \n",
    "def plot2dconcon20(cells,title=\"\",ot=None,it=None, save=False):\n",
    "    fig = plt.figure(figsize=(12,12))\n",
    "    ax = fig.add_subplot(111)\n",
    "    ax.set_title(\"Wall Section OutdoorT = {} IndoorT = {}\".format(ot,it)+title)\n",
    "    p = [i[1:-1] for i in cells]\n",
    "    cs = ax.contour(p, linewidths=0.5, colors= 'black',linestyles=\"dashed\")\n",
    "    ax.clabel(cs, inline=1, fontsize=10, colors = \"black\", fmt = \"%0.1f\", animated=True)\n",
    "    ax.imshow(p,interpolation='bilinear', vmin = min(np.concatenate(p).ravel().tolist()), \n",
    "                vmax=max(np.concatenate(p).ravel().tolist()), animated=True)\n",
    "    \n",
    "    #wallfloor\n",
    "    ax.add_patch(patches.Rectangle((-0.5,19.5),19,80,linewidth=1,edgecolor='black',facecolor='none'))\n",
    "    ax.add_patch(patches.Rectangle((-0.5,-0.5),40,20,linewidth=1,edgecolor='black',facecolor='none'))\n",
    "    ax.add_patch(patches.Circle((19,60),1, facecolor=\"black\"))\n",
    "\n",
    "    #ax.imshow([i[1:-1] for i in Cpcells],interpolation='nearest',alpha=1) \n",
    "    if save:\n",
    "        fig.savefig(\"Wall Section\"+title)\n",
    "        plt.close('all')"
   ]
  },
  {
   "cell_type": "code",
   "execution_count": null,
   "metadata": {},
   "outputs": [],
   "source": [
    "wallfloorbrick10()\n",
    "#wallfloorcon20()\n",
    "bricktemp = []\n",
    "intemp = [26 for i in outtemp]\n",
    "hour = 0\n",
    "brickcells = np.full((100,40),outtemp[0],  dtype=float)\n",
    "for i,h in zip(outtemp, intemp):\n",
    "    count = 0\n",
    "    bricktemp.append(brickcells[60,9])\n",
    "    while count < 3600:\n",
    "        t = cond2d(brickcells,i)\n",
    "        brickcells = t\n",
    "        count+=1\n",
    "    #plot2dcon(brickcells, 'Brick10 '+str(len(bricktemp)), i,bricktemp[-1], True)"
   ]
  },
  {
   "cell_type": "code",
   "execution_count": null,
   "metadata": {},
   "outputs": [],
   "source": [
    "plot2dcon(brickcells)"
   ]
  },
  {
   "cell_type": "code",
   "execution_count": null,
   "metadata": {
    "collapsed": true
   },
   "outputs": [],
   "source": []
  },
  {
   "cell_type": "markdown",
   "metadata": {
    "collapsed": true
   },
   "source": [
    "### Exercise\n",
    "\n",
    "* ใช้อุณหภูมิภายนอกของวันที่ 21-22 ธันวาคม เป็นเวลา 24 ชั่วโมง\n",
    "* สร้างกราฟเส้นที่แสดณหภูมิภายนอกและพื้นผิวในกราฟเดียวกัน"
   ]
  },
  {
   "cell_type": "code",
   "execution_count": null,
   "metadata": {
    "collapsed": true
   },
   "outputs": [],
   "source": []
  }
 ],
 "metadata": {
  "kernelspec": {
   "display_name": "Python [conda env:Anaconda3]",
   "language": "python",
   "name": "conda-env-Anaconda3-py"
  },
  "language_info": {
   "codemirror_mode": {
    "name": "ipython",
    "version": 3
   },
   "file_extension": ".py",
   "mimetype": "text/x-python",
   "name": "python",
   "nbconvert_exporter": "python",
   "pygments_lexer": "ipython3",
   "version": "3.5.4"
  },
  "toc": {
   "nav_menu": {},
   "number_sections": true,
   "sideBar": true,
   "skip_h1_title": false,
   "toc_cell": false,
   "toc_position": {},
   "toc_section_display": "block",
   "toc_window_display": false
  }
 },
 "nbformat": 4,
 "nbformat_minor": 2
}
