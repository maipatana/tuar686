{
  "nbformat": 4,
  "nbformat_minor": 0,
  "metadata": {
    "kernelspec": {
      "display_name": "Python [conda env:Anaconda3]",
      "language": "python",
      "name": "conda-env-Anaconda3-py"
    },
    "language_info": {
      "codemirror_mode": {
        "name": "ipython",
        "version": 3
      },
      "file_extension": ".py",
      "mimetype": "text/x-python",
      "name": "python",
      "nbconvert_exporter": "python",
      "pygments_lexer": "ipython3",
      "version": "3.5.4"
    },
    "toc": {
      "nav_menu": {},
      "number_sections": true,
      "sideBar": true,
      "skip_h1_title": false,
      "toc_cell": false,
      "toc_position": {},
      "toc_section_display": "block",
      "toc_window_display": true
    },
    "colab": {
      "name": "Pandas for AR 686.ipynb",
      "provenance": []
    }
  },
  "cells": [
    {
      "cell_type": "markdown",
      "metadata": {
        "id": "jP2nG6c6O_HI",
        "colab_type": "text"
      },
      "source": [
        "# Pandas"
      ]
    },
    {
      "cell_type": "markdown",
      "metadata": {
        "id": "lq_3KubgO_HN",
        "colab_type": "text"
      },
      "source": [
        "อ่านเพิ่มเติม https://blog.datath.com/cheatsheet-pandas/  <--ภาษาไทย  \n",
        "https://pandas.pydata.org/pandas-docs/stable/"
      ]
    },
    {
      "cell_type": "markdown",
      "metadata": {
        "id": "Qn-ZWj-sO_HP",
        "colab_type": "text"
      },
      "source": [
        "## Series"
      ]
    },
    {
      "cell_type": "code",
      "metadata": {
        "id": "3gvc65YsO_HS",
        "colab_type": "code",
        "colab": {}
      },
      "source": [
        "import pandas as pd"
      ],
      "execution_count": 0,
      "outputs": []
    },
    {
      "cell_type": "code",
      "metadata": {
        "id": "Bs5USJG3O_HX",
        "colab_type": "code",
        "colab": {}
      },
      "source": [
        "#Let's create a Series (array of data and data labels, its index)\n",
        "\n",
        "obj = pd.Series([3,6,9,12])\n",
        "obj"
      ],
      "execution_count": 0,
      "outputs": []
    },
    {
      "cell_type": "code",
      "metadata": {
        "id": "OuWpdS-gO_Hc",
        "colab_type": "code",
        "colab": {}
      },
      "source": [
        "# Add index to series\n",
        "obj = pd.Series(\n",
        "                data =  [3,6,9,12], # Value of Series\n",
        "                index = ['A','B','C','D'] # Index of Series\n",
        "               )\n",
        "obj"
      ],
      "execution_count": 0,
      "outputs": []
    },
    {
      "cell_type": "code",
      "metadata": {
        "id": "2Otvhnp8O_Hg",
        "colab_type": "code",
        "colab": {}
      },
      "source": [
        "#Lets show the values --> numpy array\n",
        "obj.values"
      ],
      "execution_count": 0,
      "outputs": []
    },
    {
      "cell_type": "code",
      "metadata": {
        "id": "SrEjczZMO_Hi",
        "colab_type": "code",
        "colab": {}
      },
      "source": [
        ""
      ],
      "execution_count": 0,
      "outputs": []
    },
    {
      "cell_type": "code",
      "metadata": {
        "id": "6CHOUUYUO_Hl",
        "colab_type": "code",
        "colab": {}
      },
      "source": [
        "# type become numpy array\n",
        "type(obj.values)"
      ],
      "execution_count": 0,
      "outputs": []
    },
    {
      "cell_type": "markdown",
      "metadata": {
        "id": "m9JFuQKHO_Hn",
        "colab_type": "text"
      },
      "source": [
        "### Exercise\n",
        "\n",
        "สร้าง Series ชื่อ data ที่เก็บจำนวนชั่วโมงในการทำงานของแต่ละโปรเจค  \n",
        "* KHKY (80) CHMP (54) และ SCHH (72) \n",
        "* Index เป็นตัวต่อชื่อโปรเจค ['KHKY','CHMP','SCHH']\n",
        "* Value เป็นจำนวนชั่วโมงที่ใช้ทำงาน [80,54,72]"
      ]
    },
    {
      "cell_type": "code",
      "metadata": {
        "id": "z5YrJOVAO_Ho",
        "colab_type": "code",
        "colab": {}
      },
      "source": [
        "data = pd.Series(data  = [], # จำนวนชั่วโมง\n",
        "                     index =  []  # Index of Series ตัวย่อโปรเจค\n",
        "               )\n",
        "data"
      ],
      "execution_count": 0,
      "outputs": []
    },
    {
      "cell_type": "code",
      "metadata": {
        "scrolled": true,
        "id": "-dAziC37O_Hs",
        "colab_type": "code",
        "colab": {}
      },
      "source": [
        "data['KHKY']"
      ],
      "execution_count": 0,
      "outputs": []
    },
    {
      "cell_type": "code",
      "metadata": {
        "id": "uHnmq5MxO_Hv",
        "colab_type": "code",
        "colab": {}
      },
      "source": [
        ""
      ],
      "execution_count": 0,
      "outputs": []
    },
    {
      "cell_type": "code",
      "metadata": {
        "id": "BKXRwcIBO_Hx",
        "colab_type": "code",
        "colab": {}
      },
      "source": [
        ""
      ],
      "execution_count": 0,
      "outputs": []
    },
    {
      "cell_type": "code",
      "metadata": {
        "id": "2Eo1Yz4kO_H0",
        "colab_type": "code",
        "colab": {}
      },
      "source": [
        ""
      ],
      "execution_count": 0,
      "outputs": []
    },
    {
      "cell_type": "markdown",
      "metadata": {
        "id": "NT0sBy-RO_H2",
        "colab_type": "text"
      },
      "source": [
        "### Solution\n",
        "\n"
      ]
    },
    {
      "cell_type": "code",
      "metadata": {
        "id": "vxTo2bdsO_H3",
        "colab_type": "code",
        "colab": {}
      },
      "source": [
        "data = pd.Series(data  = [80,54,72], # จำนวนชั่วโมง\n",
        "                     index =  ['KHKY','CHMP','SCHH']  # Index of Series ตัวย่อโปรเจค\n",
        "               )\n",
        "data"
      ],
      "execution_count": 0,
      "outputs": []
    },
    {
      "cell_type": "code",
      "metadata": {
        "id": "If2CJr_YO_H6",
        "colab_type": "code",
        "colab": {}
      },
      "source": [
        "data['KHKY']"
      ],
      "execution_count": 0,
      "outputs": []
    },
    {
      "cell_type": "markdown",
      "metadata": {
        "id": "OpJvH_tgO_H-",
        "colab_type": "text"
      },
      "source": [
        "## Accessing series"
      ]
    },
    {
      "cell_type": "code",
      "metadata": {
        "id": "fPrDUWFnO_H_",
        "colab_type": "code",
        "colab": {}
      },
      "source": [
        "# อุณหภูมิภายนอกของวันที่ 21-22 June\n",
        "out_temp =[26.8, 26.6, 26.3, 26.1, 26.1, 26.2, 26.2, 27.8, 29.5, 31.1, 31.7, 32.2, 32.8, 32.8, \n",
        "           32.9, 32.9, 32.1, 31.3, 30.5, 30.0, 29.5, 29.0, 29.2, 29.3, 29.5, 29.1, 28.6, 28.2,\n",
        "           28.0, 27.9, 27.7, 29.1, 30.5, 31.9, 32.6, 33.2, 33.9, 31.1, 28.4, 25.6, 26.8, 28.1,\n",
        "           29.3, 29.0, 28.7, 28.4, 28.3, 28.1]"
      ],
      "execution_count": 0,
      "outputs": []
    },
    {
      "cell_type": "code",
      "metadata": {
        "id": "Nhj9DasfO_IB",
        "colab_type": "code",
        "colab": {}
      },
      "source": [
        "len(out_temp)"
      ],
      "execution_count": 0,
      "outputs": []
    },
    {
      "cell_type": "code",
      "metadata": {
        "id": "B0Hh54DUO_ID",
        "colab_type": "code",
        "colab": {}
      },
      "source": [
        "import pandas as pd\n",
        "%matplotlib inline"
      ],
      "execution_count": 0,
      "outputs": []
    },
    {
      "cell_type": "code",
      "metadata": {
        "scrolled": true,
        "id": "3qUcZjEGO_IG",
        "colab_type": "code",
        "colab": {}
      },
      "source": [
        "dti = pd.date_range('2018-06-21', periods=48, freq='H')"
      ],
      "execution_count": 0,
      "outputs": []
    },
    {
      "cell_type": "code",
      "metadata": {
        "id": "iYFGR_6zO_IJ",
        "colab_type": "code",
        "colab": {}
      },
      "source": [
        ""
      ],
      "execution_count": 0,
      "outputs": []
    },
    {
      "cell_type": "code",
      "metadata": {
        "id": "sg1XZ1IqO_IM",
        "colab_type": "code",
        "colab": {}
      },
      "source": [
        "df_temp = pd.Series(out_temp, dti)"
      ],
      "execution_count": 0,
      "outputs": []
    },
    {
      "cell_type": "code",
      "metadata": {
        "id": "4Oo4SNyhO_IU",
        "colab_type": "code",
        "colab": {}
      },
      "source": [
        "df_temp"
      ],
      "execution_count": 0,
      "outputs": []
    },
    {
      "cell_type": "code",
      "metadata": {
        "id": "YdDYFa3_O_IX",
        "colab_type": "code",
        "colab": {}
      },
      "source": [
        "df_temp[0:2]"
      ],
      "execution_count": 0,
      "outputs": []
    },
    {
      "cell_type": "code",
      "metadata": {
        "scrolled": true,
        "id": "K8RswCUuO_Id",
        "colab_type": "code",
        "colab": {}
      },
      "source": [
        "df_temp[:24]"
      ],
      "execution_count": 0,
      "outputs": []
    },
    {
      "cell_type": "code",
      "metadata": {
        "id": "lUmdjGWDO_Ii",
        "colab_type": "code",
        "colab": {}
      },
      "source": [
        "df_temp[::3]"
      ],
      "execution_count": 0,
      "outputs": []
    },
    {
      "cell_type": "code",
      "metadata": {
        "id": "ZEat1rmAO_Ik",
        "colab_type": "code",
        "colab": {}
      },
      "source": [
        "df_temp.plot()"
      ],
      "execution_count": 0,
      "outputs": []
    },
    {
      "cell_type": "code",
      "metadata": {
        "id": "NnYfDpu-O_Il",
        "colab_type": "code",
        "colab": {}
      },
      "source": [
        "df_temp[df_temp>30]"
      ],
      "execution_count": 0,
      "outputs": []
    },
    {
      "cell_type": "code",
      "metadata": {
        "id": "Abk_X8KIO_In",
        "colab_type": "code",
        "colab": {}
      },
      "source": [
        "df_temp[df_temp>30].describe()"
      ],
      "execution_count": 0,
      "outputs": []
    },
    {
      "cell_type": "code",
      "metadata": {
        "id": "Vw6mjT5OO_Ip",
        "colab_type": "code",
        "colab": {}
      },
      "source": [
        "df_temp.describe()"
      ],
      "execution_count": 0,
      "outputs": []
    },
    {
      "cell_type": "markdown",
      "metadata": {
        "id": "doGyeSRRO_Ir",
        "colab_type": "text"
      },
      "source": [
        "## Concat"
      ]
    },
    {
      "cell_type": "code",
      "metadata": {
        "collapsed": true,
        "scrolled": true,
        "id": "GH8Rhn8-O_Is",
        "colab_type": "code",
        "colab": {}
      },
      "source": [
        "import random\n",
        "out_temp_2 = [(random.random()*3)+i for i in out_temp]\n",
        "df_temp_2 = pd.Series(out_temp_2, dti)"
      ],
      "execution_count": 0,
      "outputs": []
    },
    {
      "cell_type": "code",
      "metadata": {
        "collapsed": true,
        "id": "N9v-ydCMO_It",
        "colab_type": "code",
        "colab": {}
      },
      "source": [
        ""
      ],
      "execution_count": 0,
      "outputs": []
    },
    {
      "cell_type": "code",
      "metadata": {
        "collapsed": true,
        "id": "kiomNH5pO_Iv",
        "colab_type": "code",
        "colab": {}
      },
      "source": [
        "df_two_temp = pd.concat([df_temp, df_temp_2])"
      ],
      "execution_count": 0,
      "outputs": []
    },
    {
      "cell_type": "code",
      "metadata": {
        "scrolled": true,
        "id": "7IbmmW_GO_Ix",
        "colab_type": "code",
        "colab": {}
      },
      "source": [
        "df_two_temp"
      ],
      "execution_count": 0,
      "outputs": []
    },
    {
      "cell_type": "code",
      "metadata": {
        "collapsed": true,
        "id": "EhVxpSctO_Iz",
        "colab_type": "code",
        "colab": {}
      },
      "source": [
        "df_two_temp = pd.concat([df_temp, df_temp_2], axis = 1)"
      ],
      "execution_count": 0,
      "outputs": []
    },
    {
      "cell_type": "code",
      "metadata": {
        "id": "lk51TznDO_I0",
        "colab_type": "code",
        "colab": {}
      },
      "source": [
        "df_two_temp.tail()"
      ],
      "execution_count": 0,
      "outputs": []
    },
    {
      "cell_type": "code",
      "metadata": {
        "collapsed": true,
        "id": "pLApQ0VVO_I2",
        "colab_type": "code",
        "colab": {}
      },
      "source": [
        "df_two_temp.columns = ['2017', '2018']"
      ],
      "execution_count": 0,
      "outputs": []
    },
    {
      "cell_type": "code",
      "metadata": {
        "id": "RcIB0SfUO_I8",
        "colab_type": "code",
        "colab": {}
      },
      "source": [
        "df_two_temp.head()"
      ],
      "execution_count": 0,
      "outputs": []
    },
    {
      "cell_type": "code",
      "metadata": {
        "id": "fyCyY7SiO_I_",
        "colab_type": "code",
        "colab": {}
      },
      "source": [
        "df_two_temp.plot()"
      ],
      "execution_count": 0,
      "outputs": []
    },
    {
      "cell_type": "code",
      "metadata": {
        "id": "n5N3ve50O_JC",
        "colab_type": "code",
        "colab": {}
      },
      "source": [
        "df_two_temp[df_two_temp>30].plot()"
      ],
      "execution_count": 0,
      "outputs": []
    },
    {
      "cell_type": "code",
      "metadata": {
        "scrolled": true,
        "id": "7O3B9HMBO_JF",
        "colab_type": "code",
        "colab": {}
      },
      "source": [
        "df_two_temp.drop('2018',axis=1)"
      ],
      "execution_count": 0,
      "outputs": []
    },
    {
      "cell_type": "code",
      "metadata": {
        "id": "843mEPGFO_JH",
        "colab_type": "code",
        "colab": {}
      },
      "source": [
        "df_two_temp.head()"
      ],
      "execution_count": 0,
      "outputs": []
    },
    {
      "cell_type": "code",
      "metadata": {
        "collapsed": true,
        "id": "mBCh_pC_O_JJ",
        "colab_type": "code",
        "colab": {}
      },
      "source": [
        "droped_df = df_two_temp.drop('2018',axis=1)"
      ],
      "execution_count": 0,
      "outputs": []
    },
    {
      "cell_type": "code",
      "metadata": {
        "id": "I1EDeyakO_JL",
        "colab_type": "code",
        "colab": {}
      },
      "source": [
        "droped_df.head()"
      ],
      "execution_count": 0,
      "outputs": []
    },
    {
      "cell_type": "code",
      "metadata": {
        "collapsed": true,
        "id": "zprx2913O_JO",
        "colab_type": "code",
        "colab": {}
      },
      "source": [
        "df = pd.DataFrame({'2017': out_temp, '2018': out_temp_2}, index=dti)"
      ],
      "execution_count": 0,
      "outputs": []
    },
    {
      "cell_type": "code",
      "metadata": {
        "id": "3zwM3rnGO_JQ",
        "colab_type": "code",
        "colab": {}
      },
      "source": [
        "df.head()"
      ],
      "execution_count": 0,
      "outputs": []
    },
    {
      "cell_type": "code",
      "metadata": {
        "collapsed": true,
        "id": "zsVVwAreO_JS",
        "colab_type": "code",
        "colab": {}
      },
      "source": [
        ""
      ],
      "execution_count": 0,
      "outputs": []
    },
    {
      "cell_type": "markdown",
      "metadata": {
        "id": "Ern1OU0HO_JU",
        "colab_type": "text"
      },
      "source": [
        "## Read File"
      ]
    },
    {
      "cell_type": "code",
      "metadata": {
        "id": "ygBxRfwsO_JV",
        "colab_type": "code",
        "colab": {}
      },
      "source": [
        "data = []\n",
        "\n",
        "with open('./data/out_temp_21_22_June.txt', 'r') as readFile:\n",
        "    for i in readFile:\n",
        "        data.append(float(i.strip('\\n')))"
      ],
      "execution_count": 0,
      "outputs": []
    },
    {
      "cell_type": "code",
      "metadata": {
        "scrolled": true,
        "id": "K9F9QYb0O_JY",
        "colab_type": "code",
        "colab": {}
      },
      "source": [
        "data"
      ],
      "execution_count": 0,
      "outputs": []
    },
    {
      "cell_type": "code",
      "metadata": {
        "id": "OlV5kbJvO_Jb",
        "colab_type": "code",
        "colab": {}
      },
      "source": [
        "df = pd.Series(data)"
      ],
      "execution_count": 0,
      "outputs": []
    },
    {
      "cell_type": "code",
      "metadata": {
        "id": "BslsFPMcO_Jd",
        "colab_type": "code",
        "colab": {}
      },
      "source": [
        "df.head()"
      ],
      "execution_count": 0,
      "outputs": []
    },
    {
      "cell_type": "code",
      "metadata": {
        "id": "8sZVqNOmO_Ji",
        "colab_type": "code",
        "colab": {}
      },
      "source": [
        "import pandas as pd"
      ],
      "execution_count": 0,
      "outputs": []
    },
    {
      "cell_type": "code",
      "metadata": {
        "id": "wlZdooLYO_Jk",
        "colab_type": "code",
        "colab": {}
      },
      "source": [
        ""
      ],
      "execution_count": 0,
      "outputs": []
    },
    {
      "cell_type": "code",
      "metadata": {
        "id": "NMR450i7O_Jm",
        "colab_type": "code",
        "colab": {}
      },
      "source": [
        "df = pd.read_fwf('./data/out_temp_21_22_June.txt', header= None)"
      ],
      "execution_count": 0,
      "outputs": []
    },
    {
      "cell_type": "code",
      "metadata": {
        "id": "5bXB567IO_Jn",
        "colab_type": "code",
        "colab": {}
      },
      "source": [
        "df"
      ],
      "execution_count": 0,
      "outputs": []
    },
    {
      "cell_type": "code",
      "metadata": {
        "id": "v--LhwuoO_Jp",
        "colab_type": "code",
        "colab": {}
      },
      "source": [
        "df.index = dti"
      ],
      "execution_count": 0,
      "outputs": []
    },
    {
      "cell_type": "code",
      "metadata": {
        "id": "li30MvzBO_Js",
        "colab_type": "code",
        "colab": {}
      },
      "source": [
        "df"
      ],
      "execution_count": 0,
      "outputs": []
    },
    {
      "cell_type": "code",
      "metadata": {
        "id": "Io6uIIkOO_Jx",
        "colab_type": "code",
        "colab": {}
      },
      "source": [
        "df.columns = ['Outdoor Temperature']"
      ],
      "execution_count": 0,
      "outputs": []
    },
    {
      "cell_type": "code",
      "metadata": {
        "id": "YiROxHCYO_Jy",
        "colab_type": "code",
        "colab": {}
      },
      "source": [
        "df"
      ],
      "execution_count": 0,
      "outputs": []
    },
    {
      "cell_type": "code",
      "metadata": {
        "id": "Jfc2ONDjO_J0",
        "colab_type": "code",
        "colab": {}
      },
      "source": [
        "df.plot()"
      ],
      "execution_count": 0,
      "outputs": []
    },
    {
      "cell_type": "code",
      "metadata": {
        "id": "7pLVXRlQO_J4",
        "colab_type": "code",
        "colab": {}
      },
      "source": [
        ""
      ],
      "execution_count": 0,
      "outputs": []
    },
    {
      "cell_type": "code",
      "metadata": {
        "id": "3EmVeB4bO_J9",
        "colab_type": "code",
        "colab": {}
      },
      "source": [
        ""
      ],
      "execution_count": 0,
      "outputs": []
    },
    {
      "cell_type": "code",
      "metadata": {
        "id": "WMt9A9bcO_KA",
        "colab_type": "code",
        "colab": {}
      },
      "source": [
        ""
      ],
      "execution_count": 0,
      "outputs": []
    },
    {
      "cell_type": "markdown",
      "metadata": {
        "id": "BckdtJedO_KC",
        "colab_type": "text"
      },
      "source": [
        "### Exercise\n",
        "\n",
        "* import csv file จาก './data/out_temp_21_22_June.csv' \n",
        "* พลอทกราฟแบบเส้นเพื่อแสดงอุณหภูมิภายนอกของวันที่ 21 และ 22 ทุกๆ 2 ชั่วโมง"
      ]
    },
    {
      "cell_type": "code",
      "metadata": {
        "collapsed": true,
        "id": "OxX3_wWNO_KF",
        "colab_type": "code",
        "colab": {}
      },
      "source": [
        "df = pd.read_csv('./data/out_temp_21_22_June.csv', header = None)"
      ],
      "execution_count": 0,
      "outputs": []
    },
    {
      "cell_type": "code",
      "metadata": {
        "collapsed": true,
        "scrolled": true,
        "id": "0giGxr-rO_KI",
        "colab_type": "code",
        "colab": {}
      },
      "source": [
        "df = df.drop(1, axis=1)"
      ],
      "execution_count": 0,
      "outputs": []
    },
    {
      "cell_type": "code",
      "metadata": {
        "collapsed": true,
        "id": "xqryIwksO_KK",
        "colab_type": "code",
        "colab": {}
      },
      "source": [
        "df.index= dti"
      ],
      "execution_count": 0,
      "outputs": []
    },
    {
      "cell_type": "code",
      "metadata": {
        "collapsed": true,
        "scrolled": true,
        "id": "9iAH6X8mO_KM",
        "colab_type": "code",
        "colab": {}
      },
      "source": [
        "df.columns = ['Out Temp']"
      ],
      "execution_count": 0,
      "outputs": []
    },
    {
      "cell_type": "code",
      "metadata": {
        "id": "MgMOfQPbO_KR",
        "colab_type": "code",
        "colab": {}
      },
      "source": [
        "df[::2].plot()"
      ],
      "execution_count": 0,
      "outputs": []
    },
    {
      "cell_type": "code",
      "metadata": {
        "id": "YTzhheI9O_KU",
        "colab_type": "code",
        "colab": {}
      },
      "source": [
        ""
      ],
      "execution_count": 0,
      "outputs": []
    },
    {
      "cell_type": "code",
      "metadata": {
        "collapsed": true,
        "id": "037jWuH1O_KW",
        "colab_type": "code",
        "colab": {}
      },
      "source": [
        ""
      ],
      "execution_count": 0,
      "outputs": []
    },
    {
      "cell_type": "code",
      "metadata": {
        "collapsed": true,
        "id": "3nHGWlE8O_KY",
        "colab_type": "code",
        "colab": {}
      },
      "source": [
        ""
      ],
      "execution_count": 0,
      "outputs": []
    },
    {
      "cell_type": "code",
      "metadata": {
        "collapsed": true,
        "id": "rrXegJlVO_Ka",
        "colab_type": "code",
        "colab": {}
      },
      "source": [
        ""
      ],
      "execution_count": 0,
      "outputs": []
    },
    {
      "cell_type": "code",
      "metadata": {
        "collapsed": true,
        "id": "2WN_3KZvO_Kc",
        "colab_type": "code",
        "colab": {}
      },
      "source": [
        ""
      ],
      "execution_count": 0,
      "outputs": []
    },
    {
      "cell_type": "markdown",
      "metadata": {
        "id": "1--85-5pO_Ke",
        "colab_type": "text"
      },
      "source": [
        "### Solution"
      ]
    },
    {
      "cell_type": "code",
      "metadata": {
        "collapsed": true,
        "id": "bR-j3QuZO_Kf",
        "colab_type": "code",
        "colab": {}
      },
      "source": [
        "df = pd.read_csv('../data/out_temp_21_22_June.csv', header = None)"
      ],
      "execution_count": 0,
      "outputs": []
    },
    {
      "cell_type": "code",
      "metadata": {
        "collapsed": true,
        "id": "AjHscMYDO_Kj",
        "colab_type": "code",
        "colab": {}
      },
      "source": [
        "df.columns"
      ],
      "execution_count": 0,
      "outputs": []
    },
    {
      "cell_type": "code",
      "metadata": {
        "collapsed": true,
        "id": "kYW3F2RuO_Kl",
        "colab_type": "code",
        "colab": {}
      },
      "source": [
        "df = df.drop(1, axis=1)"
      ],
      "execution_count": 0,
      "outputs": []
    },
    {
      "cell_type": "code",
      "metadata": {
        "collapsed": true,
        "id": "_0Ea_bUYO_Kn",
        "colab_type": "code",
        "colab": {}
      },
      "source": [
        "df.index = dti\n",
        "df.columns = ['Outside Temperature(C)']"
      ],
      "execution_count": 0,
      "outputs": []
    },
    {
      "cell_type": "code",
      "metadata": {
        "collapsed": true,
        "id": "7SxUjNoaO_Kp",
        "colab_type": "code",
        "colab": {}
      },
      "source": [
        "df.head()"
      ],
      "execution_count": 0,
      "outputs": []
    },
    {
      "cell_type": "code",
      "metadata": {
        "collapsed": true,
        "id": "2na1lH_5O_Kq",
        "colab_type": "code",
        "colab": {}
      },
      "source": [
        "df.plot()"
      ],
      "execution_count": 0,
      "outputs": []
    },
    {
      "cell_type": "code",
      "metadata": {
        "collapsed": true,
        "id": "sI68SoUXO_Kt",
        "colab_type": "code",
        "colab": {}
      },
      "source": [
        ""
      ],
      "execution_count": 0,
      "outputs": []
    },
    {
      "cell_type": "code",
      "metadata": {
        "collapsed": true,
        "id": "E3QJCzhLO_Kv",
        "colab_type": "code",
        "colab": {}
      },
      "source": [
        ""
      ],
      "execution_count": 0,
      "outputs": []
    },
    {
      "cell_type": "code",
      "metadata": {
        "collapsed": true,
        "id": "KCuh7i4mO_Kw",
        "colab_type": "code",
        "colab": {}
      },
      "source": [
        "# Read Excel File"
      ],
      "execution_count": 0,
      "outputs": []
    },
    {
      "cell_type": "code",
      "metadata": {
        "collapsed": true,
        "id": "KL4N58WXO_K4",
        "colab_type": "code",
        "colab": {}
      },
      "source": [
        "df = pd.read_excel('./data/time_sheet.xlsx')"
      ],
      "execution_count": 0,
      "outputs": []
    },
    {
      "cell_type": "code",
      "metadata": {
        "id": "tOqxXUC_O_K6",
        "colab_type": "code",
        "colab": {}
      },
      "source": [
        "df"
      ],
      "execution_count": 0,
      "outputs": []
    },
    {
      "cell_type": "code",
      "metadata": {
        "id": "SU6Sqrc2O_K8",
        "colab_type": "code",
        "colab": {}
      },
      "source": [
        "df.iloc[:,:4]"
      ],
      "execution_count": 0,
      "outputs": []
    },
    {
      "cell_type": "code",
      "metadata": {
        "id": "8oGbv90QO_K-",
        "colab_type": "code",
        "colab": {}
      },
      "source": [
        "df.iloc[:,:4].plot(kind='bar', legend=False)"
      ],
      "execution_count": 0,
      "outputs": []
    },
    {
      "cell_type": "code",
      "metadata": {
        "id": "hEOwBdrrO_LD",
        "colab_type": "code",
        "colab": {}
      },
      "source": [
        "df.sort_values('Total', ascending=False)['Total'].plot(kind='bar')"
      ],
      "execution_count": 0,
      "outputs": []
    },
    {
      "cell_type": "code",
      "metadata": {
        "id": "QiNleTzLO_LF",
        "colab_type": "code",
        "colab": {}
      },
      "source": [
        "df['Income'] / df['Total']"
      ],
      "execution_count": 0,
      "outputs": []
    },
    {
      "cell_type": "code",
      "metadata": {
        "id": "aM52g4wnO_LH",
        "colab_type": "code",
        "colab": {}
      },
      "source": [
        "(df['Income'] / df['Total']).plot(kind='bar')"
      ],
      "execution_count": 0,
      "outputs": []
    },
    {
      "cell_type": "code",
      "metadata": {
        "collapsed": true,
        "id": "S9wmTZ0OO_LI",
        "colab_type": "code",
        "colab": {}
      },
      "source": [
        ""
      ],
      "execution_count": 0,
      "outputs": []
    }
  ]
}