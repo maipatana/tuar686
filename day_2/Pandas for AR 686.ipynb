{
 "cells": [
  {
   "cell_type": "markdown",
   "metadata": {},
   "source": [
    "# Pandas"
   ]
  },
  {
   "cell_type": "markdown",
   "metadata": {},
   "source": [
    "อ่านเพิ่มเติม https://blog.datath.com/cheatsheet-pandas/  <--ภาษาไทย  \n",
    "https://pandas.pydata.org/pandas-docs/stable/"
   ]
  },
  {
   "cell_type": "markdown",
   "metadata": {},
   "source": [
    "## Series"
   ]
  },
  {
   "cell_type": "code",
   "execution_count": 2,
   "metadata": {
    "collapsed": true
   },
   "outputs": [],
   "source": [
    "import pandas as pd"
   ]
  },
  {
   "cell_type": "code",
   "execution_count": 3,
   "metadata": {},
   "outputs": [
    {
     "data": {
      "text/plain": [
       "0     3\n",
       "1     6\n",
       "2     9\n",
       "3    12\n",
       "dtype: int64"
      ]
     },
     "execution_count": 3,
     "metadata": {},
     "output_type": "execute_result"
    }
   ],
   "source": [
    "#Let's create a Series (array of data and data labels, its index)\n",
    "\n",
    "obj = pd.Series([3,6,9,12])\n",
    "obj"
   ]
  },
  {
   "cell_type": "code",
   "execution_count": 4,
   "metadata": {},
   "outputs": [
    {
     "data": {
      "text/plain": [
       "A     3\n",
       "B     6\n",
       "C     9\n",
       "D    12\n",
       "dtype: int64"
      ]
     },
     "execution_count": 4,
     "metadata": {},
     "output_type": "execute_result"
    }
   ],
   "source": [
    "# Add index to series\n",
    "obj = pd.Series(\n",
    "                data =  [3,6,9,12], # Value of Series\n",
    "                index = ['A','B','C','D'] # Index of Series\n",
    "               )\n",
    "obj"
   ]
  },
  {
   "cell_type": "code",
   "execution_count": 5,
   "metadata": {},
   "outputs": [
    {
     "data": {
      "text/plain": [
       "array([ 3,  6,  9, 12], dtype=int64)"
      ]
     },
     "execution_count": 5,
     "metadata": {},
     "output_type": "execute_result"
    }
   ],
   "source": [
    "#Lets show the values --> numpy array\n",
    "obj.values"
   ]
  },
  {
   "cell_type": "code",
   "execution_count": null,
   "metadata": {
    "collapsed": true
   },
   "outputs": [],
   "source": []
  },
  {
   "cell_type": "code",
   "execution_count": 6,
   "metadata": {},
   "outputs": [
    {
     "data": {
      "text/plain": [
       "numpy.ndarray"
      ]
     },
     "execution_count": 6,
     "metadata": {},
     "output_type": "execute_result"
    }
   ],
   "source": [
    "# type become numpy array\n",
    "type(obj.values)"
   ]
  },
  {
   "cell_type": "markdown",
   "metadata": {},
   "source": [
    "### Exercise\n",
    "\n",
    "สร้าง Series ชื่อ data ที่เก็บจำนวนชั่วโมงในการทำงานของแต่ละโปรเจค  \n",
    "* KHKY (80) CHMP (54) และ SCHH (72) \n",
    "* Index เป็นตัวต่อชื่อโปรเจค ['KHKY','CHMP','SCHH']\n",
    "* Value เป็นจำนวนชั่วโมงที่ใช้ทำงาน [80,54,72]"
   ]
  },
  {
   "cell_type": "code",
   "execution_count": 7,
   "metadata": {},
   "outputs": [
    {
     "data": {
      "text/plain": [
       "Series([], dtype: float64)"
      ]
     },
     "execution_count": 7,
     "metadata": {},
     "output_type": "execute_result"
    }
   ],
   "source": [
    "data = pd.Series(data  = [], # จำนวนชั่วโมง\n",
    "                     index =  []  # Index of Series ตัวย่อโปรเจค\n",
    "               )\n",
    "data"
   ]
  },
  {
   "cell_type": "code",
   "execution_count": 8,
   "metadata": {
    "scrolled": true
   },
   "outputs": [
    {
     "ename": "KeyError",
     "evalue": "'KHKY'",
     "output_type": "error",
     "traceback": [
      "\u001b[1;31m---------------------------------------------------------------------------\u001b[0m",
      "\u001b[1;31mTypeError\u001b[0m                                 Traceback (most recent call last)",
      "\u001b[1;32m~\\Anaconda3\\lib\\site-packages\\pandas\\core\\indexes\\base.py\u001b[0m in \u001b[0;36mget_value\u001b[1;34m(self, series, key)\u001b[0m\n\u001b[0;32m   2482\u001b[0m             \u001b[1;32mtry\u001b[0m\u001b[1;33m:\u001b[0m\u001b[1;33m\u001b[0m\u001b[0m\n\u001b[1;32m-> 2483\u001b[1;33m                 \u001b[1;32mreturn\u001b[0m \u001b[0mlibts\u001b[0m\u001b[1;33m.\u001b[0m\u001b[0mget_value_box\u001b[0m\u001b[1;33m(\u001b[0m\u001b[0ms\u001b[0m\u001b[1;33m,\u001b[0m \u001b[0mkey\u001b[0m\u001b[1;33m)\u001b[0m\u001b[1;33m\u001b[0m\u001b[0m\n\u001b[0m\u001b[0;32m   2484\u001b[0m             \u001b[1;32mexcept\u001b[0m \u001b[0mIndexError\u001b[0m\u001b[1;33m:\u001b[0m\u001b[1;33m\u001b[0m\u001b[0m\n",
      "\u001b[1;32mpandas/_libs/tslib.pyx\u001b[0m in \u001b[0;36mpandas._libs.tslib.get_value_box (pandas\\_libs\\tslib.c:18843)\u001b[1;34m()\u001b[0m\n",
      "\u001b[1;32mpandas/_libs/tslib.pyx\u001b[0m in \u001b[0;36mpandas._libs.tslib.get_value_box (pandas\\_libs\\tslib.c:18477)\u001b[1;34m()\u001b[0m\n",
      "\u001b[1;31mTypeError\u001b[0m: 'str' object cannot be interpreted as an integer",
      "\nDuring handling of the above exception, another exception occurred:\n",
      "\u001b[1;31mKeyError\u001b[0m                                  Traceback (most recent call last)",
      "\u001b[1;32m<ipython-input-8-842bf4ba8cef>\u001b[0m in \u001b[0;36m<module>\u001b[1;34m()\u001b[0m\n\u001b[1;32m----> 1\u001b[1;33m \u001b[0mdata\u001b[0m\u001b[1;33m[\u001b[0m\u001b[1;34m'KHKY'\u001b[0m\u001b[1;33m]\u001b[0m\u001b[1;33m\u001b[0m\u001b[0m\n\u001b[0m",
      "\u001b[1;32m~\\Anaconda3\\lib\\site-packages\\pandas\\core\\series.py\u001b[0m in \u001b[0;36m__getitem__\u001b[1;34m(self, key)\u001b[0m\n\u001b[0;32m    599\u001b[0m         \u001b[0mkey\u001b[0m \u001b[1;33m=\u001b[0m \u001b[0mcom\u001b[0m\u001b[1;33m.\u001b[0m\u001b[0m_apply_if_callable\u001b[0m\u001b[1;33m(\u001b[0m\u001b[0mkey\u001b[0m\u001b[1;33m,\u001b[0m \u001b[0mself\u001b[0m\u001b[1;33m)\u001b[0m\u001b[1;33m\u001b[0m\u001b[0m\n\u001b[0;32m    600\u001b[0m         \u001b[1;32mtry\u001b[0m\u001b[1;33m:\u001b[0m\u001b[1;33m\u001b[0m\u001b[0m\n\u001b[1;32m--> 601\u001b[1;33m             \u001b[0mresult\u001b[0m \u001b[1;33m=\u001b[0m \u001b[0mself\u001b[0m\u001b[1;33m.\u001b[0m\u001b[0mindex\u001b[0m\u001b[1;33m.\u001b[0m\u001b[0mget_value\u001b[0m\u001b[1;33m(\u001b[0m\u001b[0mself\u001b[0m\u001b[1;33m,\u001b[0m \u001b[0mkey\u001b[0m\u001b[1;33m)\u001b[0m\u001b[1;33m\u001b[0m\u001b[0m\n\u001b[0m\u001b[0;32m    602\u001b[0m \u001b[1;33m\u001b[0m\u001b[0m\n\u001b[0;32m    603\u001b[0m             \u001b[1;32mif\u001b[0m \u001b[1;32mnot\u001b[0m \u001b[0mis_scalar\u001b[0m\u001b[1;33m(\u001b[0m\u001b[0mresult\u001b[0m\u001b[1;33m)\u001b[0m\u001b[1;33m:\u001b[0m\u001b[1;33m\u001b[0m\u001b[0m\n",
      "\u001b[1;32m~\\Anaconda3\\lib\\site-packages\\pandas\\core\\indexes\\base.py\u001b[0m in \u001b[0;36mget_value\u001b[1;34m(self, series, key)\u001b[0m\n\u001b[0;32m   2489\u001b[0m                     \u001b[1;32mraise\u001b[0m \u001b[0mInvalidIndexError\u001b[0m\u001b[1;33m(\u001b[0m\u001b[0mkey\u001b[0m\u001b[1;33m)\u001b[0m\u001b[1;33m\u001b[0m\u001b[0m\n\u001b[0;32m   2490\u001b[0m                 \u001b[1;32melse\u001b[0m\u001b[1;33m:\u001b[0m\u001b[1;33m\u001b[0m\u001b[0m\n\u001b[1;32m-> 2491\u001b[1;33m                     \u001b[1;32mraise\u001b[0m \u001b[0me1\u001b[0m\u001b[1;33m\u001b[0m\u001b[0m\n\u001b[0m\u001b[0;32m   2492\u001b[0m             \u001b[1;32mexcept\u001b[0m \u001b[0mException\u001b[0m\u001b[1;33m:\u001b[0m  \u001b[1;31m# pragma: no cover\u001b[0m\u001b[1;33m\u001b[0m\u001b[0m\n\u001b[0;32m   2493\u001b[0m                 \u001b[1;32mraise\u001b[0m \u001b[0me1\u001b[0m\u001b[1;33m\u001b[0m\u001b[0m\n",
      "\u001b[1;32m~\\Anaconda3\\lib\\site-packages\\pandas\\core\\indexes\\base.py\u001b[0m in \u001b[0;36mget_value\u001b[1;34m(self, series, key)\u001b[0m\n\u001b[0;32m   2475\u001b[0m         \u001b[1;32mtry\u001b[0m\u001b[1;33m:\u001b[0m\u001b[1;33m\u001b[0m\u001b[0m\n\u001b[0;32m   2476\u001b[0m             return self._engine.get_value(s, k,\n\u001b[1;32m-> 2477\u001b[1;33m                                           tz=getattr(series.dtype, 'tz', None))\n\u001b[0m\u001b[0;32m   2478\u001b[0m         \u001b[1;32mexcept\u001b[0m \u001b[0mKeyError\u001b[0m \u001b[1;32mas\u001b[0m \u001b[0me1\u001b[0m\u001b[1;33m:\u001b[0m\u001b[1;33m\u001b[0m\u001b[0m\n\u001b[0;32m   2479\u001b[0m             \u001b[1;32mif\u001b[0m \u001b[0mlen\u001b[0m\u001b[1;33m(\u001b[0m\u001b[0mself\u001b[0m\u001b[1;33m)\u001b[0m \u001b[1;33m>\u001b[0m \u001b[1;36m0\u001b[0m \u001b[1;32mand\u001b[0m \u001b[0mself\u001b[0m\u001b[1;33m.\u001b[0m\u001b[0minferred_type\u001b[0m \u001b[1;32min\u001b[0m \u001b[1;33m[\u001b[0m\u001b[1;34m'integer'\u001b[0m\u001b[1;33m,\u001b[0m \u001b[1;34m'boolean'\u001b[0m\u001b[1;33m]\u001b[0m\u001b[1;33m:\u001b[0m\u001b[1;33m\u001b[0m\u001b[0m\n",
      "\u001b[1;32mpandas\\_libs\\index.pyx\u001b[0m in \u001b[0;36mpandas._libs.index.IndexEngine.get_value\u001b[1;34m()\u001b[0m\n",
      "\u001b[1;32mpandas\\_libs\\index.pyx\u001b[0m in \u001b[0;36mpandas._libs.index.IndexEngine.get_value\u001b[1;34m()\u001b[0m\n",
      "\u001b[1;32mpandas\\_libs\\index.pyx\u001b[0m in \u001b[0;36mpandas._libs.index.IndexEngine.get_loc\u001b[1;34m()\u001b[0m\n",
      "\u001b[1;32mpandas\\_libs\\hashtable_class_helper.pxi\u001b[0m in \u001b[0;36mpandas._libs.hashtable.PyObjectHashTable.get_item\u001b[1;34m()\u001b[0m\n",
      "\u001b[1;32mpandas\\_libs\\hashtable_class_helper.pxi\u001b[0m in \u001b[0;36mpandas._libs.hashtable.PyObjectHashTable.get_item\u001b[1;34m()\u001b[0m\n",
      "\u001b[1;31mKeyError\u001b[0m: 'KHKY'"
     ]
    }
   ],
   "source": [
    "data['KHKY']"
   ]
  },
  {
   "cell_type": "code",
   "execution_count": null,
   "metadata": {
    "collapsed": true
   },
   "outputs": [],
   "source": []
  },
  {
   "cell_type": "code",
   "execution_count": null,
   "metadata": {
    "collapsed": true
   },
   "outputs": [],
   "source": []
  },
  {
   "cell_type": "code",
   "execution_count": null,
   "metadata": {
    "collapsed": true
   },
   "outputs": [],
   "source": []
  },
  {
   "cell_type": "markdown",
   "metadata": {},
   "source": [
    "### Solution\n",
    "\n"
   ]
  },
  {
   "cell_type": "code",
   "execution_count": 9,
   "metadata": {},
   "outputs": [
    {
     "data": {
      "text/plain": [
       "KHKY    80\n",
       "CHMP    54\n",
       "SCHH    72\n",
       "dtype: int64"
      ]
     },
     "execution_count": 9,
     "metadata": {},
     "output_type": "execute_result"
    }
   ],
   "source": [
    "data = pd.Series(data  = [80,54,72], # จำนวนชั่วโมง\n",
    "                     index =  ['KHKY','CHMP','SCHH']  # Index of Series ตัวย่อโปรเจค\n",
    "               )\n",
    "data"
   ]
  },
  {
   "cell_type": "code",
   "execution_count": 10,
   "metadata": {},
   "outputs": [
    {
     "data": {
      "text/plain": [
       "80"
      ]
     },
     "execution_count": 10,
     "metadata": {},
     "output_type": "execute_result"
    }
   ],
   "source": [
    "data['KHKY']"
   ]
  },
  {
   "cell_type": "markdown",
   "metadata": {},
   "source": [
    "## Accessing series"
   ]
  },
  {
   "cell_type": "code",
   "execution_count": 11,
   "metadata": {
    "collapsed": true
   },
   "outputs": [],
   "source": [
    "# อุณหภูมิภายนอกของวันที่ 21-22 June\n",
    "out_temp =[26.8, 26.6, 26.3, 26.1, 26.1, 26.2, 26.2, 27.8, 29.5, 31.1, 31.7, 32.2, 32.8, 32.8, \n",
    "           32.9, 32.9, 32.1, 31.3, 30.5, 30.0, 29.5, 29.0, 29.2, 29.3, 29.5, 29.1, 28.6, 28.2,\n",
    "           28.0, 27.9, 27.7, 29.1, 30.5, 31.9, 32.6, 33.2, 33.9, 31.1, 28.4, 25.6, 26.8, 28.1,\n",
    "           29.3, 29.0, 28.7, 28.4, 28.3, 28.1]"
   ]
  },
  {
   "cell_type": "code",
   "execution_count": 12,
   "metadata": {},
   "outputs": [
    {
     "data": {
      "text/plain": [
       "48"
      ]
     },
     "execution_count": 12,
     "metadata": {},
     "output_type": "execute_result"
    }
   ],
   "source": [
    "len(out_temp)"
   ]
  },
  {
   "cell_type": "code",
   "execution_count": 13,
   "metadata": {
    "collapsed": true
   },
   "outputs": [],
   "source": [
    "import pandas as pd\n",
    "%matplotlib inline"
   ]
  },
  {
   "cell_type": "code",
   "execution_count": 14,
   "metadata": {
    "collapsed": true,
    "scrolled": true
   },
   "outputs": [],
   "source": [
    "dti = pd.date_range('2018-06-21', periods=48, freq='H')"
   ]
  },
  {
   "cell_type": "code",
   "execution_count": null,
   "metadata": {
    "collapsed": true
   },
   "outputs": [],
   "source": []
  },
  {
   "cell_type": "code",
   "execution_count": 16,
   "metadata": {
    "collapsed": true
   },
   "outputs": [],
   "source": [
    "df_temp = pd.Series(out_temp, dti)"
   ]
  },
  {
   "cell_type": "code",
   "execution_count": 17,
   "metadata": {},
   "outputs": [
    {
     "data": {
      "text/plain": [
       "2018-06-21 00:00:00    26.8\n",
       "2018-06-21 01:00:00    26.6\n",
       "2018-06-21 02:00:00    26.3\n",
       "2018-06-21 03:00:00    26.1\n",
       "2018-06-21 04:00:00    26.1\n",
       "2018-06-21 05:00:00    26.2\n",
       "2018-06-21 06:00:00    26.2\n",
       "2018-06-21 07:00:00    27.8\n",
       "2018-06-21 08:00:00    29.5\n",
       "2018-06-21 09:00:00    31.1\n",
       "2018-06-21 10:00:00    31.7\n",
       "2018-06-21 11:00:00    32.2\n",
       "2018-06-21 12:00:00    32.8\n",
       "2018-06-21 13:00:00    32.8\n",
       "2018-06-21 14:00:00    32.9\n",
       "2018-06-21 15:00:00    32.9\n",
       "2018-06-21 16:00:00    32.1\n",
       "2018-06-21 17:00:00    31.3\n",
       "2018-06-21 18:00:00    30.5\n",
       "2018-06-21 19:00:00    30.0\n",
       "2018-06-21 20:00:00    29.5\n",
       "2018-06-21 21:00:00    29.0\n",
       "2018-06-21 22:00:00    29.2\n",
       "2018-06-21 23:00:00    29.3\n",
       "2018-06-22 00:00:00    29.5\n",
       "2018-06-22 01:00:00    29.1\n",
       "2018-06-22 02:00:00    28.6\n",
       "2018-06-22 03:00:00    28.2\n",
       "2018-06-22 04:00:00    28.0\n",
       "2018-06-22 05:00:00    27.9\n",
       "2018-06-22 06:00:00    27.7\n",
       "2018-06-22 07:00:00    29.1\n",
       "2018-06-22 08:00:00    30.5\n",
       "2018-06-22 09:00:00    31.9\n",
       "2018-06-22 10:00:00    32.6\n",
       "2018-06-22 11:00:00    33.2\n",
       "2018-06-22 12:00:00    33.9\n",
       "2018-06-22 13:00:00    31.1\n",
       "2018-06-22 14:00:00    28.4\n",
       "2018-06-22 15:00:00    25.6\n",
       "2018-06-22 16:00:00    26.8\n",
       "2018-06-22 17:00:00    28.1\n",
       "2018-06-22 18:00:00    29.3\n",
       "2018-06-22 19:00:00    29.0\n",
       "2018-06-22 20:00:00    28.7\n",
       "2018-06-22 21:00:00    28.4\n",
       "2018-06-22 22:00:00    28.3\n",
       "2018-06-22 23:00:00    28.1\n",
       "Freq: H, dtype: float64"
      ]
     },
     "execution_count": 17,
     "metadata": {},
     "output_type": "execute_result"
    }
   ],
   "source": [
    "df_temp"
   ]
  },
  {
   "cell_type": "code",
   "execution_count": 20,
   "metadata": {},
   "outputs": [
    {
     "data": {
      "text/plain": [
       "2018-06-21 00:00:00    26.8\n",
       "2018-06-21 01:00:00    26.6\n",
       "Freq: H, dtype: float64"
      ]
     },
     "execution_count": 20,
     "metadata": {},
     "output_type": "execute_result"
    }
   ],
   "source": [
    "df_temp[0:2]"
   ]
  },
  {
   "cell_type": "code",
   "execution_count": 21,
   "metadata": {
    "scrolled": true
   },
   "outputs": [
    {
     "data": {
      "text/plain": [
       "2018-06-21 00:00:00    26.8\n",
       "2018-06-21 01:00:00    26.6\n",
       "2018-06-21 02:00:00    26.3\n",
       "2018-06-21 03:00:00    26.1\n",
       "2018-06-21 04:00:00    26.1\n",
       "2018-06-21 05:00:00    26.2\n",
       "2018-06-21 06:00:00    26.2\n",
       "2018-06-21 07:00:00    27.8\n",
       "2018-06-21 08:00:00    29.5\n",
       "2018-06-21 09:00:00    31.1\n",
       "2018-06-21 10:00:00    31.7\n",
       "2018-06-21 11:00:00    32.2\n",
       "2018-06-21 12:00:00    32.8\n",
       "2018-06-21 13:00:00    32.8\n",
       "2018-06-21 14:00:00    32.9\n",
       "2018-06-21 15:00:00    32.9\n",
       "2018-06-21 16:00:00    32.1\n",
       "2018-06-21 17:00:00    31.3\n",
       "2018-06-21 18:00:00    30.5\n",
       "2018-06-21 19:00:00    30.0\n",
       "2018-06-21 20:00:00    29.5\n",
       "2018-06-21 21:00:00    29.0\n",
       "2018-06-21 22:00:00    29.2\n",
       "2018-06-21 23:00:00    29.3\n",
       "Freq: H, dtype: float64"
      ]
     },
     "execution_count": 21,
     "metadata": {},
     "output_type": "execute_result"
    }
   ],
   "source": [
    "df_temp[:24]"
   ]
  },
  {
   "cell_type": "code",
   "execution_count": 23,
   "metadata": {},
   "outputs": [
    {
     "data": {
      "text/plain": [
       "2018-06-21 00:00:00    26.8\n",
       "2018-06-21 03:00:00    26.1\n",
       "2018-06-21 06:00:00    26.2\n",
       "2018-06-21 09:00:00    31.1\n",
       "2018-06-21 12:00:00    32.8\n",
       "2018-06-21 15:00:00    32.9\n",
       "2018-06-21 18:00:00    30.5\n",
       "2018-06-21 21:00:00    29.0\n",
       "2018-06-22 00:00:00    29.5\n",
       "2018-06-22 03:00:00    28.2\n",
       "2018-06-22 06:00:00    27.7\n",
       "2018-06-22 09:00:00    31.9\n",
       "2018-06-22 12:00:00    33.9\n",
       "2018-06-22 15:00:00    25.6\n",
       "2018-06-22 18:00:00    29.3\n",
       "2018-06-22 21:00:00    28.4\n",
       "Freq: 3H, dtype: float64"
      ]
     },
     "execution_count": 23,
     "metadata": {},
     "output_type": "execute_result"
    }
   ],
   "source": [
    "df_temp[::3]"
   ]
  },
  {
   "cell_type": "code",
   "execution_count": 24,
   "metadata": {},
   "outputs": [
    {
     "data": {
      "text/plain": [
       "<matplotlib.axes._subplots.AxesSubplot at 0x20674071278>"
      ]
     },
     "execution_count": 24,
     "metadata": {},
     "output_type": "execute_result"
    },
    {
     "data": {
      "image/png": "[encoded data removed]",
      "text/plain": [
       "<matplotlib.figure.Figure at 0x20674741dd8>"
      ]
     },
     "metadata": {},
     "output_type": "display_data"
    }
   ],
   "source": [
    "df_temp.plot()"
   ]
  },
  {
   "cell_type": "code",
   "execution_count": 25,
   "metadata": {},
   "outputs": [
    {
     "data": {
      "text/plain": [
       "2018-06-21 09:00:00    31.1\n",
       "2018-06-21 10:00:00    31.7\n",
       "2018-06-21 11:00:00    32.2\n",
       "2018-06-21 12:00:00    32.8\n",
       "2018-06-21 13:00:00    32.8\n",
       "2018-06-21 14:00:00    32.9\n",
       "2018-06-21 15:00:00    32.9\n",
       "2018-06-21 16:00:00    32.1\n",
       "2018-06-21 17:00:00    31.3\n",
       "2018-06-21 18:00:00    30.5\n",
       "2018-06-22 08:00:00    30.5\n",
       "2018-06-22 09:00:00    31.9\n",
       "2018-06-22 10:00:00    32.6\n",
       "2018-06-22 11:00:00    33.2\n",
       "2018-06-22 12:00:00    33.9\n",
       "2018-06-22 13:00:00    31.1\n",
       "dtype: float64"
      ]
     },
     "execution_count": 25,
     "metadata": {},
     "output_type": "execute_result"
    }
   ],
   "source": [
    "df_temp[df_temp>30]"
   ]
  },
  {
   "cell_type": "code",
   "execution_count": 26,
   "metadata": {},
   "outputs": [
    {
     "data": {
      "text/plain": [
       "count    16.000000\n",
       "mean     32.093750\n",
       "std       0.997643\n",
       "min      30.500000\n",
       "25%      31.250000\n",
       "50%      32.150000\n",
       "75%      32.825000\n",
       "max      33.900000\n",
       "dtype: float64"
      ]
     },
     "execution_count": 26,
     "metadata": {},
     "output_type": "execute_result"
    }
   ],
   "source": [
    "df_temp[df_temp>30].describe()"
   ]
  },
  {
   "cell_type": "code",
   "execution_count": 27,
   "metadata": {},
   "outputs": [
    {
     "data": {
      "text/plain": [
       "count    48.000000\n",
       "mean     29.393750\n",
       "std       2.252507\n",
       "min      25.600000\n",
       "25%      27.975000\n",
       "50%      29.100000\n",
       "75%      31.150000\n",
       "max      33.900000\n",
       "dtype: float64"
      ]
     },
     "execution_count": 27,
     "metadata": {},
     "output_type": "execute_result"
    }
   ],
   "source": [
    "df_temp.describe()"
   ]
  },
  {
   "cell_type": "markdown",
   "metadata": {},
   "source": [
    "## Concat"
   ]
  },
  {
   "cell_type": "code",
   "execution_count": 28,
   "metadata": {
    "collapsed": true,
    "scrolled": true
   },
   "outputs": [],
   "source": [
    "import random\n",
    "out_temp_2 = [(random.random()*3)+i for i in out_temp]\n",
    "df_temp_2 = pd.Series(out_temp_2, dti)"
   ]
  },
  {
   "cell_type": "code",
   "execution_count": null,
   "metadata": {
    "collapsed": true
   },
   "outputs": [],
   "source": []
  },
  {
   "cell_type": "code",
   "execution_count": 30,
   "metadata": {
    "collapsed": true
   },
   "outputs": [],
   "source": [
    "df_two_temp = pd.concat([df_temp, df_temp_2])"
   ]
  },
  {
   "cell_type": "code",
   "execution_count": 31,
   "metadata": {
    "scrolled": true
   },
   "outputs": [
    {
     "data": {
      "text/plain": [
       "2018-06-21 00:00:00    26.800000\n",
       "2018-06-21 01:00:00    26.600000\n",
       "2018-06-21 02:00:00    26.300000\n",
       "2018-06-21 03:00:00    26.100000\n",
       "2018-06-21 04:00:00    26.100000\n",
       "2018-06-21 05:00:00    26.200000\n",
       "2018-06-21 06:00:00    26.200000\n",
       "2018-06-21 07:00:00    27.800000\n",
       "2018-06-21 08:00:00    29.500000\n",
       "2018-06-21 09:00:00    31.100000\n",
       "2018-06-21 10:00:00    31.700000\n",
       "2018-06-21 11:00:00    32.200000\n",
       "2018-06-21 12:00:00    32.800000\n",
       "2018-06-21 13:00:00    32.800000\n",
       "2018-06-21 14:00:00    32.900000\n",
       "2018-06-21 15:00:00    32.900000\n",
       "2018-06-21 16:00:00    32.100000\n",
       "2018-06-21 17:00:00    31.300000\n",
       "2018-06-21 18:00:00    30.500000\n",
       "2018-06-21 19:00:00    30.000000\n",
       "2018-06-21 20:00:00    29.500000\n",
       "2018-06-21 21:00:00    29.000000\n",
       "2018-06-21 22:00:00    29.200000\n",
       "2018-06-21 23:00:00    29.300000\n",
       "2018-06-22 00:00:00    29.500000\n",
       "2018-06-22 01:00:00    29.100000\n",
       "2018-06-22 02:00:00    28.600000\n",
       "2018-06-22 03:00:00    28.200000\n",
       "2018-06-22 04:00:00    28.000000\n",
       "2018-06-22 05:00:00    27.900000\n",
       "                         ...    \n",
       "2018-06-21 18:00:00    31.011961\n",
       "2018-06-21 19:00:00    32.142644\n",
       "2018-06-21 20:00:00    30.764782\n",
       "2018-06-21 21:00:00    30.064848\n",
       "2018-06-21 22:00:00    30.156772\n",
       "2018-06-21 23:00:00    32.085713\n",
       "2018-06-22 00:00:00    32.222406\n",
       "2018-06-22 01:00:00    31.889702\n",
       "2018-06-22 02:00:00    28.690227\n",
       "2018-06-22 03:00:00    29.225138\n",
       "2018-06-22 04:00:00    30.207173\n",
       "2018-06-22 05:00:00    29.813661\n",
       "2018-06-22 06:00:00    28.036992\n",
       "2018-06-22 07:00:00    31.944844\n",
       "2018-06-22 08:00:00    33.494348\n",
       "2018-06-22 09:00:00    34.513748\n",
       "2018-06-22 10:00:00    32.936662\n",
       "2018-06-22 11:00:00    35.014702\n",
       "2018-06-22 12:00:00    34.331299\n",
       "2018-06-22 13:00:00    32.504028\n",
       "2018-06-22 14:00:00    28.581410\n",
       "2018-06-22 15:00:00    28.472153\n",
       "2018-06-22 16:00:00    27.805419\n",
       "2018-06-22 17:00:00    28.986145\n",
       "2018-06-22 18:00:00    30.950150\n",
       "2018-06-22 19:00:00    31.117871\n",
       "2018-06-22 20:00:00    29.925144\n",
       "2018-06-22 21:00:00    29.913807\n",
       "2018-06-22 22:00:00    29.327114\n",
       "2018-06-22 23:00:00    30.131633\n",
       "Length: 96, dtype: float64"
      ]
     },
     "execution_count": 31,
     "metadata": {},
     "output_type": "execute_result"
    }
   ],
   "source": [
    "df_two_temp"
   ]
  },
  {
   "cell_type": "code",
   "execution_count": 32,
   "metadata": {
    "collapsed": true
   },
   "outputs": [],
   "source": [
    "df_two_temp = pd.concat([df_temp, df_temp_2], axis = 1)"
   ]
  },
  {
   "cell_type": "code",
   "execution_count": 37,
   "metadata": {},
   "outputs": [
    {
     "data": {
      "text/html": [
       "<div>\n",
       "<style>\n",
       "    .dataframe thead tr:only-child th {\n",
       "        text-align: right;\n",
       "    }\n",
       "\n",
       "    .dataframe thead th {\n",
       "        text-align: left;\n",
       "    }\n",
       "\n",
       "    .dataframe tbody tr th {\n",
       "        vertical-align: top;\n",
       "    }\n",
       "</style>\n",
       "<table border=\"1\" class=\"dataframe\">\n",
       "  <thead>\n",
       "    <tr style=\"text-align: right;\">\n",
       "      <th></th>\n",
       "      <th>2017</th>\n",
       "      <th>2018</th>\n",
       "    </tr>\n",
       "  </thead>\n",
       "  <tbody>\n",
       "    <tr>\n",
       "      <th>2018-06-22 19:00:00</th>\n",
       "      <td>29.0</td>\n",
       "      <td>31.117871</td>\n",
       "    </tr>\n",
       "    <tr>\n",
       "      <th>2018-06-22 20:00:00</th>\n",
       "      <td>28.7</td>\n",
       "      <td>29.925144</td>\n",
       "    </tr>\n",
       "    <tr>\n",
       "      <th>2018-06-22 21:00:00</th>\n",
       "      <td>28.4</td>\n",
       "      <td>29.913807</td>\n",
       "    </tr>\n",
       "    <tr>\n",
       "      <th>2018-06-22 22:00:00</th>\n",
       "      <td>28.3</td>\n",
       "      <td>29.327114</td>\n",
       "    </tr>\n",
       "    <tr>\n",
       "      <th>2018-06-22 23:00:00</th>\n",
       "      <td>28.1</td>\n",
       "      <td>30.131633</td>\n",
       "    </tr>\n",
       "  </tbody>\n",
       "</table>\n",
       "</div>"
      ],
      "text/plain": [
       "                     2017       2018\n",
       "2018-06-22 19:00:00  29.0  31.117871\n",
       "2018-06-22 20:00:00  28.7  29.925144\n",
       "2018-06-22 21:00:00  28.4  29.913807\n",
       "2018-06-22 22:00:00  28.3  29.327114\n",
       "2018-06-22 23:00:00  28.1  30.131633"
      ]
     },
     "execution_count": 37,
     "metadata": {},
     "output_type": "execute_result"
    }
   ],
   "source": [
    "df_two_temp.tail()"
   ]
  },
  {
   "cell_type": "code",
   "execution_count": 34,
   "metadata": {
    "collapsed": true
   },
   "outputs": [],
   "source": [
    "df_two_temp.columns = ['2017', '2018']"
   ]
  },
  {
   "cell_type": "code",
   "execution_count": 35,
   "metadata": {},
   "outputs": [
    {
     "data": {
      "text/html": [
       "<div>\n",
       "<style>\n",
       "    .dataframe thead tr:only-child th {\n",
       "        text-align: right;\n",
       "    }\n",
       "\n",
       "    .dataframe thead th {\n",
       "        text-align: left;\n",
       "    }\n",
       "\n",
       "    .dataframe tbody tr th {\n",
       "        vertical-align: top;\n",
       "    }\n",
       "</style>\n",
       "<table border=\"1\" class=\"dataframe\">\n",
       "  <thead>\n",
       "    <tr style=\"text-align: right;\">\n",
       "      <th></th>\n",
       "      <th>2017</th>\n",
       "      <th>2018</th>\n",
       "    </tr>\n",
       "  </thead>\n",
       "  <tbody>\n",
       "    <tr>\n",
       "      <th>2018-06-21 00:00:00</th>\n",
       "      <td>26.8</td>\n",
       "      <td>27.841865</td>\n",
       "    </tr>\n",
       "    <tr>\n",
       "      <th>2018-06-21 01:00:00</th>\n",
       "      <td>26.6</td>\n",
       "      <td>26.979239</td>\n",
       "    </tr>\n",
       "    <tr>\n",
       "      <th>2018-06-21 02:00:00</th>\n",
       "      <td>26.3</td>\n",
       "      <td>26.622638</td>\n",
       "    </tr>\n",
       "    <tr>\n",
       "      <th>2018-06-21 03:00:00</th>\n",
       "      <td>26.1</td>\n",
       "      <td>28.270758</td>\n",
       "    </tr>\n",
       "    <tr>\n",
       "      <th>2018-06-21 04:00:00</th>\n",
       "      <td>26.1</td>\n",
       "      <td>27.163960</td>\n",
       "    </tr>\n",
       "  </tbody>\n",
       "</table>\n",
       "</div>"
      ],
      "text/plain": [
       "                     2017       2018\n",
       "2018-06-21 00:00:00  26.8  27.841865\n",
       "2018-06-21 01:00:00  26.6  26.979239\n",
       "2018-06-21 02:00:00  26.3  26.622638\n",
       "2018-06-21 03:00:00  26.1  28.270758\n",
       "2018-06-21 04:00:00  26.1  27.163960"
      ]
     },
     "execution_count": 35,
     "metadata": {},
     "output_type": "execute_result"
    }
   ],
   "source": [
    "df_two_temp.head()"
   ]
  },
  {
   "cell_type": "code",
   "execution_count": 38,
   "metadata": {},
   "outputs": [
    {
     "data": {
      "text/plain": [
       "<matplotlib.axes._subplots.AxesSubplot at 0x20674c2a860>"
      ]
     },
     "execution_count": 38,
     "metadata": {},
     "output_type": "execute_result"
    },
    {
     "data": {
      "image/png": "[encoded data removed]",
      "text/plain": [
       "<matplotlib.figure.Figure at 0x206748be5f8>"
      ]
     },
     "metadata": {},
     "output_type": "display_data"
    }
   ],
   "source": [
    "df_two_temp.plot()"
   ]
  },
  {
   "cell_type": "code",
   "execution_count": 39,
   "metadata": {},
   "outputs": [
    {
     "data": {
      "text/plain": [
       "<matplotlib.axes._subplots.AxesSubplot at 0x20674f074e0>"
      ]
     },
     "execution_count": 39,
     "metadata": {},
     "output_type": "execute_result"
    },
    {
     "data": {
      "image/png": "[encoded data removed]",
      "text/plain": [
       "<matplotlib.figure.Figure at 0x206748e5c50>"
      ]
     },
     "metadata": {},
     "output_type": "display_data"
    }
   ],
   "source": [
    "df_two_temp[df_two_temp>30].plot()"
   ]
  },
  {
   "cell_type": "code",
   "execution_count": 42,
   "metadata": {
    "scrolled": true
   },
   "outputs": [
    {
     "data": {
      "text/html": [
       "<div>\n",
       "<style>\n",
       "    .dataframe thead tr:only-child th {\n",
       "        text-align: right;\n",
       "    }\n",
       "\n",
       "    .dataframe thead th {\n",
       "        text-align: left;\n",
       "    }\n",
       "\n",
       "    .dataframe tbody tr th {\n",
       "        vertical-align: top;\n",
       "    }\n",
       "</style>\n",
       "<table border=\"1\" class=\"dataframe\">\n",
       "  <thead>\n",
       "    <tr style=\"text-align: right;\">\n",
       "      <th></th>\n",
       "      <th>2017</th>\n",
       "    </tr>\n",
       "  </thead>\n",
       "  <tbody>\n",
       "    <tr>\n",
       "      <th>2018-06-21 00:00:00</th>\n",
       "      <td>26.8</td>\n",
       "    </tr>\n",
       "    <tr>\n",
       "      <th>2018-06-21 01:00:00</th>\n",
       "      <td>26.6</td>\n",
       "    </tr>\n",
       "    <tr>\n",
       "      <th>2018-06-21 02:00:00</th>\n",
       "      <td>26.3</td>\n",
       "    </tr>\n",
       "    <tr>\n",
       "      <th>2018-06-21 03:00:00</th>\n",
       "      <td>26.1</td>\n",
       "    </tr>\n",
       "    <tr>\n",
       "      <th>2018-06-21 04:00:00</th>\n",
       "      <td>26.1</td>\n",
       "    </tr>\n",
       "    <tr>\n",
       "      <th>2018-06-21 05:00:00</th>\n",
       "      <td>26.2</td>\n",
       "    </tr>\n",
       "    <tr>\n",
       "      <th>2018-06-21 06:00:00</th>\n",
       "      <td>26.2</td>\n",
       "    </tr>\n",
       "    <tr>\n",
       "      <th>2018-06-21 07:00:00</th>\n",
       "      <td>27.8</td>\n",
       "    </tr>\n",
       "    <tr>\n",
       "      <th>2018-06-21 08:00:00</th>\n",
       "      <td>29.5</td>\n",
       "    </tr>\n",
       "    <tr>\n",
       "      <th>2018-06-21 09:00:00</th>\n",
       "      <td>31.1</td>\n",
       "    </tr>\n",
       "    <tr>\n",
       "      <th>2018-06-21 10:00:00</th>\n",
       "      <td>31.7</td>\n",
       "    </tr>\n",
       "    <tr>\n",
       "      <th>2018-06-21 11:00:00</th>\n",
       "      <td>32.2</td>\n",
       "    </tr>\n",
       "    <tr>\n",
       "      <th>2018-06-21 12:00:00</th>\n",
       "      <td>32.8</td>\n",
       "    </tr>\n",
       "    <tr>\n",
       "      <th>2018-06-21 13:00:00</th>\n",
       "      <td>32.8</td>\n",
       "    </tr>\n",
       "    <tr>\n",
       "      <th>2018-06-21 14:00:00</th>\n",
       "      <td>32.9</td>\n",
       "    </tr>\n",
       "    <tr>\n",
       "      <th>2018-06-21 15:00:00</th>\n",
       "      <td>32.9</td>\n",
       "    </tr>\n",
       "    <tr>\n",
       "      <th>2018-06-21 16:00:00</th>\n",
       "      <td>32.1</td>\n",
       "    </tr>\n",
       "    <tr>\n",
       "      <th>2018-06-21 17:00:00</th>\n",
       "      <td>31.3</td>\n",
       "    </tr>\n",
       "    <tr>\n",
       "      <th>2018-06-21 18:00:00</th>\n",
       "      <td>30.5</td>\n",
       "    </tr>\n",
       "    <tr>\n",
       "      <th>2018-06-21 19:00:00</th>\n",
       "      <td>30.0</td>\n",
       "    </tr>\n",
       "    <tr>\n",
       "      <th>2018-06-21 20:00:00</th>\n",
       "      <td>29.5</td>\n",
       "    </tr>\n",
       "    <tr>\n",
       "      <th>2018-06-21 21:00:00</th>\n",
       "      <td>29.0</td>\n",
       "    </tr>\n",
       "    <tr>\n",
       "      <th>2018-06-21 22:00:00</th>\n",
       "      <td>29.2</td>\n",
       "    </tr>\n",
       "    <tr>\n",
       "      <th>2018-06-21 23:00:00</th>\n",
       "      <td>29.3</td>\n",
       "    </tr>\n",
       "    <tr>\n",
       "      <th>2018-06-22 00:00:00</th>\n",
       "      <td>29.5</td>\n",
       "    </tr>\n",
       "    <tr>\n",
       "      <th>2018-06-22 01:00:00</th>\n",
       "      <td>29.1</td>\n",
       "    </tr>\n",
       "    <tr>\n",
       "      <th>2018-06-22 02:00:00</th>\n",
       "      <td>28.6</td>\n",
       "    </tr>\n",
       "    <tr>\n",
       "      <th>2018-06-22 03:00:00</th>\n",
       "      <td>28.2</td>\n",
       "    </tr>\n",
       "    <tr>\n",
       "      <th>2018-06-22 04:00:00</th>\n",
       "      <td>28.0</td>\n",
       "    </tr>\n",
       "    <tr>\n",
       "      <th>2018-06-22 05:00:00</th>\n",
       "      <td>27.9</td>\n",
       "    </tr>\n",
       "    <tr>\n",
       "      <th>2018-06-22 06:00:00</th>\n",
       "      <td>27.7</td>\n",
       "    </tr>\n",
       "    <tr>\n",
       "      <th>2018-06-22 07:00:00</th>\n",
       "      <td>29.1</td>\n",
       "    </tr>\n",
       "    <tr>\n",
       "      <th>2018-06-22 08:00:00</th>\n",
       "      <td>30.5</td>\n",
       "    </tr>\n",
       "    <tr>\n",
       "      <th>2018-06-22 09:00:00</th>\n",
       "      <td>31.9</td>\n",
       "    </tr>\n",
       "    <tr>\n",
       "      <th>2018-06-22 10:00:00</th>\n",
       "      <td>32.6</td>\n",
       "    </tr>\n",
       "    <tr>\n",
       "      <th>2018-06-22 11:00:00</th>\n",
       "      <td>33.2</td>\n",
       "    </tr>\n",
       "    <tr>\n",
       "      <th>2018-06-22 12:00:00</th>\n",
       "      <td>33.9</td>\n",
       "    </tr>\n",
       "    <tr>\n",
       "      <th>2018-06-22 13:00:00</th>\n",
       "      <td>31.1</td>\n",
       "    </tr>\n",
       "    <tr>\n",
       "      <th>2018-06-22 14:00:00</th>\n",
       "      <td>28.4</td>\n",
       "    </tr>\n",
       "    <tr>\n",
       "      <th>2018-06-22 15:00:00</th>\n",
       "      <td>25.6</td>\n",
       "    </tr>\n",
       "    <tr>\n",
       "      <th>2018-06-22 16:00:00</th>\n",
       "      <td>26.8</td>\n",
       "    </tr>\n",
       "    <tr>\n",
       "      <th>2018-06-22 17:00:00</th>\n",
       "      <td>28.1</td>\n",
       "    </tr>\n",
       "    <tr>\n",
       "      <th>2018-06-22 18:00:00</th>\n",
       "      <td>29.3</td>\n",
       "    </tr>\n",
       "    <tr>\n",
       "      <th>2018-06-22 19:00:00</th>\n",
       "      <td>29.0</td>\n",
       "    </tr>\n",
       "    <tr>\n",
       "      <th>2018-06-22 20:00:00</th>\n",
       "      <td>28.7</td>\n",
       "    </tr>\n",
       "    <tr>\n",
       "      <th>2018-06-22 21:00:00</th>\n",
       "      <td>28.4</td>\n",
       "    </tr>\n",
       "    <tr>\n",
       "      <th>2018-06-22 22:00:00</th>\n",
       "      <td>28.3</td>\n",
       "    </tr>\n",
       "    <tr>\n",
       "      <th>2018-06-22 23:00:00</th>\n",
       "      <td>28.1</td>\n",
       "    </tr>\n",
       "  </tbody>\n",
       "</table>\n",
       "</div>"
      ],
      "text/plain": [
       "                     2017\n",
       "2018-06-21 00:00:00  26.8\n",
       "2018-06-21 01:00:00  26.6\n",
       "2018-06-21 02:00:00  26.3\n",
       "2018-06-21 03:00:00  26.1\n",
       "2018-06-21 04:00:00  26.1\n",
       "2018-06-21 05:00:00  26.2\n",
       "2018-06-21 06:00:00  26.2\n",
       "2018-06-21 07:00:00  27.8\n",
       "2018-06-21 08:00:00  29.5\n",
       "2018-06-21 09:00:00  31.1\n",
       "2018-06-21 10:00:00  31.7\n",
       "2018-06-21 11:00:00  32.2\n",
       "2018-06-21 12:00:00  32.8\n",
       "2018-06-21 13:00:00  32.8\n",
       "2018-06-21 14:00:00  32.9\n",
       "2018-06-21 15:00:00  32.9\n",
       "2018-06-21 16:00:00  32.1\n",
       "2018-06-21 17:00:00  31.3\n",
       "2018-06-21 18:00:00  30.5\n",
       "2018-06-21 19:00:00  30.0\n",
       "2018-06-21 20:00:00  29.5\n",
       "2018-06-21 21:00:00  29.0\n",
       "2018-06-21 22:00:00  29.2\n",
       "2018-06-21 23:00:00  29.3\n",
       "2018-06-22 00:00:00  29.5\n",
       "2018-06-22 01:00:00  29.1\n",
       "2018-06-22 02:00:00  28.6\n",
       "2018-06-22 03:00:00  28.2\n",
       "2018-06-22 04:00:00  28.0\n",
       "2018-06-22 05:00:00  27.9\n",
       "2018-06-22 06:00:00  27.7\n",
       "2018-06-22 07:00:00  29.1\n",
       "2018-06-22 08:00:00  30.5\n",
       "2018-06-22 09:00:00  31.9\n",
       "2018-06-22 10:00:00  32.6\n",
       "2018-06-22 11:00:00  33.2\n",
       "2018-06-22 12:00:00  33.9\n",
       "2018-06-22 13:00:00  31.1\n",
       "2018-06-22 14:00:00  28.4\n",
       "2018-06-22 15:00:00  25.6\n",
       "2018-06-22 16:00:00  26.8\n",
       "2018-06-22 17:00:00  28.1\n",
       "2018-06-22 18:00:00  29.3\n",
       "2018-06-22 19:00:00  29.0\n",
       "2018-06-22 20:00:00  28.7\n",
       "2018-06-22 21:00:00  28.4\n",
       "2018-06-22 22:00:00  28.3\n",
       "2018-06-22 23:00:00  28.1"
      ]
     },
     "execution_count": 42,
     "metadata": {},
     "output_type": "execute_result"
    }
   ],
   "source": [
    "df_two_temp.drop('2018',axis=1)"
   ]
  },
  {
   "cell_type": "code",
   "execution_count": 43,
   "metadata": {},
   "outputs": [
    {
     "data": {
      "text/html": [
       "<div>\n",
       "<style>\n",
       "    .dataframe thead tr:only-child th {\n",
       "        text-align: right;\n",
       "    }\n",
       "\n",
       "    .dataframe thead th {\n",
       "        text-align: left;\n",
       "    }\n",
       "\n",
       "    .dataframe tbody tr th {\n",
       "        vertical-align: top;\n",
       "    }\n",
       "</style>\n",
       "<table border=\"1\" class=\"dataframe\">\n",
       "  <thead>\n",
       "    <tr style=\"text-align: right;\">\n",
       "      <th></th>\n",
       "      <th>2017</th>\n",
       "      <th>2018</th>\n",
       "    </tr>\n",
       "  </thead>\n",
       "  <tbody>\n",
       "    <tr>\n",
       "      <th>2018-06-21 00:00:00</th>\n",
       "      <td>26.8</td>\n",
       "      <td>27.841865</td>\n",
       "    </tr>\n",
       "    <tr>\n",
       "      <th>2018-06-21 01:00:00</th>\n",
       "      <td>26.6</td>\n",
       "      <td>26.979239</td>\n",
       "    </tr>\n",
       "    <tr>\n",
       "      <th>2018-06-21 02:00:00</th>\n",
       "      <td>26.3</td>\n",
       "      <td>26.622638</td>\n",
       "    </tr>\n",
       "    <tr>\n",
       "      <th>2018-06-21 03:00:00</th>\n",
       "      <td>26.1</td>\n",
       "      <td>28.270758</td>\n",
       "    </tr>\n",
       "    <tr>\n",
       "      <th>2018-06-21 04:00:00</th>\n",
       "      <td>26.1</td>\n",
       "      <td>27.163960</td>\n",
       "    </tr>\n",
       "  </tbody>\n",
       "</table>\n",
       "</div>"
      ],
      "text/plain": [
       "                     2017       2018\n",
       "2018-06-21 00:00:00  26.8  27.841865\n",
       "2018-06-21 01:00:00  26.6  26.979239\n",
       "2018-06-21 02:00:00  26.3  26.622638\n",
       "2018-06-21 03:00:00  26.1  28.270758\n",
       "2018-06-21 04:00:00  26.1  27.163960"
      ]
     },
     "execution_count": 43,
     "metadata": {},
     "output_type": "execute_result"
    }
   ],
   "source": [
    "df_two_temp.head()"
   ]
  },
  {
   "cell_type": "code",
   "execution_count": 44,
   "metadata": {
    "collapsed": true
   },
   "outputs": [],
   "source": [
    "droped_df = df_two_temp.drop('2018',axis=1)"
   ]
  },
  {
   "cell_type": "code",
   "execution_count": 45,
   "metadata": {},
   "outputs": [
    {
     "data": {
      "text/html": [
       "<div>\n",
       "<style>\n",
       "    .dataframe thead tr:only-child th {\n",
       "        text-align: right;\n",
       "    }\n",
       "\n",
       "    .dataframe thead th {\n",
       "        text-align: left;\n",
       "    }\n",
       "\n",
       "    .dataframe tbody tr th {\n",
       "        vertical-align: top;\n",
       "    }\n",
       "</style>\n",
       "<table border=\"1\" class=\"dataframe\">\n",
       "  <thead>\n",
       "    <tr style=\"text-align: right;\">\n",
       "      <th></th>\n",
       "      <th>2017</th>\n",
       "    </tr>\n",
       "  </thead>\n",
       "  <tbody>\n",
       "    <tr>\n",
       "      <th>2018-06-21 00:00:00</th>\n",
       "      <td>26.8</td>\n",
       "    </tr>\n",
       "    <tr>\n",
       "      <th>2018-06-21 01:00:00</th>\n",
       "      <td>26.6</td>\n",
       "    </tr>\n",
       "    <tr>\n",
       "      <th>2018-06-21 02:00:00</th>\n",
       "      <td>26.3</td>\n",
       "    </tr>\n",
       "    <tr>\n",
       "      <th>2018-06-21 03:00:00</th>\n",
       "      <td>26.1</td>\n",
       "    </tr>\n",
       "    <tr>\n",
       "      <th>2018-06-21 04:00:00</th>\n",
       "      <td>26.1</td>\n",
       "    </tr>\n",
       "  </tbody>\n",
       "</table>\n",
       "</div>"
      ],
      "text/plain": [
       "                     2017\n",
       "2018-06-21 00:00:00  26.8\n",
       "2018-06-21 01:00:00  26.6\n",
       "2018-06-21 02:00:00  26.3\n",
       "2018-06-21 03:00:00  26.1\n",
       "2018-06-21 04:00:00  26.1"
      ]
     },
     "execution_count": 45,
     "metadata": {},
     "output_type": "execute_result"
    }
   ],
   "source": [
    "droped_df.head()"
   ]
  },
  {
   "cell_type": "code",
   "execution_count": 46,
   "metadata": {
    "collapsed": true
   },
   "outputs": [],
   "source": [
    "df = pd.DataFrame({'2017': out_temp, '2018': out_temp_2}, index=dti)"
   ]
  },
  {
   "cell_type": "code",
   "execution_count": 47,
   "metadata": {},
   "outputs": [
    {
     "data": {
      "text/html": [
       "<div>\n",
       "<style>\n",
       "    .dataframe thead tr:only-child th {\n",
       "        text-align: right;\n",
       "    }\n",
       "\n",
       "    .dataframe thead th {\n",
       "        text-align: left;\n",
       "    }\n",
       "\n",
       "    .dataframe tbody tr th {\n",
       "        vertical-align: top;\n",
       "    }\n",
       "</style>\n",
       "<table border=\"1\" class=\"dataframe\">\n",
       "  <thead>\n",
       "    <tr style=\"text-align: right;\">\n",
       "      <th></th>\n",
       "      <th>2017</th>\n",
       "      <th>2018</th>\n",
       "    </tr>\n",
       "  </thead>\n",
       "  <tbody>\n",
       "    <tr>\n",
       "      <th>2018-06-21 00:00:00</th>\n",
       "      <td>26.8</td>\n",
       "      <td>27.841865</td>\n",
       "    </tr>\n",
       "    <tr>\n",
       "      <th>2018-06-21 01:00:00</th>\n",
       "      <td>26.6</td>\n",
       "      <td>26.979239</td>\n",
       "    </tr>\n",
       "    <tr>\n",
       "      <th>2018-06-21 02:00:00</th>\n",
       "      <td>26.3</td>\n",
       "      <td>26.622638</td>\n",
       "    </tr>\n",
       "    <tr>\n",
       "      <th>2018-06-21 03:00:00</th>\n",
       "      <td>26.1</td>\n",
       "      <td>28.270758</td>\n",
       "    </tr>\n",
       "    <tr>\n",
       "      <th>2018-06-21 04:00:00</th>\n",
       "      <td>26.1</td>\n",
       "      <td>27.163960</td>\n",
       "    </tr>\n",
       "  </tbody>\n",
       "</table>\n",
       "</div>"
      ],
      "text/plain": [
       "                     2017       2018\n",
       "2018-06-21 00:00:00  26.8  27.841865\n",
       "2018-06-21 01:00:00  26.6  26.979239\n",
       "2018-06-21 02:00:00  26.3  26.622638\n",
       "2018-06-21 03:00:00  26.1  28.270758\n",
       "2018-06-21 04:00:00  26.1  27.163960"
      ]
     },
     "execution_count": 47,
     "metadata": {},
     "output_type": "execute_result"
    }
   ],
   "source": [
    "df.head()"
   ]
  },
  {
   "cell_type": "code",
   "execution_count": null,
   "metadata": {
    "collapsed": true
   },
   "outputs": [],
   "source": []
  },
  {
   "cell_type": "markdown",
   "metadata": {},
   "source": [
    "## Read File"
   ]
  },
  {
   "cell_type": "code",
   "execution_count": 48,
   "metadata": {
    "collapsed": true
   },
   "outputs": [],
   "source": [
    "data = []\n",
    "\n",
    "with open('./data/out_temp_21_22_June.txt', 'r') as readFile:\n",
    "    for i in readFile:\n",
    "        data.append(float(i.strip('\\n')))"
   ]
  },
  {
   "cell_type": "code",
   "execution_count": 50,
   "metadata": {
    "scrolled": true
   },
   "outputs": [
    {
     "data": {
      "text/plain": [
       "[26.8,\n",
       " 26.6,\n",
       " 26.3,\n",
       " 26.1,\n",
       " 26.1,\n",
       " 26.2,\n",
       " 26.2,\n",
       " 27.8,\n",
       " 29.5,\n",
       " 31.1,\n",
       " 31.7,\n",
       " 32.2,\n",
       " 32.8,\n",
       " 32.8,\n",
       " 32.9,\n",
       " 32.9,\n",
       " 32.1,\n",
       " 31.3,\n",
       " 30.5,\n",
       " 30.0,\n",
       " 29.5,\n",
       " 29.0,\n",
       " 29.2,\n",
       " 29.3,\n",
       " 29.5,\n",
       " 29.1,\n",
       " 28.6,\n",
       " 28.2,\n",
       " 28.0,\n",
       " 27.9,\n",
       " 27.7,\n",
       " 29.1,\n",
       " 30.5,\n",
       " 31.9,\n",
       " 32.6,\n",
       " 33.2,\n",
       " 33.9,\n",
       " 31.1,\n",
       " 28.4,\n",
       " 25.6,\n",
       " 26.8,\n",
       " 28.1,\n",
       " 29.3,\n",
       " 29.0,\n",
       " 28.7,\n",
       " 28.4,\n",
       " 28.3,\n",
       " 28.1]"
      ]
     },
     "execution_count": 50,
     "metadata": {},
     "output_type": "execute_result"
    }
   ],
   "source": [
    "data"
   ]
  },
  {
   "cell_type": "code",
   "execution_count": 51,
   "metadata": {
    "collapsed": true
   },
   "outputs": [],
   "source": [
    "df = pd.Series(data)"
   ]
  },
  {
   "cell_type": "code",
   "execution_count": 52,
   "metadata": {},
   "outputs": [
    {
     "data": {
      "text/plain": [
       "0    26.8\n",
       "1    26.6\n",
       "2    26.3\n",
       "3    26.1\n",
       "4    26.1\n",
       "dtype: float64"
      ]
     },
     "execution_count": 52,
     "metadata": {},
     "output_type": "execute_result"
    }
   ],
   "source": [
    "df.head()"
   ]
  },
  {
   "cell_type": "code",
   "execution_count": 53,
   "metadata": {
    "collapsed": true
   },
   "outputs": [],
   "source": [
    "import pandas as pd"
   ]
  },
  {
   "cell_type": "code",
   "execution_count": null,
   "metadata": {
    "collapsed": true
   },
   "outputs": [],
   "source": []
  },
  {
   "cell_type": "code",
   "execution_count": 54,
   "metadata": {
    "collapsed": true
   },
   "outputs": [],
   "source": [
    "df = pd.read_fwf('./data/out_temp_21_22_June.txt', header= None)"
   ]
  },
  {
   "cell_type": "code",
   "execution_count": 55,
   "metadata": {},
   "outputs": [
    {
     "data": {
      "text/html": [
       "<div>\n",
       "<style>\n",
       "    .dataframe thead tr:only-child th {\n",
       "        text-align: right;\n",
       "    }\n",
       "\n",
       "    .dataframe thead th {\n",
       "        text-align: left;\n",
       "    }\n",
       "\n",
       "    .dataframe tbody tr th {\n",
       "        vertical-align: top;\n",
       "    }\n",
       "</style>\n",
       "<table border=\"1\" class=\"dataframe\">\n",
       "  <thead>\n",
       "    <tr style=\"text-align: right;\">\n",
       "      <th></th>\n",
       "      <th>0</th>\n",
       "    </tr>\n",
       "  </thead>\n",
       "  <tbody>\n",
       "    <tr>\n",
       "      <th>0</th>\n",
       "      <td>26.8</td>\n",
       "    </tr>\n",
       "    <tr>\n",
       "      <th>1</th>\n",
       "      <td>26.6</td>\n",
       "    </tr>\n",
       "    <tr>\n",
       "      <th>2</th>\n",
       "      <td>26.3</td>\n",
       "    </tr>\n",
       "    <tr>\n",
       "      <th>3</th>\n",
       "      <td>26.1</td>\n",
       "    </tr>\n",
       "    <tr>\n",
       "      <th>4</th>\n",
       "      <td>26.1</td>\n",
       "    </tr>\n",
       "    <tr>\n",
       "      <th>5</th>\n",
       "      <td>26.2</td>\n",
       "    </tr>\n",
       "    <tr>\n",
       "      <th>6</th>\n",
       "      <td>26.2</td>\n",
       "    </tr>\n",
       "    <tr>\n",
       "      <th>7</th>\n",
       "      <td>27.8</td>\n",
       "    </tr>\n",
       "    <tr>\n",
       "      <th>8</th>\n",
       "      <td>29.5</td>\n",
       "    </tr>\n",
       "    <tr>\n",
       "      <th>9</th>\n",
       "      <td>31.1</td>\n",
       "    </tr>\n",
       "    <tr>\n",
       "      <th>10</th>\n",
       "      <td>31.7</td>\n",
       "    </tr>\n",
       "    <tr>\n",
       "      <th>11</th>\n",
       "      <td>32.2</td>\n",
       "    </tr>\n",
       "    <tr>\n",
       "      <th>12</th>\n",
       "      <td>32.8</td>\n",
       "    </tr>\n",
       "    <tr>\n",
       "      <th>13</th>\n",
       "      <td>32.8</td>\n",
       "    </tr>\n",
       "    <tr>\n",
       "      <th>14</th>\n",
       "      <td>32.9</td>\n",
       "    </tr>\n",
       "    <tr>\n",
       "      <th>15</th>\n",
       "      <td>32.9</td>\n",
       "    </tr>\n",
       "    <tr>\n",
       "      <th>16</th>\n",
       "      <td>32.1</td>\n",
       "    </tr>\n",
       "    <tr>\n",
       "      <th>17</th>\n",
       "      <td>31.3</td>\n",
       "    </tr>\n",
       "    <tr>\n",
       "      <th>18</th>\n",
       "      <td>30.5</td>\n",
       "    </tr>\n",
       "    <tr>\n",
       "      <th>19</th>\n",
       "      <td>30.0</td>\n",
       "    </tr>\n",
       "    <tr>\n",
       "      <th>20</th>\n",
       "      <td>29.5</td>\n",
       "    </tr>\n",
       "    <tr>\n",
       "      <th>21</th>\n",
       "      <td>29.0</td>\n",
       "    </tr>\n",
       "    <tr>\n",
       "      <th>22</th>\n",
       "      <td>29.2</td>\n",
       "    </tr>\n",
       "    <tr>\n",
       "      <th>23</th>\n",
       "      <td>29.3</td>\n",
       "    </tr>\n",
       "    <tr>\n",
       "      <th>24</th>\n",
       "      <td>29.5</td>\n",
       "    </tr>\n",
       "    <tr>\n",
       "      <th>25</th>\n",
       "      <td>29.1</td>\n",
       "    </tr>\n",
       "    <tr>\n",
       "      <th>26</th>\n",
       "      <td>28.6</td>\n",
       "    </tr>\n",
       "    <tr>\n",
       "      <th>27</th>\n",
       "      <td>28.2</td>\n",
       "    </tr>\n",
       "    <tr>\n",
       "      <th>28</th>\n",
       "      <td>28.0</td>\n",
       "    </tr>\n",
       "    <tr>\n",
       "      <th>29</th>\n",
       "      <td>27.9</td>\n",
       "    </tr>\n",
       "    <tr>\n",
       "      <th>30</th>\n",
       "      <td>27.7</td>\n",
       "    </tr>\n",
       "    <tr>\n",
       "      <th>31</th>\n",
       "      <td>29.1</td>\n",
       "    </tr>\n",
       "    <tr>\n",
       "      <th>32</th>\n",
       "      <td>30.5</td>\n",
       "    </tr>\n",
       "    <tr>\n",
       "      <th>33</th>\n",
       "      <td>31.9</td>\n",
       "    </tr>\n",
       "    <tr>\n",
       "      <th>34</th>\n",
       "      <td>32.6</td>\n",
       "    </tr>\n",
       "    <tr>\n",
       "      <th>35</th>\n",
       "      <td>33.2</td>\n",
       "    </tr>\n",
       "    <tr>\n",
       "      <th>36</th>\n",
       "      <td>33.9</td>\n",
       "    </tr>\n",
       "    <tr>\n",
       "      <th>37</th>\n",
       "      <td>31.1</td>\n",
       "    </tr>\n",
       "    <tr>\n",
       "      <th>38</th>\n",
       "      <td>28.4</td>\n",
       "    </tr>\n",
       "    <tr>\n",
       "      <th>39</th>\n",
       "      <td>25.6</td>\n",
       "    </tr>\n",
       "    <tr>\n",
       "      <th>40</th>\n",
       "      <td>26.8</td>\n",
       "    </tr>\n",
       "    <tr>\n",
       "      <th>41</th>\n",
       "      <td>28.1</td>\n",
       "    </tr>\n",
       "    <tr>\n",
       "      <th>42</th>\n",
       "      <td>29.3</td>\n",
       "    </tr>\n",
       "    <tr>\n",
       "      <th>43</th>\n",
       "      <td>29.0</td>\n",
       "    </tr>\n",
       "    <tr>\n",
       "      <th>44</th>\n",
       "      <td>28.7</td>\n",
       "    </tr>\n",
       "    <tr>\n",
       "      <th>45</th>\n",
       "      <td>28.4</td>\n",
       "    </tr>\n",
       "    <tr>\n",
       "      <th>46</th>\n",
       "      <td>28.3</td>\n",
       "    </tr>\n",
       "    <tr>\n",
       "      <th>47</th>\n",
       "      <td>28.1</td>\n",
       "    </tr>\n",
       "  </tbody>\n",
       "</table>\n",
       "</div>"
      ],
      "text/plain": [
       "       0\n",
       "0   26.8\n",
       "1   26.6\n",
       "2   26.3\n",
       "3   26.1\n",
       "4   26.1\n",
       "5   26.2\n",
       "6   26.2\n",
       "7   27.8\n",
       "8   29.5\n",
       "9   31.1\n",
       "10  31.7\n",
       "11  32.2\n",
       "12  32.8\n",
       "13  32.8\n",
       "14  32.9\n",
       "15  32.9\n",
       "16  32.1\n",
       "17  31.3\n",
       "18  30.5\n",
       "19  30.0\n",
       "20  29.5\n",
       "21  29.0\n",
       "22  29.2\n",
       "23  29.3\n",
       "24  29.5\n",
       "25  29.1\n",
       "26  28.6\n",
       "27  28.2\n",
       "28  28.0\n",
       "29  27.9\n",
       "30  27.7\n",
       "31  29.1\n",
       "32  30.5\n",
       "33  31.9\n",
       "34  32.6\n",
       "35  33.2\n",
       "36  33.9\n",
       "37  31.1\n",
       "38  28.4\n",
       "39  25.6\n",
       "40  26.8\n",
       "41  28.1\n",
       "42  29.3\n",
       "43  29.0\n",
       "44  28.7\n",
       "45  28.4\n",
       "46  28.3\n",
       "47  28.1"
      ]
     },
     "execution_count": 55,
     "metadata": {},
     "output_type": "execute_result"
    }
   ],
   "source": [
    "df"
   ]
  },
  {
   "cell_type": "code",
   "execution_count": 56,
   "metadata": {
    "collapsed": true
   },
   "outputs": [],
   "source": [
    "df.index = dti"
   ]
  },
  {
   "cell_type": "code",
   "execution_count": 57,
   "metadata": {},
   "outputs": [
    {
     "data": {
      "text/html": [
       "<div>\n",
       "<style>\n",
       "    .dataframe thead tr:only-child th {\n",
       "        text-align: right;\n",
       "    }\n",
       "\n",
       "    .dataframe thead th {\n",
       "        text-align: left;\n",
       "    }\n",
       "\n",
       "    .dataframe tbody tr th {\n",
       "        vertical-align: top;\n",
       "    }\n",
       "</style>\n",
       "<table border=\"1\" class=\"dataframe\">\n",
       "  <thead>\n",
       "    <tr style=\"text-align: right;\">\n",
       "      <th></th>\n",
       "      <th>0</th>\n",
       "    </tr>\n",
       "  </thead>\n",
       "  <tbody>\n",
       "    <tr>\n",
       "      <th>2018-06-21 00:00:00</th>\n",
       "      <td>26.8</td>\n",
       "    </tr>\n",
       "    <tr>\n",
       "      <th>2018-06-21 01:00:00</th>\n",
       "      <td>26.6</td>\n",
       "    </tr>\n",
       "    <tr>\n",
       "      <th>2018-06-21 02:00:00</th>\n",
       "      <td>26.3</td>\n",
       "    </tr>\n",
       "    <tr>\n",
       "      <th>2018-06-21 03:00:00</th>\n",
       "      <td>26.1</td>\n",
       "    </tr>\n",
       "    <tr>\n",
       "      <th>2018-06-21 04:00:00</th>\n",
       "      <td>26.1</td>\n",
       "    </tr>\n",
       "    <tr>\n",
       "      <th>2018-06-21 05:00:00</th>\n",
       "      <td>26.2</td>\n",
       "    </tr>\n",
       "    <tr>\n",
       "      <th>2018-06-21 06:00:00</th>\n",
       "      <td>26.2</td>\n",
       "    </tr>\n",
       "    <tr>\n",
       "      <th>2018-06-21 07:00:00</th>\n",
       "      <td>27.8</td>\n",
       "    </tr>\n",
       "    <tr>\n",
       "      <th>2018-06-21 08:00:00</th>\n",
       "      <td>29.5</td>\n",
       "    </tr>\n",
       "    <tr>\n",
       "      <th>2018-06-21 09:00:00</th>\n",
       "      <td>31.1</td>\n",
       "    </tr>\n",
       "    <tr>\n",
       "      <th>2018-06-21 10:00:00</th>\n",
       "      <td>31.7</td>\n",
       "    </tr>\n",
       "    <tr>\n",
       "      <th>2018-06-21 11:00:00</th>\n",
       "      <td>32.2</td>\n",
       "    </tr>\n",
       "    <tr>\n",
       "      <th>2018-06-21 12:00:00</th>\n",
       "      <td>32.8</td>\n",
       "    </tr>\n",
       "    <tr>\n",
       "      <th>2018-06-21 13:00:00</th>\n",
       "      <td>32.8</td>\n",
       "    </tr>\n",
       "    <tr>\n",
       "      <th>2018-06-21 14:00:00</th>\n",
       "      <td>32.9</td>\n",
       "    </tr>\n",
       "    <tr>\n",
       "      <th>2018-06-21 15:00:00</th>\n",
       "      <td>32.9</td>\n",
       "    </tr>\n",
       "    <tr>\n",
       "      <th>2018-06-21 16:00:00</th>\n",
       "      <td>32.1</td>\n",
       "    </tr>\n",
       "    <tr>\n",
       "      <th>2018-06-21 17:00:00</th>\n",
       "      <td>31.3</td>\n",
       "    </tr>\n",
       "    <tr>\n",
       "      <th>2018-06-21 18:00:00</th>\n",
       "      <td>30.5</td>\n",
       "    </tr>\n",
       "    <tr>\n",
       "      <th>2018-06-21 19:00:00</th>\n",
       "      <td>30.0</td>\n",
       "    </tr>\n",
       "    <tr>\n",
       "      <th>2018-06-21 20:00:00</th>\n",
       "      <td>29.5</td>\n",
       "    </tr>\n",
       "    <tr>\n",
       "      <th>2018-06-21 21:00:00</th>\n",
       "      <td>29.0</td>\n",
       "    </tr>\n",
       "    <tr>\n",
       "      <th>2018-06-21 22:00:00</th>\n",
       "      <td>29.2</td>\n",
       "    </tr>\n",
       "    <tr>\n",
       "      <th>2018-06-21 23:00:00</th>\n",
       "      <td>29.3</td>\n",
       "    </tr>\n",
       "    <tr>\n",
       "      <th>2018-06-22 00:00:00</th>\n",
       "      <td>29.5</td>\n",
       "    </tr>\n",
       "    <tr>\n",
       "      <th>2018-06-22 01:00:00</th>\n",
       "      <td>29.1</td>\n",
       "    </tr>\n",
       "    <tr>\n",
       "      <th>2018-06-22 02:00:00</th>\n",
       "      <td>28.6</td>\n",
       "    </tr>\n",
       "    <tr>\n",
       "      <th>2018-06-22 03:00:00</th>\n",
       "      <td>28.2</td>\n",
       "    </tr>\n",
       "    <tr>\n",
       "      <th>2018-06-22 04:00:00</th>\n",
       "      <td>28.0</td>\n",
       "    </tr>\n",
       "    <tr>\n",
       "      <th>2018-06-22 05:00:00</th>\n",
       "      <td>27.9</td>\n",
       "    </tr>\n",
       "    <tr>\n",
       "      <th>2018-06-22 06:00:00</th>\n",
       "      <td>27.7</td>\n",
       "    </tr>\n",
       "    <tr>\n",
       "      <th>2018-06-22 07:00:00</th>\n",
       "      <td>29.1</td>\n",
       "    </tr>\n",
       "    <tr>\n",
       "      <th>2018-06-22 08:00:00</th>\n",
       "      <td>30.5</td>\n",
       "    </tr>\n",
       "    <tr>\n",
       "      <th>2018-06-22 09:00:00</th>\n",
       "      <td>31.9</td>\n",
       "    </tr>\n",
       "    <tr>\n",
       "      <th>2018-06-22 10:00:00</th>\n",
       "      <td>32.6</td>\n",
       "    </tr>\n",
       "    <tr>\n",
       "      <th>2018-06-22 11:00:00</th>\n",
       "      <td>33.2</td>\n",
       "    </tr>\n",
       "    <tr>\n",
       "      <th>2018-06-22 12:00:00</th>\n",
       "      <td>33.9</td>\n",
       "    </tr>\n",
       "    <tr>\n",
       "      <th>2018-06-22 13:00:00</th>\n",
       "      <td>31.1</td>\n",
       "    </tr>\n",
       "    <tr>\n",
       "      <th>2018-06-22 14:00:00</th>\n",
       "      <td>28.4</td>\n",
       "    </tr>\n",
       "    <tr>\n",
       "      <th>2018-06-22 15:00:00</th>\n",
       "      <td>25.6</td>\n",
       "    </tr>\n",
       "    <tr>\n",
       "      <th>2018-06-22 16:00:00</th>\n",
       "      <td>26.8</td>\n",
       "    </tr>\n",
       "    <tr>\n",
       "      <th>2018-06-22 17:00:00</th>\n",
       "      <td>28.1</td>\n",
       "    </tr>\n",
       "    <tr>\n",
       "      <th>2018-06-22 18:00:00</th>\n",
       "      <td>29.3</td>\n",
       "    </tr>\n",
       "    <tr>\n",
       "      <th>2018-06-22 19:00:00</th>\n",
       "      <td>29.0</td>\n",
       "    </tr>\n",
       "    <tr>\n",
       "      <th>2018-06-22 20:00:00</th>\n",
       "      <td>28.7</td>\n",
       "    </tr>\n",
       "    <tr>\n",
       "      <th>2018-06-22 21:00:00</th>\n",
       "      <td>28.4</td>\n",
       "    </tr>\n",
       "    <tr>\n",
       "      <th>2018-06-22 22:00:00</th>\n",
       "      <td>28.3</td>\n",
       "    </tr>\n",
       "    <tr>\n",
       "      <th>2018-06-22 23:00:00</th>\n",
       "      <td>28.1</td>\n",
       "    </tr>\n",
       "  </tbody>\n",
       "</table>\n",
       "</div>"
      ],
      "text/plain": [
       "                        0\n",
       "2018-06-21 00:00:00  26.8\n",
       "2018-06-21 01:00:00  26.6\n",
       "2018-06-21 02:00:00  26.3\n",
       "2018-06-21 03:00:00  26.1\n",
       "2018-06-21 04:00:00  26.1\n",
       "2018-06-21 05:00:00  26.2\n",
       "2018-06-21 06:00:00  26.2\n",
       "2018-06-21 07:00:00  27.8\n",
       "2018-06-21 08:00:00  29.5\n",
       "2018-06-21 09:00:00  31.1\n",
       "2018-06-21 10:00:00  31.7\n",
       "2018-06-21 11:00:00  32.2\n",
       "2018-06-21 12:00:00  32.8\n",
       "2018-06-21 13:00:00  32.8\n",
       "2018-06-21 14:00:00  32.9\n",
       "2018-06-21 15:00:00  32.9\n",
       "2018-06-21 16:00:00  32.1\n",
       "2018-06-21 17:00:00  31.3\n",
       "2018-06-21 18:00:00  30.5\n",
       "2018-06-21 19:00:00  30.0\n",
       "2018-06-21 20:00:00  29.5\n",
       "2018-06-21 21:00:00  29.0\n",
       "2018-06-21 22:00:00  29.2\n",
       "2018-06-21 23:00:00  29.3\n",
       "2018-06-22 00:00:00  29.5\n",
       "2018-06-22 01:00:00  29.1\n",
       "2018-06-22 02:00:00  28.6\n",
       "2018-06-22 03:00:00  28.2\n",
       "2018-06-22 04:00:00  28.0\n",
       "2018-06-22 05:00:00  27.9\n",
       "2018-06-22 06:00:00  27.7\n",
       "2018-06-22 07:00:00  29.1\n",
       "2018-06-22 08:00:00  30.5\n",
       "2018-06-22 09:00:00  31.9\n",
       "2018-06-22 10:00:00  32.6\n",
       "2018-06-22 11:00:00  33.2\n",
       "2018-06-22 12:00:00  33.9\n",
       "2018-06-22 13:00:00  31.1\n",
       "2018-06-22 14:00:00  28.4\n",
       "2018-06-22 15:00:00  25.6\n",
       "2018-06-22 16:00:00  26.8\n",
       "2018-06-22 17:00:00  28.1\n",
       "2018-06-22 18:00:00  29.3\n",
       "2018-06-22 19:00:00  29.0\n",
       "2018-06-22 20:00:00  28.7\n",
       "2018-06-22 21:00:00  28.4\n",
       "2018-06-22 22:00:00  28.3\n",
       "2018-06-22 23:00:00  28.1"
      ]
     },
     "execution_count": 57,
     "metadata": {},
     "output_type": "execute_result"
    }
   ],
   "source": [
    "df"
   ]
  },
  {
   "cell_type": "code",
   "execution_count": 58,
   "metadata": {
    "collapsed": true
   },
   "outputs": [],
   "source": [
    "df.columns = ['Outdoor Temperature']"
   ]
  },
  {
   "cell_type": "code",
   "execution_count": 59,
   "metadata": {},
   "outputs": [
    {
     "data": {
      "text/html": [
       "<div>\n",
       "<style>\n",
       "    .dataframe thead tr:only-child th {\n",
       "        text-align: right;\n",
       "    }\n",
       "\n",
       "    .dataframe thead th {\n",
       "        text-align: left;\n",
       "    }\n",
       "\n",
       "    .dataframe tbody tr th {\n",
       "        vertical-align: top;\n",
       "    }\n",
       "</style>\n",
       "<table border=\"1\" class=\"dataframe\">\n",
       "  <thead>\n",
       "    <tr style=\"text-align: right;\">\n",
       "      <th></th>\n",
       "      <th>Outdoor Temperature</th>\n",
       "    </tr>\n",
       "  </thead>\n",
       "  <tbody>\n",
       "    <tr>\n",
       "      <th>2018-06-21 00:00:00</th>\n",
       "      <td>26.8</td>\n",
       "    </tr>\n",
       "    <tr>\n",
       "      <th>2018-06-21 01:00:00</th>\n",
       "      <td>26.6</td>\n",
       "    </tr>\n",
       "    <tr>\n",
       "      <th>2018-06-21 02:00:00</th>\n",
       "      <td>26.3</td>\n",
       "    </tr>\n",
       "    <tr>\n",
       "      <th>2018-06-21 03:00:00</th>\n",
       "      <td>26.1</td>\n",
       "    </tr>\n",
       "    <tr>\n",
       "      <th>2018-06-21 04:00:00</th>\n",
       "      <td>26.1</td>\n",
       "    </tr>\n",
       "    <tr>\n",
       "      <th>2018-06-21 05:00:00</th>\n",
       "      <td>26.2</td>\n",
       "    </tr>\n",
       "    <tr>\n",
       "      <th>2018-06-21 06:00:00</th>\n",
       "      <td>26.2</td>\n",
       "    </tr>\n",
       "    <tr>\n",
       "      <th>2018-06-21 07:00:00</th>\n",
       "      <td>27.8</td>\n",
       "    </tr>\n",
       "    <tr>\n",
       "      <th>2018-06-21 08:00:00</th>\n",
       "      <td>29.5</td>\n",
       "    </tr>\n",
       "    <tr>\n",
       "      <th>2018-06-21 09:00:00</th>\n",
       "      <td>31.1</td>\n",
       "    </tr>\n",
       "    <tr>\n",
       "      <th>2018-06-21 10:00:00</th>\n",
       "      <td>31.7</td>\n",
       "    </tr>\n",
       "    <tr>\n",
       "      <th>2018-06-21 11:00:00</th>\n",
       "      <td>32.2</td>\n",
       "    </tr>\n",
       "    <tr>\n",
       "      <th>2018-06-21 12:00:00</th>\n",
       "      <td>32.8</td>\n",
       "    </tr>\n",
       "    <tr>\n",
       "      <th>2018-06-21 13:00:00</th>\n",
       "      <td>32.8</td>\n",
       "    </tr>\n",
       "    <tr>\n",
       "      <th>2018-06-21 14:00:00</th>\n",
       "      <td>32.9</td>\n",
       "    </tr>\n",
       "    <tr>\n",
       "      <th>2018-06-21 15:00:00</th>\n",
       "      <td>32.9</td>\n",
       "    </tr>\n",
       "    <tr>\n",
       "      <th>2018-06-21 16:00:00</th>\n",
       "      <td>32.1</td>\n",
       "    </tr>\n",
       "    <tr>\n",
       "      <th>2018-06-21 17:00:00</th>\n",
       "      <td>31.3</td>\n",
       "    </tr>\n",
       "    <tr>\n",
       "      <th>2018-06-21 18:00:00</th>\n",
       "      <td>30.5</td>\n",
       "    </tr>\n",
       "    <tr>\n",
       "      <th>2018-06-21 19:00:00</th>\n",
       "      <td>30.0</td>\n",
       "    </tr>\n",
       "    <tr>\n",
       "      <th>2018-06-21 20:00:00</th>\n",
       "      <td>29.5</td>\n",
       "    </tr>\n",
       "    <tr>\n",
       "      <th>2018-06-21 21:00:00</th>\n",
       "      <td>29.0</td>\n",
       "    </tr>\n",
       "    <tr>\n",
       "      <th>2018-06-21 22:00:00</th>\n",
       "      <td>29.2</td>\n",
       "    </tr>\n",
       "    <tr>\n",
       "      <th>2018-06-21 23:00:00</th>\n",
       "      <td>29.3</td>\n",
       "    </tr>\n",
       "    <tr>\n",
       "      <th>2018-06-22 00:00:00</th>\n",
       "      <td>29.5</td>\n",
       "    </tr>\n",
       "    <tr>\n",
       "      <th>2018-06-22 01:00:00</th>\n",
       "      <td>29.1</td>\n",
       "    </tr>\n",
       "    <tr>\n",
       "      <th>2018-06-22 02:00:00</th>\n",
       "      <td>28.6</td>\n",
       "    </tr>\n",
       "    <tr>\n",
       "      <th>2018-06-22 03:00:00</th>\n",
       "      <td>28.2</td>\n",
       "    </tr>\n",
       "    <tr>\n",
       "      <th>2018-06-22 04:00:00</th>\n",
       "      <td>28.0</td>\n",
       "    </tr>\n",
       "    <tr>\n",
       "      <th>2018-06-22 05:00:00</th>\n",
       "      <td>27.9</td>\n",
       "    </tr>\n",
       "    <tr>\n",
       "      <th>2018-06-22 06:00:00</th>\n",
       "      <td>27.7</td>\n",
       "    </tr>\n",
       "    <tr>\n",
       "      <th>2018-06-22 07:00:00</th>\n",
       "      <td>29.1</td>\n",
       "    </tr>\n",
       "    <tr>\n",
       "      <th>2018-06-22 08:00:00</th>\n",
       "      <td>30.5</td>\n",
       "    </tr>\n",
       "    <tr>\n",
       "      <th>2018-06-22 09:00:00</th>\n",
       "      <td>31.9</td>\n",
       "    </tr>\n",
       "    <tr>\n",
       "      <th>2018-06-22 10:00:00</th>\n",
       "      <td>32.6</td>\n",
       "    </tr>\n",
       "    <tr>\n",
       "      <th>2018-06-22 11:00:00</th>\n",
       "      <td>33.2</td>\n",
       "    </tr>\n",
       "    <tr>\n",
       "      <th>2018-06-22 12:00:00</th>\n",
       "      <td>33.9</td>\n",
       "    </tr>\n",
       "    <tr>\n",
       "      <th>2018-06-22 13:00:00</th>\n",
       "      <td>31.1</td>\n",
       "    </tr>\n",
       "    <tr>\n",
       "      <th>2018-06-22 14:00:00</th>\n",
       "      <td>28.4</td>\n",
       "    </tr>\n",
       "    <tr>\n",
       "      <th>2018-06-22 15:00:00</th>\n",
       "      <td>25.6</td>\n",
       "    </tr>\n",
       "    <tr>\n",
       "      <th>2018-06-22 16:00:00</th>\n",
       "      <td>26.8</td>\n",
       "    </tr>\n",
       "    <tr>\n",
       "      <th>2018-06-22 17:00:00</th>\n",
       "      <td>28.1</td>\n",
       "    </tr>\n",
       "    <tr>\n",
       "      <th>2018-06-22 18:00:00</th>\n",
       "      <td>29.3</td>\n",
       "    </tr>\n",
       "    <tr>\n",
       "      <th>2018-06-22 19:00:00</th>\n",
       "      <td>29.0</td>\n",
       "    </tr>\n",
       "    <tr>\n",
       "      <th>2018-06-22 20:00:00</th>\n",
       "      <td>28.7</td>\n",
       "    </tr>\n",
       "    <tr>\n",
       "      <th>2018-06-22 21:00:00</th>\n",
       "      <td>28.4</td>\n",
       "    </tr>\n",
       "    <tr>\n",
       "      <th>2018-06-22 22:00:00</th>\n",
       "      <td>28.3</td>\n",
       "    </tr>\n",
       "    <tr>\n",
       "      <th>2018-06-22 23:00:00</th>\n",
       "      <td>28.1</td>\n",
       "    </tr>\n",
       "  </tbody>\n",
       "</table>\n",
       "</div>"
      ],
      "text/plain": [
       "                     Outdoor Temperature\n",
       "2018-06-21 00:00:00                 26.8\n",
       "2018-06-21 01:00:00                 26.6\n",
       "2018-06-21 02:00:00                 26.3\n",
       "2018-06-21 03:00:00                 26.1\n",
       "2018-06-21 04:00:00                 26.1\n",
       "2018-06-21 05:00:00                 26.2\n",
       "2018-06-21 06:00:00                 26.2\n",
       "2018-06-21 07:00:00                 27.8\n",
       "2018-06-21 08:00:00                 29.5\n",
       "2018-06-21 09:00:00                 31.1\n",
       "2018-06-21 10:00:00                 31.7\n",
       "2018-06-21 11:00:00                 32.2\n",
       "2018-06-21 12:00:00                 32.8\n",
       "2018-06-21 13:00:00                 32.8\n",
       "2018-06-21 14:00:00                 32.9\n",
       "2018-06-21 15:00:00                 32.9\n",
       "2018-06-21 16:00:00                 32.1\n",
       "2018-06-21 17:00:00                 31.3\n",
       "2018-06-21 18:00:00                 30.5\n",
       "2018-06-21 19:00:00                 30.0\n",
       "2018-06-21 20:00:00                 29.5\n",
       "2018-06-21 21:00:00                 29.0\n",
       "2018-06-21 22:00:00                 29.2\n",
       "2018-06-21 23:00:00                 29.3\n",
       "2018-06-22 00:00:00                 29.5\n",
       "2018-06-22 01:00:00                 29.1\n",
       "2018-06-22 02:00:00                 28.6\n",
       "2018-06-22 03:00:00                 28.2\n",
       "2018-06-22 04:00:00                 28.0\n",
       "2018-06-22 05:00:00                 27.9\n",
       "2018-06-22 06:00:00                 27.7\n",
       "2018-06-22 07:00:00                 29.1\n",
       "2018-06-22 08:00:00                 30.5\n",
       "2018-06-22 09:00:00                 31.9\n",
       "2018-06-22 10:00:00                 32.6\n",
       "2018-06-22 11:00:00                 33.2\n",
       "2018-06-22 12:00:00                 33.9\n",
       "2018-06-22 13:00:00                 31.1\n",
       "2018-06-22 14:00:00                 28.4\n",
       "2018-06-22 15:00:00                 25.6\n",
       "2018-06-22 16:00:00                 26.8\n",
       "2018-06-22 17:00:00                 28.1\n",
       "2018-06-22 18:00:00                 29.3\n",
       "2018-06-22 19:00:00                 29.0\n",
       "2018-06-22 20:00:00                 28.7\n",
       "2018-06-22 21:00:00                 28.4\n",
       "2018-06-22 22:00:00                 28.3\n",
       "2018-06-22 23:00:00                 28.1"
      ]
     },
     "execution_count": 59,
     "metadata": {},
     "output_type": "execute_result"
    }
   ],
   "source": [
    "df"
   ]
  },
  {
   "cell_type": "code",
   "execution_count": 60,
   "metadata": {},
   "outputs": [
    {
     "data": {
      "text/plain": [
       "<matplotlib.axes._subplots.AxesSubplot at 0x20674fd5358>"
      ]
     },
     "execution_count": 60,
     "metadata": {},
     "output_type": "execute_result"
    },
    {
     "data": {
      "image/png": "[encoded data removed]",
      "text/plain": [
       "<matplotlib.figure.Figure at 0x20674913780>"
      ]
     },
     "metadata": {},
     "output_type": "display_data"
    }
   ],
   "source": [
    "df.plot()"
   ]
  },
  {
   "cell_type": "code",
   "execution_count": null,
   "metadata": {
    "collapsed": true
   },
   "outputs": [],
   "source": []
  },
  {
   "cell_type": "code",
   "execution_count": null,
   "metadata": {
    "collapsed": true
   },
   "outputs": [],
   "source": []
  },
  {
   "cell_type": "code",
   "execution_count": null,
   "metadata": {
    "collapsed": true
   },
   "outputs": [],
   "source": []
  },
  {
   "cell_type": "markdown",
   "metadata": {},
   "source": [
    "### Exercise\n",
    "\n",
    "* import csv file จาก './data/out_temp_21_22_June.csv' \n",
    "* พลอทกราฟแบบเส้นเพื่อแสดงอุณหภูมิภายนอกของวันที่ 21 และ 22 ทุกๆ 2 ชั่วโมง"
   ]
  },
  {
   "cell_type": "code",
   "execution_count": 92,
   "metadata": {
    "collapsed": true
   },
   "outputs": [],
   "source": [
    "df = pd.read_csv('./data/out_temp_21_22_June.csv', header = None)"
   ]
  },
  {
   "cell_type": "code",
   "execution_count": 63,
   "metadata": {
    "collapsed": true,
    "scrolled": true
   },
   "outputs": [],
   "source": [
    "df = df.drop(1, axis=1)"
   ]
  },
  {
   "cell_type": "code",
   "execution_count": 66,
   "metadata": {
    "collapsed": true
   },
   "outputs": [],
   "source": [
    "df.index= dti"
   ]
  },
  {
   "cell_type": "code",
   "execution_count": 69,
   "metadata": {
    "collapsed": true,
    "scrolled": true
   },
   "outputs": [],
   "source": [
    "df.columns = ['Out Temp']"
   ]
  },
  {
   "cell_type": "code",
   "execution_count": 72,
   "metadata": {},
   "outputs": [
    {
     "data": {
      "text/plain": [
       "<matplotlib.axes._subplots.AxesSubplot at 0x206750f2630>"
      ]
     },
     "execution_count": 72,
     "metadata": {},
     "output_type": "execute_result"
    },
    {
     "data": {
      "image/png": "[encoded data removed]",
      "text/plain": [
       "<matplotlib.figure.Figure at 0x20674f70630>"
      ]
     },
     "metadata": {},
     "output_type": "display_data"
    }
   ],
   "source": [
    "df[::2].plot()"
   ]
  },
  {
   "cell_type": "code",
   "execution_count": null,
   "metadata": {},
   "outputs": [],
   "source": []
  },
  {
   "cell_type": "code",
   "execution_count": null,
   "metadata": {
    "collapsed": true
   },
   "outputs": [],
   "source": []
  },
  {
   "cell_type": "code",
   "execution_count": null,
   "metadata": {
    "collapsed": true
   },
   "outputs": [],
   "source": []
  },
  {
   "cell_type": "code",
   "execution_count": null,
   "metadata": {
    "collapsed": true
   },
   "outputs": [],
   "source": []
  },
  {
   "cell_type": "code",
   "execution_count": null,
   "metadata": {
    "collapsed": true
   },
   "outputs": [],
   "source": []
  },
  {
   "cell_type": "markdown",
   "metadata": {},
   "source": [
    "### Solution"
   ]
  },
  {
   "cell_type": "code",
   "execution_count": null,
   "metadata": {
    "collapsed": true
   },
   "outputs": [],
   "source": [
    "df = pd.read_csv('../data/out_temp_21_22_June.csv', header = None)"
   ]
  },
  {
   "cell_type": "code",
   "execution_count": null,
   "metadata": {
    "collapsed": true
   },
   "outputs": [],
   "source": [
    "df.columns"
   ]
  },
  {
   "cell_type": "code",
   "execution_count": null,
   "metadata": {
    "collapsed": true
   },
   "outputs": [],
   "source": [
    "df = df.drop(1, axis=1)"
   ]
  },
  {
   "cell_type": "code",
   "execution_count": null,
   "metadata": {
    "collapsed": true
   },
   "outputs": [],
   "source": [
    "df.index = dti\n",
    "df.columns = ['Outside Temperature(C)']"
   ]
  },
  {
   "cell_type": "code",
   "execution_count": null,
   "metadata": {
    "collapsed": true
   },
   "outputs": [],
   "source": [
    "df.head()"
   ]
  },
  {
   "cell_type": "code",
   "execution_count": null,
   "metadata": {
    "collapsed": true
   },
   "outputs": [],
   "source": [
    "df.plot()"
   ]
  },
  {
   "cell_type": "code",
   "execution_count": null,
   "metadata": {
    "collapsed": true
   },
   "outputs": [],
   "source": []
  },
  {
   "cell_type": "code",
   "execution_count": null,
   "metadata": {
    "collapsed": true
   },
   "outputs": [],
   "source": []
  },
  {
   "cell_type": "code",
   "execution_count": null,
   "metadata": {
    "collapsed": true
   },
   "outputs": [],
   "source": [
    "# Read Excel File"
   ]
  },
  {
   "cell_type": "code",
   "execution_count": 73,
   "metadata": {
    "collapsed": true
   },
   "outputs": [],
   "source": [
    "df = pd.read_excel('./data/time_sheet.xlsx')"
   ]
  },
  {
   "cell_type": "code",
   "execution_count": 74,
   "metadata": {},
   "outputs": [
    {
     "data": {
      "text/html": [
       "<div>\n",
       "<style>\n",
       "    .dataframe thead tr:only-child th {\n",
       "        text-align: right;\n",
       "    }\n",
       "\n",
       "    .dataframe thead th {\n",
       "        text-align: left;\n",
       "    }\n",
       "\n",
       "    .dataframe tbody tr th {\n",
       "        vertical-align: top;\n",
       "    }\n",
       "</style>\n",
       "<table border=\"1\" class=\"dataframe\">\n",
       "  <thead>\n",
       "    <tr style=\"text-align: right;\">\n",
       "      <th></th>\n",
       "      <th>CD</th>\n",
       "      <th>PD</th>\n",
       "      <th>DD</th>\n",
       "      <th>ConsD</th>\n",
       "      <th>Total</th>\n",
       "      <th>Income</th>\n",
       "    </tr>\n",
       "  </thead>\n",
       "  <tbody>\n",
       "    <tr>\n",
       "      <th>KHKY</th>\n",
       "      <td>5</td>\n",
       "      <td>15</td>\n",
       "      <td>30</td>\n",
       "      <td>30</td>\n",
       "      <td>80</td>\n",
       "      <td>120000</td>\n",
       "    </tr>\n",
       "    <tr>\n",
       "      <th>CHMP</th>\n",
       "      <td>3</td>\n",
       "      <td>40</td>\n",
       "      <td>11</td>\n",
       "      <td>0</td>\n",
       "      <td>54</td>\n",
       "      <td>75000</td>\n",
       "    </tr>\n",
       "    <tr>\n",
       "      <th>SCHH</th>\n",
       "      <td>2</td>\n",
       "      <td>30</td>\n",
       "      <td>20</td>\n",
       "      <td>20</td>\n",
       "      <td>72</td>\n",
       "      <td>90000</td>\n",
       "    </tr>\n",
       "  </tbody>\n",
       "</table>\n",
       "</div>"
      ],
      "text/plain": [
       "      CD  PD  DD  ConsD  Total  Income\n",
       "KHKY   5  15  30     30     80  120000\n",
       "CHMP   3  40  11      0     54   75000\n",
       "SCHH   2  30  20     20     72   90000"
      ]
     },
     "execution_count": 74,
     "metadata": {},
     "output_type": "execute_result"
    }
   ],
   "source": [
    "df"
   ]
  },
  {
   "cell_type": "code",
   "execution_count": 83,
   "metadata": {},
   "outputs": [
    {
     "data": {
      "text/html": [
       "<div>\n",
       "<style>\n",
       "    .dataframe thead tr:only-child th {\n",
       "        text-align: right;\n",
       "    }\n",
       "\n",
       "    .dataframe thead th {\n",
       "        text-align: left;\n",
       "    }\n",
       "\n",
       "    .dataframe tbody tr th {\n",
       "        vertical-align: top;\n",
       "    }\n",
       "</style>\n",
       "<table border=\"1\" class=\"dataframe\">\n",
       "  <thead>\n",
       "    <tr style=\"text-align: right;\">\n",
       "      <th></th>\n",
       "      <th>CD</th>\n",
       "      <th>PD</th>\n",
       "      <th>DD</th>\n",
       "      <th>ConsD</th>\n",
       "    </tr>\n",
       "  </thead>\n",
       "  <tbody>\n",
       "    <tr>\n",
       "      <th>KHKY</th>\n",
       "      <td>5</td>\n",
       "      <td>15</td>\n",
       "      <td>30</td>\n",
       "      <td>30</td>\n",
       "    </tr>\n",
       "    <tr>\n",
       "      <th>CHMP</th>\n",
       "      <td>3</td>\n",
       "      <td>40</td>\n",
       "      <td>11</td>\n",
       "      <td>0</td>\n",
       "    </tr>\n",
       "    <tr>\n",
       "      <th>SCHH</th>\n",
       "      <td>2</td>\n",
       "      <td>30</td>\n",
       "      <td>20</td>\n",
       "      <td>20</td>\n",
       "    </tr>\n",
       "  </tbody>\n",
       "</table>\n",
       "</div>"
      ],
      "text/plain": [
       "      CD  PD  DD  ConsD\n",
       "KHKY   5  15  30     30\n",
       "CHMP   3  40  11      0\n",
       "SCHH   2  30  20     20"
      ]
     },
     "execution_count": 83,
     "metadata": {},
     "output_type": "execute_result"
    }
   ],
   "source": [
    "df.iloc[:,:4]"
   ]
  },
  {
   "cell_type": "code",
   "execution_count": 86,
   "metadata": {},
   "outputs": [
    {
     "data": {
      "text/plain": [
       "<matplotlib.axes._subplots.AxesSubplot at 0x206751fc6a0>"
      ]
     },
     "execution_count": 86,
     "metadata": {},
     "output_type": "execute_result"
    },
    {
     "data": {
      "image/png": "[encoded data removed]",
      "text/plain": [
       "<matplotlib.figure.Figure at 0x20675073978>"
      ]
     },
     "metadata": {},
     "output_type": "display_data"
    }
   ],
   "source": [
    "df.iloc[:,:4].plot(kind='bar', legend=False)"
   ]
  },
  {
   "cell_type": "code",
   "execution_count": 89,
   "metadata": {},
   "outputs": [
    {
     "data": {
      "text/plain": [
       "<matplotlib.axes._subplots.AxesSubplot at 0x206752c5a90>"
      ]
     },
     "execution_count": 89,
     "metadata": {},
     "output_type": "execute_result"
    },
    {
     "data": {
      "image/png": "[encoded data removed]",
      "text/plain": [
       "<matplotlib.figure.Figure at 0x206752c3828>"
      ]
     },
     "metadata": {},
     "output_type": "display_data"
    }
   ],
   "source": [
    "df.sort_values('Total', ascending=False)['Total'].plot(kind='bar')"
   ]
  },
  {
   "cell_type": "code",
   "execution_count": 90,
   "metadata": {},
   "outputs": [
    {
     "data": {
      "text/plain": [
       "KHKY    1500.000000\n",
       "CHMP    1388.888889\n",
       "SCHH    1250.000000\n",
       "dtype: float64"
      ]
     },
     "execution_count": 90,
     "metadata": {},
     "output_type": "execute_result"
    }
   ],
   "source": [
    "df['Income'] / df['Total']"
   ]
  },
  {
   "cell_type": "code",
   "execution_count": 91,
   "metadata": {},
   "outputs": [
    {
     "data": {
      "text/plain": [
       "<matplotlib.axes._subplots.AxesSubplot at 0x206752e06a0>"
      ]
     },
     "execution_count": 91,
     "metadata": {},
     "output_type": "execute_result"
    },
    {
     "data": {
      "image/png": "[encoded data removed]",
      "text/plain": [
       "<matplotlib.figure.Figure at 0x206762cc630>"
      ]
     },
     "metadata": {},
     "output_type": "display_data"
    }
   ],
   "source": [
    "(df['Income'] / df['Total']).plot(kind='bar')"
   ]
  },
  {
   "cell_type": "code",
   "execution_count": null,
   "metadata": {
    "collapsed": true
   },
   "outputs": [],
   "source": []
  }
 ],
 "metadata": {
  "kernelspec": {
   "display_name": "Python [conda env:Anaconda3]",
   "language": "python",
   "name": "conda-env-Anaconda3-py"
  },
  "language_info": {
   "codemirror_mode": {
    "name": "ipython",
    "version": 3
   },
   "file_extension": ".py",
   "mimetype": "text/x-python",
   "name": "python",
   "nbconvert_exporter": "python",
   "pygments_lexer": "ipython3",
   "version": "3.5.4"
  },
  "toc": {
   "nav_menu": {},
   "number_sections": true,
   "sideBar": true,
   "skip_h1_title": false,
   "toc_cell": false,
   "toc_position": {},
   "toc_section_display": "block",
   "toc_window_display": true
  }
 },
 "nbformat": 4,
 "nbformat_minor": 2
}
